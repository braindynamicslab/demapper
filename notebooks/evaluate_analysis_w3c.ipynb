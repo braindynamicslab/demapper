{
 "cells": [
  {
   "cell_type": "code",
   "execution_count": 1,
   "id": "4fd7a273",
   "metadata": {},
   "outputs": [],
   "source": [
    "%matplotlib inline\n",
    "# %matplotlib widget"
   ]
  },
  {
   "cell_type": "markdown",
   "id": "31775b7a",
   "metadata": {},
   "source": [
    "# Analysis of subjects"
   ]
  },
  {
   "cell_type": "code",
   "execution_count": 2,
   "id": "21a05aba",
   "metadata": {},
   "outputs": [],
   "source": [
    "import csv\n",
    "import os\n",
    "import numpy as np\n",
    "from tqdm import tqdm\n",
    "\n",
    "import matplotlib.pyplot as plt\n",
    "import pandas as pd\n",
    "import seaborn as sns\n",
    "\n",
    "sns.set(rc={'figure.facecolor':'white'})"
   ]
  },
  {
   "cell_type": "code",
   "execution_count": 3,
   "id": "a1e0f744",
   "metadata": {},
   "outputs": [],
   "source": [
    "from demapper.code.utils.analyze import extract_dataset, get_all_parameters, plot_results, plot_limits\n",
    "from demapper.code.utils.config_w3c import DATASETS, FILTERS, get_plot_columns, extract_params_f\n",
    "\n",
    "circle_loss_threshold = 10.0"
   ]
  },
  {
   "cell_type": "markdown",
   "id": "50f5fed7",
   "metadata": {},
   "source": [
    "### Run for one dataset"
   ]
  },
  {
   "cell_type": "code",
   "execution_count": 5,
   "id": "035c7421",
   "metadata": {},
   "outputs": [
    {
     "name": "stdout",
     "output_type": "stream",
     "text": [
      "len(stats):  10080\n",
      "len(results):  10080\n",
      "Total 14 subjects:\n",
      "SBJ20\n",
      "SBJ20-50.0\n",
      "SBJ20-75.0\n",
      "SBJ20-83.0\n",
      "SBJ21\n",
      "SBJ40\n",
      "SBJ40-50.0\n",
      "SBJ40-75.0\n",
      "SBJ40-83.0\n",
      "SBJ41\n",
      "SBJ99\n",
      "SBJ99-50.0\n",
      "SBJ99-75.0\n",
      "SBJ99-83.0\n",
      "Extra combinations:\n",
      "SBJ2x : ['SBJ20', 'SBJ21']\n",
      "SBJ4x : ['SBJ40', 'SBJ41', 'SBJ42', 'SBJ43']\n",
      "SBJxx-50 : ['SBJ20-50.0', 'SBJ40-50.0', 'SBJ99-50.0']\n",
      "SBJxx-75 : ['SBJ20-75.0', 'SBJ40-75.0', 'SBJ99-75.0']\n",
      "SBJxx-83 : ['SBJ20-83.0', 'SBJ40-83.0', 'SBJ99-83.0']\n",
      "SBJxx-99 : ['SBJ20', 'SBJ40', 'SBJ99']\n",
      "{'CircleLoss': 53.699999999999996, 'TransitionBetweeness': 28.5}\n"
     ]
    },
    {
     "data": {
      "text/html": [
       "<div>\n",
       "<style scoped>\n",
       "    .dataframe tbody tr th:only-of-type {\n",
       "        vertical-align: middle;\n",
       "    }\n",
       "\n",
       "    .dataframe tbody tr th {\n",
       "        vertical-align: top;\n",
       "    }\n",
       "\n",
       "    .dataframe thead th {\n",
       "        text-align: right;\n",
       "    }\n",
       "</style>\n",
       "<table border=\"1\" class=\"dataframe\">\n",
       "  <thead>\n",
       "    <tr style=\"text-align: right;\">\n",
       "      <th></th>\n",
       "      <th>Mapper</th>\n",
       "      <th>SBJ</th>\n",
       "      <th>preptype</th>\n",
       "      <th>dist</th>\n",
       "      <th>K</th>\n",
       "      <th>R</th>\n",
       "      <th>G</th>\n",
       "      <th>linkbins</th>\n",
       "      <th>CircleLoss</th>\n",
       "      <th>TransitionBetweeness</th>\n",
       "      <th>coverage_nodes</th>\n",
       "      <th>coverage_TRs</th>\n",
       "      <th>hrfdur_stat</th>\n",
       "      <th>distances_max</th>\n",
       "      <th>distances_entropy</th>\n",
       "      <th>assortativity</th>\n",
       "      <th>degree_TRs_avg</th>\n",
       "      <th>degree_TRs_entropy</th>\n",
       "    </tr>\n",
       "  </thead>\n",
       "  <tbody>\n",
       "    <tr>\n",
       "      <th>4881</th>\n",
       "      <td>CustomBDLMapper_PCA_euclidean_48_20_55_10</td>\n",
       "      <td>SBJ41</td>\n",
       "      <td>PCA</td>\n",
       "      <td>euclidean</td>\n",
       "      <td>48</td>\n",
       "      <td>20</td>\n",
       "      <td>55</td>\n",
       "      <td>10</td>\n",
       "      <td>53.700000</td>\n",
       "      <td>28.5</td>\n",
       "      <td>0.735043</td>\n",
       "      <td>0.615477</td>\n",
       "      <td>0.521368</td>\n",
       "      <td>23.0</td>\n",
       "      <td>4.01875</td>\n",
       "      <td>0.212788</td>\n",
       "      <td>75.5009</td>\n",
       "      <td>5.61877</td>\n",
       "    </tr>\n",
       "    <tr>\n",
       "      <th>8778</th>\n",
       "      <td>CustomBDLMapper_none_cosine_32_30_70_20</td>\n",
       "      <td>SBJ20</td>\n",
       "      <td>none</td>\n",
       "      <td>cosine</td>\n",
       "      <td>32</td>\n",
       "      <td>30</td>\n",
       "      <td>70</td>\n",
       "      <td>20</td>\n",
       "      <td>5.406250</td>\n",
       "      <td>28.5</td>\n",
       "      <td>0.881757</td>\n",
       "      <td>0.985603</td>\n",
       "      <td>0.472973</td>\n",
       "      <td>15.0</td>\n",
       "      <td>3.34852</td>\n",
       "      <td>0.186494</td>\n",
       "      <td>317.0320</td>\n",
       "      <td>4.90179</td>\n",
       "    </tr>\n",
       "    <tr>\n",
       "      <th>997</th>\n",
       "      <td>CustomBDLMapper_PCA_chebychev_48_30_85_20</td>\n",
       "      <td>SBJ20-83.0</td>\n",
       "      <td>PCA</td>\n",
       "      <td>chebychev</td>\n",
       "      <td>48</td>\n",
       "      <td>30</td>\n",
       "      <td>85</td>\n",
       "      <td>20</td>\n",
       "      <td>3.638314</td>\n",
       "      <td>28.5</td>\n",
       "      <td>1.000000</td>\n",
       "      <td>1.000000</td>\n",
       "      <td>0.585526</td>\n",
       "      <td>12.0</td>\n",
       "      <td>3.12809</td>\n",
       "      <td>0.237880</td>\n",
       "      <td>1330.4100</td>\n",
       "      <td>6.58716</td>\n",
       "    </tr>\n",
       "    <tr>\n",
       "      <th>6943</th>\n",
       "      <td>CustomBDLMapper_none_cityblock_48_20_70_20</td>\n",
       "      <td>SBJ99-83.0</td>\n",
       "      <td>none</td>\n",
       "      <td>cityblock</td>\n",
       "      <td>48</td>\n",
       "      <td>20</td>\n",
       "      <td>70</td>\n",
       "      <td>20</td>\n",
       "      <td>53.700000</td>\n",
       "      <td>28.5</td>\n",
       "      <td>0.769874</td>\n",
       "      <td>0.556761</td>\n",
       "      <td>0.343096</td>\n",
       "      <td>19.0</td>\n",
       "      <td>3.59203</td>\n",
       "      <td>0.366276</td>\n",
       "      <td>122.4460</td>\n",
       "      <td>5.85922</td>\n",
       "    </tr>\n",
       "    <tr>\n",
       "      <th>8925</th>\n",
       "      <td>CustomBDLMapper_none_cosine_48_20_55_20</td>\n",
       "      <td>SBJ40-75.0</td>\n",
       "      <td>none</td>\n",
       "      <td>cosine</td>\n",
       "      <td>48</td>\n",
       "      <td>20</td>\n",
       "      <td>55</td>\n",
       "      <td>20</td>\n",
       "      <td>5.000000</td>\n",
       "      <td>28.5</td>\n",
       "      <td>0.776471</td>\n",
       "      <td>0.987200</td>\n",
       "      <td>0.435294</td>\n",
       "      <td>10.0</td>\n",
       "      <td>3.01463</td>\n",
       "      <td>0.324605</td>\n",
       "      <td>39.7880</td>\n",
       "      <td>3.35686</td>\n",
       "    </tr>\n",
       "  </tbody>\n",
       "</table>\n",
       "</div>"
      ],
      "text/plain": [
       "                                          Mapper         SBJ preptype  \\\n",
       "4881   CustomBDLMapper_PCA_euclidean_48_20_55_10       SBJ41      PCA   \n",
       "8778     CustomBDLMapper_none_cosine_32_30_70_20       SBJ20     none   \n",
       "997    CustomBDLMapper_PCA_chebychev_48_30_85_20  SBJ20-83.0      PCA   \n",
       "6943  CustomBDLMapper_none_cityblock_48_20_70_20  SBJ99-83.0     none   \n",
       "8925     CustomBDLMapper_none_cosine_48_20_55_20  SBJ40-75.0     none   \n",
       "\n",
       "           dist   K   R   G  linkbins  CircleLoss  TransitionBetweeness  \\\n",
       "4881  euclidean  48  20  55        10   53.700000                  28.5   \n",
       "8778     cosine  32  30  70        20    5.406250                  28.5   \n",
       "997   chebychev  48  30  85        20    3.638314                  28.5   \n",
       "6943  cityblock  48  20  70        20   53.700000                  28.5   \n",
       "8925     cosine  48  20  55        20    5.000000                  28.5   \n",
       "\n",
       "      coverage_nodes  coverage_TRs  hrfdur_stat  distances_max  \\\n",
       "4881        0.735043      0.615477     0.521368           23.0   \n",
       "8778        0.881757      0.985603     0.472973           15.0   \n",
       "997         1.000000      1.000000     0.585526           12.0   \n",
       "6943        0.769874      0.556761     0.343096           19.0   \n",
       "8925        0.776471      0.987200     0.435294           10.0   \n",
       "\n",
       "      distances_entropy  assortativity  degree_TRs_avg  degree_TRs_entropy  \n",
       "4881            4.01875       0.212788         75.5009             5.61877  \n",
       "8778            3.34852       0.186494        317.0320             4.90179  \n",
       "997             3.12809       0.237880       1330.4100             6.58716  \n",
       "6943            3.59203       0.366276        122.4460             5.85922  \n",
       "8925            3.01463       0.324605         39.7880             3.35686  "
      ]
     },
     "execution_count": 5,
     "metadata": {},
     "output_type": "execute_result"
    }
   ],
   "source": [
    "PICKED_DATASET = 'ss_w3cv5'\n",
    "\n",
    "datadir = DATASETS[PICKED_DATASET]\n",
    "stats_path = os.path.join(datadir, 'compute_stats-combined.csv')\n",
    "results_path = os.path.join(datadir, 'scores-all.csv')\n",
    "\n",
    "filter_by = FILTERS[PICKED_DATASET][0]\n",
    "df, max_values = extract_dataset(stats_path, results_path, filter_by, extract_params_f)\n",
    "\n",
    "resdir = datadir\n",
    "if len(FILTERS[PICKED_DATASET]) > 1:\n",
    "    resdir = os.path.join(datadir, filter_by)\n",
    "    os.makedirs(resdir, exist_ok=True)\n",
    "\n",
    "\n",
    "all_sbjs, sbjs_map = get_all_parameters(df, PICKED_DATASET)\n",
    "\n",
    "print(max_values)\n",
    "df.sample(5)"
   ]
  },
  {
   "cell_type": "code",
   "execution_count": null,
   "id": "c19fc4b5",
   "metadata": {},
   "outputs": [],
   "source": []
  },
  {
   "cell_type": "code",
   "execution_count": null,
   "id": "85121ffd",
   "metadata": {},
   "outputs": [],
   "source": []
  },
  {
   "cell_type": "code",
   "execution_count": 137,
   "id": "69faee00",
   "metadata": {
    "scrolled": false
   },
   "outputs": [],
   "source": [
    "\n",
    "target_metrics = ['CircleLossRev', 'TransitionBetweenessRev', 'coverage_nodes', 'hrfdur_stat', 'distances_entropy']\n",
    "log_metrics = ['CircleLossRev', 'TransitionBetweenessRev']\n",
    "\n",
    "df['CircleLossRev'] = df.apply(lambda x: 1.0 / x['CircleLoss'] if x['CircleLoss'] > 0 else 100, axis=1)\n",
    "df['TransitionBetweenessRev'] = df.apply(lambda x: 1.0 / (x['TransitionBetweeness'] + 1), axis=1)\n",
    "\n",
    "\n",
    "plot_results(df, 'SBJ99_KRG', ['SBJ99'], 'K', 'R', 'G', target_metrics, log_metrics, resdir=resdir)\n",
    "\n",
    "# for sbj_group_name, sbj_group in tqdm(sbjs_map.items()):\n",
    "#     plot_results(df, sbj_group_name, sbj_group, fixedV, indexV, colV, target_metrics, log_metrics, resdir=resdir)\n",
    "    "
   ]
  },
  {
   "cell_type": "code",
   "execution_count": 23,
   "id": "b0d83b78",
   "metadata": {
    "scrolled": false
   },
   "outputs": [
    {
     "name": "stderr",
     "output_type": "stream",
     "text": [
      "100%|█████████████████████████████████████████████████████████████████████████████████████| 20/20 [03:01<00:00,  9.10s/it]\n"
     ]
    }
   ],
   "source": [
    "# Plot limits\n",
    "\n",
    "target_metrics = {\n",
    "    'CircleLoss': [0, circle_loss_threshold],\n",
    "    'TransitionBetweeness': [0, max_values['TransitionBetweeness'] * 0.99],\n",
    "    'coverage_nodes': [0.7, 1.0],\n",
    "#     'hrfdur_stat': [0.15, 1.0],\n",
    "    'distances_entropy': [2.0, 10000.0]\n",
    "}\n",
    "\n",
    "fixedV, indexV, colV = get_plot_columns(filter_by)\n",
    "\n",
    "for sbj_group_name, sbj_group in tqdm(sbjs_map.items()):\n",
    "    plot_limits(df, sbj_group_name, sbj_group, fixedV, indexV, colV, target_metrics, resdir=resdir)\n",
    "    \n"
   ]
  },
  {
   "cell_type": "code",
   "execution_count": null,
   "id": "6cb5b970",
   "metadata": {},
   "outputs": [],
   "source": []
  },
  {
   "cell_type": "code",
   "execution_count": null,
   "id": "32b9b62e",
   "metadata": {},
   "outputs": [],
   "source": []
  },
  {
   "cell_type": "markdown",
   "id": "d9b9c559",
   "metadata": {},
   "source": [
    "## Recompute for all analysis that we have"
   ]
  },
  {
   "cell_type": "code",
   "execution_count": 8,
   "id": "57260662",
   "metadata": {
    "scrolled": false
   },
   "outputs": [
    {
     "name": "stdout",
     "output_type": "stream",
     "text": [
      "======= Processing hightr_w3cv4euc\n",
      "len(stats):  4200\n",
      "len(results):  4200\n"
     ]
    },
    {
     "name": "stderr",
     "output_type": "stream",
     "text": [
      "plot_limits: 100%|██████████████████████████████████████████████████████████████████████| 9/9 [01:16<00:00,  8.54s/it]\n"
     ]
    }
   ],
   "source": [
    "\n",
    "target_metrics = ['CircleLossRev', 'TransitionBetweenessRev', 'coverage_nodes', 'hrfdur_stat', 'distances_entropy']\n",
    "log_metrics = ['CircleLossRev', 'TransitionBetweenessRev']\n",
    "\n",
    "circle_loss_threshold = 2.0\n",
    "\n",
    "target_metrics_limits = {\n",
    "#     'CircleLoss': [0, circle_loss_threshold],\n",
    "#     'TransitionBetweeness': [0, max_values['TransitionBetweeness'] * 0.99], # Need the data first, add later\n",
    "    'coverage_nodes': [0.7, 1.0],\n",
    "    'distances_entropy': [2.0, 10000.0]\n",
    "}\n",
    "\n",
    "#     'hrfdur_stat': [0.15, 1.0], # SKip using hrfdurstat since it doesn't have an impact at >= 15%\n",
    "\n",
    "# hightr_w3cv2  ss_w3cv5\n",
    "\n",
    "for dataset_name in DATASETS.keys():\n",
    "#     if dataset_name not in ['wnoise_w3cv4', 'wnoise_w3cv5', 'wnoise_w3cv6']:\n",
    "    if dataset_name not in ['hightr_w3cv4euc']:\n",
    "        continue\n",
    "    print('======= Processing', dataset_name)\n",
    "    datadir = DATASETS[dataset_name]\n",
    "    stats_path = os.path.join(datadir, 'compute_stats-combined.csv')\n",
    "    results_path = os.path.join(datadir, 'scores-all.csv')\n",
    "\n",
    "    try:\n",
    "        for filter_by in FILTERS[dataset_name]:\n",
    "            resdir = datadir\n",
    "            if len(FILTERS[dataset_name]) > 1:\n",
    "                resdir = os.path.join(datadir, filter_by)\n",
    "                os.makedirs(resdir, exist_ok=True)\n",
    "            df, max_values = extract_dataset(stats_path, results_path, filter_by, extract_params_f)\n",
    "            all_sbjs, sbjs_map = get_all_parameters(df, dataset_name, silent=True)\n",
    "\n",
    "            fixedV, indexV, colV = get_plot_columns(filter_by)\n",
    "\n",
    "            df['CircleLossRev'] = df.apply(lambda x: 1.0 / x['CircleLoss'] if x['CircleLoss'] > 0 else 100, axis=1)\n",
    "            df['TransitionBetweenessRev'] = df.apply(lambda x: 1.0 / (x['TransitionBetweeness'] + 1), axis=1)    \n",
    "#             for sbj_group_name, sbj_group in tqdm(sbjs_map.items(), desc='plot_results'):\n",
    "#                 plot_results(df, sbj_group_name, sbj_group, fixedV, indexV, colV, target_metrics, log_metrics, resdir=resdir)\n",
    "\n",
    "            target_metrics_limits['TransitionBetweeness'] = [0.0, max_values['TransitionBetweeness'] * 0.99]\n",
    "            for sbj_group_name, sbj_group in tqdm(sbjs_map.items(), desc='plot_limits'):\n",
    "                plot_limits(df, sbj_group_name, sbj_group, fixedV, indexV, colV, target_metrics_limits, resdir=resdir)\n",
    "    except Exception as err:\n",
    "        print(\"Warning! Didn't process '{}' because:\".format(dataset_name))\n",
    "        print(err)\n",
    "        raise err"
   ]
  },
  {
   "cell_type": "code",
   "execution_count": null,
   "id": "c4564017-99fa-45f2-b599-5dc6dee7fe16",
   "metadata": {},
   "outputs": [],
   "source": []
  },
  {
   "cell_type": "code",
   "execution_count": null,
   "id": "07c0fb81-62e9-47a6-8e53-42dcd6568451",
   "metadata": {},
   "outputs": [],
   "source": []
  },
  {
   "cell_type": "markdown",
   "id": "faa0e478",
   "metadata": {},
   "source": [
    "### Create links to download and then create a grid"
   ]
  },
  {
   "cell_type": "code",
   "execution_count": 7,
   "id": "4be307d9",
   "metadata": {},
   "outputs": [],
   "source": [
    "\n",
    "REMOTE_DATASET_PATHS = {\n",
    "    'ss_w3cv1': '/scratch/groups/saggar/demapper-w3c/mappers_w3cv1.json',\n",
    "    'ss_w3cv2': '/scratch/groups/saggar/demapper-w3c/mappers_w3cv2.json',\n",
    "    'ss_w3cv3': '/scratch/groups/saggar/demapper-w3c/mappers_w3cv3.json',\n",
    "    'ss_w3cv4': '/scratch/groups/saggar/demapper-w3c/mappers_w3cv4.json',\n",
    "    'ss_w3cv5': '/scratch/groups/saggar/demapper-w3c/mappers_w3cv5dist.json',\n",
    "    'ss_w3cv6': '/scratch/groups/saggar/demapper-w3c/mappers_w3cv6dist.json'\n",
    "}\n",
    "\n",
    "dataset_id = 'ss_w3cv3'\n",
    "local_dataset_path = DATASETS[dataset_id]\n",
    "os.makedirs(os.path.join(local_dataset_path, 'mappers_plots'), exist_ok = True)\n",
    "os.makedirs(os.path.join(local_dataset_path, 'mappers_combined'), exist_ok = True)\n",
    "remote_dataset_path = REMOTE_DATASET_PATHS[dataset_id]\n",
    "remote_analysis_path = REMOTE_DATASET_PATHS[dataset_id].replace('mappers_w3c', 'analysis/mappers_w3c')\n",
    "\n"
   ]
  },
  {
   "cell_type": "code",
   "execution_count": 8,
   "id": "c5139dec",
   "metadata": {},
   "outputs": [],
   "source": [
    "mappers = []\n",
    "k = 20\n",
    "for r in range(10, 50, 10):\n",
    "    for g in range(50, 100, 10):\n",
    "        mappers.append({\n",
    "            'mapper': 'BDLMapper_{k}_{r}_{g}'.format(k=k, r=r, g=g),\n",
    "            'R': r,\n",
    "            'G': g,\n",
    "        })\n",
    "        \n",
    "\n",
    "sbjs = ['SBJ99', 'SBJ99-83.0', 'SBJ99-75.0', 'SBJ99-50.0']\n",
    "\n",
    "files = ['plot_task-G.png']\n"
   ]
  },
  {
   "cell_type": "code",
   "execution_count": 9,
   "id": "6b590dd5",
   "metadata": {
    "scrolled": true
   },
   "outputs": [
    {
     "name": "stdout",
     "output_type": "stream",
     "text": [
      "###### Copy the files to mappers_plots\n",
      "mkdir /scratch/groups/saggar/demapper-w3c/analysis/mappers_w3cv3.json/mappers_plots\n",
      "cp /scratch/groups/saggar/demapper-w3c/mappers_w3cv3.json/SBJ99/BDLMapper_20_10_50/plot_task-G.png /scratch/groups/saggar/demapper-w3c/analysis/mappers_w3cv3.json/mappers_plots/SBJ99_BDLMapper_20_10_50_plot_task-G.png\n",
      "cp /scratch/groups/saggar/demapper-w3c/mappers_w3cv3.json/SBJ99/BDLMapper_20_10_60/plot_task-G.png /scratch/groups/saggar/demapper-w3c/analysis/mappers_w3cv3.json/mappers_plots/SBJ99_BDLMapper_20_10_60_plot_task-G.png\n",
      "cp /scratch/groups/saggar/demapper-w3c/mappers_w3cv3.json/SBJ99/BDLMapper_20_10_70/plot_task-G.png /scratch/groups/saggar/demapper-w3c/analysis/mappers_w3cv3.json/mappers_plots/SBJ99_BDLMapper_20_10_70_plot_task-G.png\n",
      "cp /scratch/groups/saggar/demapper-w3c/mappers_w3cv3.json/SBJ99/BDLMapper_20_10_80/plot_task-G.png /scratch/groups/saggar/demapper-w3c/analysis/mappers_w3cv3.json/mappers_plots/SBJ99_BDLMapper_20_10_80_plot_task-G.png\n",
      "cp /scratch/groups/saggar/demapper-w3c/mappers_w3cv3.json/SBJ99/BDLMapper_20_10_90/plot_task-G.png /scratch/groups/saggar/demapper-w3c/analysis/mappers_w3cv3.json/mappers_plots/SBJ99_BDLMapper_20_10_90_plot_task-G.png\n",
      "cp /scratch/groups/saggar/demapper-w3c/mappers_w3cv3.json/SBJ99/BDLMapper_20_20_50/plot_task-G.png /scratch/groups/saggar/demapper-w3c/analysis/mappers_w3cv3.json/mappers_plots/SBJ99_BDLMapper_20_20_50_plot_task-G.png\n",
      "cp /scratch/groups/saggar/demapper-w3c/mappers_w3cv3.json/SBJ99/BDLMapper_20_20_60/plot_task-G.png /scratch/groups/saggar/demapper-w3c/analysis/mappers_w3cv3.json/mappers_plots/SBJ99_BDLMapper_20_20_60_plot_task-G.png\n",
      "cp /scratch/groups/saggar/demapper-w3c/mappers_w3cv3.json/SBJ99/BDLMapper_20_20_70/plot_task-G.png /scratch/groups/saggar/demapper-w3c/analysis/mappers_w3cv3.json/mappers_plots/SBJ99_BDLMapper_20_20_70_plot_task-G.png\n",
      "cp /scratch/groups/saggar/demapper-w3c/mappers_w3cv3.json/SBJ99/BDLMapper_20_20_80/plot_task-G.png /scratch/groups/saggar/demapper-w3c/analysis/mappers_w3cv3.json/mappers_plots/SBJ99_BDLMapper_20_20_80_plot_task-G.png\n",
      "cp /scratch/groups/saggar/demapper-w3c/mappers_w3cv3.json/SBJ99/BDLMapper_20_20_90/plot_task-G.png /scratch/groups/saggar/demapper-w3c/analysis/mappers_w3cv3.json/mappers_plots/SBJ99_BDLMapper_20_20_90_plot_task-G.png\n",
      "cp /scratch/groups/saggar/demapper-w3c/mappers_w3cv3.json/SBJ99/BDLMapper_20_30_50/plot_task-G.png /scratch/groups/saggar/demapper-w3c/analysis/mappers_w3cv3.json/mappers_plots/SBJ99_BDLMapper_20_30_50_plot_task-G.png\n",
      "cp /scratch/groups/saggar/demapper-w3c/mappers_w3cv3.json/SBJ99/BDLMapper_20_30_60/plot_task-G.png /scratch/groups/saggar/demapper-w3c/analysis/mappers_w3cv3.json/mappers_plots/SBJ99_BDLMapper_20_30_60_plot_task-G.png\n",
      "cp /scratch/groups/saggar/demapper-w3c/mappers_w3cv3.json/SBJ99/BDLMapper_20_30_70/plot_task-G.png /scratch/groups/saggar/demapper-w3c/analysis/mappers_w3cv3.json/mappers_plots/SBJ99_BDLMapper_20_30_70_plot_task-G.png\n",
      "cp /scratch/groups/saggar/demapper-w3c/mappers_w3cv3.json/SBJ99/BDLMapper_20_30_80/plot_task-G.png /scratch/groups/saggar/demapper-w3c/analysis/mappers_w3cv3.json/mappers_plots/SBJ99_BDLMapper_20_30_80_plot_task-G.png\n",
      "cp /scratch/groups/saggar/demapper-w3c/mappers_w3cv3.json/SBJ99/BDLMapper_20_30_90/plot_task-G.png /scratch/groups/saggar/demapper-w3c/analysis/mappers_w3cv3.json/mappers_plots/SBJ99_BDLMapper_20_30_90_plot_task-G.png\n",
      "cp /scratch/groups/saggar/demapper-w3c/mappers_w3cv3.json/SBJ99/BDLMapper_20_40_50/plot_task-G.png /scratch/groups/saggar/demapper-w3c/analysis/mappers_w3cv3.json/mappers_plots/SBJ99_BDLMapper_20_40_50_plot_task-G.png\n",
      "cp /scratch/groups/saggar/demapper-w3c/mappers_w3cv3.json/SBJ99/BDLMapper_20_40_60/plot_task-G.png /scratch/groups/saggar/demapper-w3c/analysis/mappers_w3cv3.json/mappers_plots/SBJ99_BDLMapper_20_40_60_plot_task-G.png\n",
      "cp /scratch/groups/saggar/demapper-w3c/mappers_w3cv3.json/SBJ99/BDLMapper_20_40_70/plot_task-G.png /scratch/groups/saggar/demapper-w3c/analysis/mappers_w3cv3.json/mappers_plots/SBJ99_BDLMapper_20_40_70_plot_task-G.png\n",
      "cp /scratch/groups/saggar/demapper-w3c/mappers_w3cv3.json/SBJ99/BDLMapper_20_40_80/plot_task-G.png /scratch/groups/saggar/demapper-w3c/analysis/mappers_w3cv3.json/mappers_plots/SBJ99_BDLMapper_20_40_80_plot_task-G.png\n",
      "cp /scratch/groups/saggar/demapper-w3c/mappers_w3cv3.json/SBJ99/BDLMapper_20_40_90/plot_task-G.png /scratch/groups/saggar/demapper-w3c/analysis/mappers_w3cv3.json/mappers_plots/SBJ99_BDLMapper_20_40_90_plot_task-G.png\n",
      "cp /scratch/groups/saggar/demapper-w3c/mappers_w3cv3.json/SBJ99-83.0/BDLMapper_20_10_50/plot_task-G.png /scratch/groups/saggar/demapper-w3c/analysis/mappers_w3cv3.json/mappers_plots/SBJ99-83.0_BDLMapper_20_10_50_plot_task-G.png\n",
      "cp /scratch/groups/saggar/demapper-w3c/mappers_w3cv3.json/SBJ99-83.0/BDLMapper_20_10_60/plot_task-G.png /scratch/groups/saggar/demapper-w3c/analysis/mappers_w3cv3.json/mappers_plots/SBJ99-83.0_BDLMapper_20_10_60_plot_task-G.png\n",
      "cp /scratch/groups/saggar/demapper-w3c/mappers_w3cv3.json/SBJ99-83.0/BDLMapper_20_10_70/plot_task-G.png /scratch/groups/saggar/demapper-w3c/analysis/mappers_w3cv3.json/mappers_plots/SBJ99-83.0_BDLMapper_20_10_70_plot_task-G.png\n",
      "cp /scratch/groups/saggar/demapper-w3c/mappers_w3cv3.json/SBJ99-83.0/BDLMapper_20_10_80/plot_task-G.png /scratch/groups/saggar/demapper-w3c/analysis/mappers_w3cv3.json/mappers_plots/SBJ99-83.0_BDLMapper_20_10_80_plot_task-G.png\n",
      "cp /scratch/groups/saggar/demapper-w3c/mappers_w3cv3.json/SBJ99-83.0/BDLMapper_20_10_90/plot_task-G.png /scratch/groups/saggar/demapper-w3c/analysis/mappers_w3cv3.json/mappers_plots/SBJ99-83.0_BDLMapper_20_10_90_plot_task-G.png\n",
      "cp /scratch/groups/saggar/demapper-w3c/mappers_w3cv3.json/SBJ99-83.0/BDLMapper_20_20_50/plot_task-G.png /scratch/groups/saggar/demapper-w3c/analysis/mappers_w3cv3.json/mappers_plots/SBJ99-83.0_BDLMapper_20_20_50_plot_task-G.png\n",
      "cp /scratch/groups/saggar/demapper-w3c/mappers_w3cv3.json/SBJ99-83.0/BDLMapper_20_20_60/plot_task-G.png /scratch/groups/saggar/demapper-w3c/analysis/mappers_w3cv3.json/mappers_plots/SBJ99-83.0_BDLMapper_20_20_60_plot_task-G.png\n",
      "cp /scratch/groups/saggar/demapper-w3c/mappers_w3cv3.json/SBJ99-83.0/BDLMapper_20_20_70/plot_task-G.png /scratch/groups/saggar/demapper-w3c/analysis/mappers_w3cv3.json/mappers_plots/SBJ99-83.0_BDLMapper_20_20_70_plot_task-G.png\n",
      "cp /scratch/groups/saggar/demapper-w3c/mappers_w3cv3.json/SBJ99-83.0/BDLMapper_20_20_80/plot_task-G.png /scratch/groups/saggar/demapper-w3c/analysis/mappers_w3cv3.json/mappers_plots/SBJ99-83.0_BDLMapper_20_20_80_plot_task-G.png\n",
      "cp /scratch/groups/saggar/demapper-w3c/mappers_w3cv3.json/SBJ99-83.0/BDLMapper_20_20_90/plot_task-G.png /scratch/groups/saggar/demapper-w3c/analysis/mappers_w3cv3.json/mappers_plots/SBJ99-83.0_BDLMapper_20_20_90_plot_task-G.png\n",
      "cp /scratch/groups/saggar/demapper-w3c/mappers_w3cv3.json/SBJ99-83.0/BDLMapper_20_30_50/plot_task-G.png /scratch/groups/saggar/demapper-w3c/analysis/mappers_w3cv3.json/mappers_plots/SBJ99-83.0_BDLMapper_20_30_50_plot_task-G.png\n",
      "cp /scratch/groups/saggar/demapper-w3c/mappers_w3cv3.json/SBJ99-83.0/BDLMapper_20_30_60/plot_task-G.png /scratch/groups/saggar/demapper-w3c/analysis/mappers_w3cv3.json/mappers_plots/SBJ99-83.0_BDLMapper_20_30_60_plot_task-G.png\n",
      "cp /scratch/groups/saggar/demapper-w3c/mappers_w3cv3.json/SBJ99-83.0/BDLMapper_20_30_70/plot_task-G.png /scratch/groups/saggar/demapper-w3c/analysis/mappers_w3cv3.json/mappers_plots/SBJ99-83.0_BDLMapper_20_30_70_plot_task-G.png\n",
      "cp /scratch/groups/saggar/demapper-w3c/mappers_w3cv3.json/SBJ99-83.0/BDLMapper_20_30_80/plot_task-G.png /scratch/groups/saggar/demapper-w3c/analysis/mappers_w3cv3.json/mappers_plots/SBJ99-83.0_BDLMapper_20_30_80_plot_task-G.png\n",
      "cp /scratch/groups/saggar/demapper-w3c/mappers_w3cv3.json/SBJ99-83.0/BDLMapper_20_30_90/plot_task-G.png /scratch/groups/saggar/demapper-w3c/analysis/mappers_w3cv3.json/mappers_plots/SBJ99-83.0_BDLMapper_20_30_90_plot_task-G.png\n",
      "cp /scratch/groups/saggar/demapper-w3c/mappers_w3cv3.json/SBJ99-83.0/BDLMapper_20_40_50/plot_task-G.png /scratch/groups/saggar/demapper-w3c/analysis/mappers_w3cv3.json/mappers_plots/SBJ99-83.0_BDLMapper_20_40_50_plot_task-G.png\n",
      "cp /scratch/groups/saggar/demapper-w3c/mappers_w3cv3.json/SBJ99-83.0/BDLMapper_20_40_60/plot_task-G.png /scratch/groups/saggar/demapper-w3c/analysis/mappers_w3cv3.json/mappers_plots/SBJ99-83.0_BDLMapper_20_40_60_plot_task-G.png\n",
      "cp /scratch/groups/saggar/demapper-w3c/mappers_w3cv3.json/SBJ99-83.0/BDLMapper_20_40_70/plot_task-G.png /scratch/groups/saggar/demapper-w3c/analysis/mappers_w3cv3.json/mappers_plots/SBJ99-83.0_BDLMapper_20_40_70_plot_task-G.png\n",
      "cp /scratch/groups/saggar/demapper-w3c/mappers_w3cv3.json/SBJ99-83.0/BDLMapper_20_40_80/plot_task-G.png /scratch/groups/saggar/demapper-w3c/analysis/mappers_w3cv3.json/mappers_plots/SBJ99-83.0_BDLMapper_20_40_80_plot_task-G.png\n",
      "cp /scratch/groups/saggar/demapper-w3c/mappers_w3cv3.json/SBJ99-83.0/BDLMapper_20_40_90/plot_task-G.png /scratch/groups/saggar/demapper-w3c/analysis/mappers_w3cv3.json/mappers_plots/SBJ99-83.0_BDLMapper_20_40_90_plot_task-G.png\n",
      "cp /scratch/groups/saggar/demapper-w3c/mappers_w3cv3.json/SBJ99-75.0/BDLMapper_20_10_50/plot_task-G.png /scratch/groups/saggar/demapper-w3c/analysis/mappers_w3cv3.json/mappers_plots/SBJ99-75.0_BDLMapper_20_10_50_plot_task-G.png\n",
      "cp /scratch/groups/saggar/demapper-w3c/mappers_w3cv3.json/SBJ99-75.0/BDLMapper_20_10_60/plot_task-G.png /scratch/groups/saggar/demapper-w3c/analysis/mappers_w3cv3.json/mappers_plots/SBJ99-75.0_BDLMapper_20_10_60_plot_task-G.png\n",
      "cp /scratch/groups/saggar/demapper-w3c/mappers_w3cv3.json/SBJ99-75.0/BDLMapper_20_10_70/plot_task-G.png /scratch/groups/saggar/demapper-w3c/analysis/mappers_w3cv3.json/mappers_plots/SBJ99-75.0_BDLMapper_20_10_70_plot_task-G.png\n",
      "cp /scratch/groups/saggar/demapper-w3c/mappers_w3cv3.json/SBJ99-75.0/BDLMapper_20_10_80/plot_task-G.png /scratch/groups/saggar/demapper-w3c/analysis/mappers_w3cv3.json/mappers_plots/SBJ99-75.0_BDLMapper_20_10_80_plot_task-G.png\n",
      "cp /scratch/groups/saggar/demapper-w3c/mappers_w3cv3.json/SBJ99-75.0/BDLMapper_20_10_90/plot_task-G.png /scratch/groups/saggar/demapper-w3c/analysis/mappers_w3cv3.json/mappers_plots/SBJ99-75.0_BDLMapper_20_10_90_plot_task-G.png\n",
      "cp /scratch/groups/saggar/demapper-w3c/mappers_w3cv3.json/SBJ99-75.0/BDLMapper_20_20_50/plot_task-G.png /scratch/groups/saggar/demapper-w3c/analysis/mappers_w3cv3.json/mappers_plots/SBJ99-75.0_BDLMapper_20_20_50_plot_task-G.png\n",
      "cp /scratch/groups/saggar/demapper-w3c/mappers_w3cv3.json/SBJ99-75.0/BDLMapper_20_20_60/plot_task-G.png /scratch/groups/saggar/demapper-w3c/analysis/mappers_w3cv3.json/mappers_plots/SBJ99-75.0_BDLMapper_20_20_60_plot_task-G.png\n",
      "cp /scratch/groups/saggar/demapper-w3c/mappers_w3cv3.json/SBJ99-75.0/BDLMapper_20_20_70/plot_task-G.png /scratch/groups/saggar/demapper-w3c/analysis/mappers_w3cv3.json/mappers_plots/SBJ99-75.0_BDLMapper_20_20_70_plot_task-G.png\n",
      "cp /scratch/groups/saggar/demapper-w3c/mappers_w3cv3.json/SBJ99-75.0/BDLMapper_20_20_80/plot_task-G.png /scratch/groups/saggar/demapper-w3c/analysis/mappers_w3cv3.json/mappers_plots/SBJ99-75.0_BDLMapper_20_20_80_plot_task-G.png\n",
      "cp /scratch/groups/saggar/demapper-w3c/mappers_w3cv3.json/SBJ99-75.0/BDLMapper_20_20_90/plot_task-G.png /scratch/groups/saggar/demapper-w3c/analysis/mappers_w3cv3.json/mappers_plots/SBJ99-75.0_BDLMapper_20_20_90_plot_task-G.png\n",
      "cp /scratch/groups/saggar/demapper-w3c/mappers_w3cv3.json/SBJ99-75.0/BDLMapper_20_30_50/plot_task-G.png /scratch/groups/saggar/demapper-w3c/analysis/mappers_w3cv3.json/mappers_plots/SBJ99-75.0_BDLMapper_20_30_50_plot_task-G.png\n",
      "cp /scratch/groups/saggar/demapper-w3c/mappers_w3cv3.json/SBJ99-75.0/BDLMapper_20_30_60/plot_task-G.png /scratch/groups/saggar/demapper-w3c/analysis/mappers_w3cv3.json/mappers_plots/SBJ99-75.0_BDLMapper_20_30_60_plot_task-G.png\n",
      "cp /scratch/groups/saggar/demapper-w3c/mappers_w3cv3.json/SBJ99-75.0/BDLMapper_20_30_70/plot_task-G.png /scratch/groups/saggar/demapper-w3c/analysis/mappers_w3cv3.json/mappers_plots/SBJ99-75.0_BDLMapper_20_30_70_plot_task-G.png\n",
      "cp /scratch/groups/saggar/demapper-w3c/mappers_w3cv3.json/SBJ99-75.0/BDLMapper_20_30_80/plot_task-G.png /scratch/groups/saggar/demapper-w3c/analysis/mappers_w3cv3.json/mappers_plots/SBJ99-75.0_BDLMapper_20_30_80_plot_task-G.png\n",
      "cp /scratch/groups/saggar/demapper-w3c/mappers_w3cv3.json/SBJ99-75.0/BDLMapper_20_30_90/plot_task-G.png /scratch/groups/saggar/demapper-w3c/analysis/mappers_w3cv3.json/mappers_plots/SBJ99-75.0_BDLMapper_20_30_90_plot_task-G.png\n",
      "cp /scratch/groups/saggar/demapper-w3c/mappers_w3cv3.json/SBJ99-75.0/BDLMapper_20_40_50/plot_task-G.png /scratch/groups/saggar/demapper-w3c/analysis/mappers_w3cv3.json/mappers_plots/SBJ99-75.0_BDLMapper_20_40_50_plot_task-G.png\n",
      "cp /scratch/groups/saggar/demapper-w3c/mappers_w3cv3.json/SBJ99-75.0/BDLMapper_20_40_60/plot_task-G.png /scratch/groups/saggar/demapper-w3c/analysis/mappers_w3cv3.json/mappers_plots/SBJ99-75.0_BDLMapper_20_40_60_plot_task-G.png\n",
      "cp /scratch/groups/saggar/demapper-w3c/mappers_w3cv3.json/SBJ99-75.0/BDLMapper_20_40_70/plot_task-G.png /scratch/groups/saggar/demapper-w3c/analysis/mappers_w3cv3.json/mappers_plots/SBJ99-75.0_BDLMapper_20_40_70_plot_task-G.png\n",
      "cp /scratch/groups/saggar/demapper-w3c/mappers_w3cv3.json/SBJ99-75.0/BDLMapper_20_40_80/plot_task-G.png /scratch/groups/saggar/demapper-w3c/analysis/mappers_w3cv3.json/mappers_plots/SBJ99-75.0_BDLMapper_20_40_80_plot_task-G.png\n",
      "cp /scratch/groups/saggar/demapper-w3c/mappers_w3cv3.json/SBJ99-75.0/BDLMapper_20_40_90/plot_task-G.png /scratch/groups/saggar/demapper-w3c/analysis/mappers_w3cv3.json/mappers_plots/SBJ99-75.0_BDLMapper_20_40_90_plot_task-G.png\n",
      "cp /scratch/groups/saggar/demapper-w3c/mappers_w3cv3.json/SBJ99-50.0/BDLMapper_20_10_50/plot_task-G.png /scratch/groups/saggar/demapper-w3c/analysis/mappers_w3cv3.json/mappers_plots/SBJ99-50.0_BDLMapper_20_10_50_plot_task-G.png\n",
      "cp /scratch/groups/saggar/demapper-w3c/mappers_w3cv3.json/SBJ99-50.0/BDLMapper_20_10_60/plot_task-G.png /scratch/groups/saggar/demapper-w3c/analysis/mappers_w3cv3.json/mappers_plots/SBJ99-50.0_BDLMapper_20_10_60_plot_task-G.png\n",
      "cp /scratch/groups/saggar/demapper-w3c/mappers_w3cv3.json/SBJ99-50.0/BDLMapper_20_10_70/plot_task-G.png /scratch/groups/saggar/demapper-w3c/analysis/mappers_w3cv3.json/mappers_plots/SBJ99-50.0_BDLMapper_20_10_70_plot_task-G.png\n",
      "cp /scratch/groups/saggar/demapper-w3c/mappers_w3cv3.json/SBJ99-50.0/BDLMapper_20_10_80/plot_task-G.png /scratch/groups/saggar/demapper-w3c/analysis/mappers_w3cv3.json/mappers_plots/SBJ99-50.0_BDLMapper_20_10_80_plot_task-G.png\n",
      "cp /scratch/groups/saggar/demapper-w3c/mappers_w3cv3.json/SBJ99-50.0/BDLMapper_20_10_90/plot_task-G.png /scratch/groups/saggar/demapper-w3c/analysis/mappers_w3cv3.json/mappers_plots/SBJ99-50.0_BDLMapper_20_10_90_plot_task-G.png\n",
      "cp /scratch/groups/saggar/demapper-w3c/mappers_w3cv3.json/SBJ99-50.0/BDLMapper_20_20_50/plot_task-G.png /scratch/groups/saggar/demapper-w3c/analysis/mappers_w3cv3.json/mappers_plots/SBJ99-50.0_BDLMapper_20_20_50_plot_task-G.png\n",
      "cp /scratch/groups/saggar/demapper-w3c/mappers_w3cv3.json/SBJ99-50.0/BDLMapper_20_20_60/plot_task-G.png /scratch/groups/saggar/demapper-w3c/analysis/mappers_w3cv3.json/mappers_plots/SBJ99-50.0_BDLMapper_20_20_60_plot_task-G.png\n",
      "cp /scratch/groups/saggar/demapper-w3c/mappers_w3cv3.json/SBJ99-50.0/BDLMapper_20_20_70/plot_task-G.png /scratch/groups/saggar/demapper-w3c/analysis/mappers_w3cv3.json/mappers_plots/SBJ99-50.0_BDLMapper_20_20_70_plot_task-G.png\n",
      "cp /scratch/groups/saggar/demapper-w3c/mappers_w3cv3.json/SBJ99-50.0/BDLMapper_20_20_80/plot_task-G.png /scratch/groups/saggar/demapper-w3c/analysis/mappers_w3cv3.json/mappers_plots/SBJ99-50.0_BDLMapper_20_20_80_plot_task-G.png\n",
      "cp /scratch/groups/saggar/demapper-w3c/mappers_w3cv3.json/SBJ99-50.0/BDLMapper_20_20_90/plot_task-G.png /scratch/groups/saggar/demapper-w3c/analysis/mappers_w3cv3.json/mappers_plots/SBJ99-50.0_BDLMapper_20_20_90_plot_task-G.png\n",
      "cp /scratch/groups/saggar/demapper-w3c/mappers_w3cv3.json/SBJ99-50.0/BDLMapper_20_30_50/plot_task-G.png /scratch/groups/saggar/demapper-w3c/analysis/mappers_w3cv3.json/mappers_plots/SBJ99-50.0_BDLMapper_20_30_50_plot_task-G.png\n",
      "cp /scratch/groups/saggar/demapper-w3c/mappers_w3cv3.json/SBJ99-50.0/BDLMapper_20_30_60/plot_task-G.png /scratch/groups/saggar/demapper-w3c/analysis/mappers_w3cv3.json/mappers_plots/SBJ99-50.0_BDLMapper_20_30_60_plot_task-G.png\n",
      "cp /scratch/groups/saggar/demapper-w3c/mappers_w3cv3.json/SBJ99-50.0/BDLMapper_20_30_70/plot_task-G.png /scratch/groups/saggar/demapper-w3c/analysis/mappers_w3cv3.json/mappers_plots/SBJ99-50.0_BDLMapper_20_30_70_plot_task-G.png\n",
      "cp /scratch/groups/saggar/demapper-w3c/mappers_w3cv3.json/SBJ99-50.0/BDLMapper_20_30_80/plot_task-G.png /scratch/groups/saggar/demapper-w3c/analysis/mappers_w3cv3.json/mappers_plots/SBJ99-50.0_BDLMapper_20_30_80_plot_task-G.png\n",
      "cp /scratch/groups/saggar/demapper-w3c/mappers_w3cv3.json/SBJ99-50.0/BDLMapper_20_30_90/plot_task-G.png /scratch/groups/saggar/demapper-w3c/analysis/mappers_w3cv3.json/mappers_plots/SBJ99-50.0_BDLMapper_20_30_90_plot_task-G.png\n",
      "cp /scratch/groups/saggar/demapper-w3c/mappers_w3cv3.json/SBJ99-50.0/BDLMapper_20_40_50/plot_task-G.png /scratch/groups/saggar/demapper-w3c/analysis/mappers_w3cv3.json/mappers_plots/SBJ99-50.0_BDLMapper_20_40_50_plot_task-G.png\n",
      "cp /scratch/groups/saggar/demapper-w3c/mappers_w3cv3.json/SBJ99-50.0/BDLMapper_20_40_60/plot_task-G.png /scratch/groups/saggar/demapper-w3c/analysis/mappers_w3cv3.json/mappers_plots/SBJ99-50.0_BDLMapper_20_40_60_plot_task-G.png\n",
      "cp /scratch/groups/saggar/demapper-w3c/mappers_w3cv3.json/SBJ99-50.0/BDLMapper_20_40_70/plot_task-G.png /scratch/groups/saggar/demapper-w3c/analysis/mappers_w3cv3.json/mappers_plots/SBJ99-50.0_BDLMapper_20_40_70_plot_task-G.png\n",
      "cp /scratch/groups/saggar/demapper-w3c/mappers_w3cv3.json/SBJ99-50.0/BDLMapper_20_40_80/plot_task-G.png /scratch/groups/saggar/demapper-w3c/analysis/mappers_w3cv3.json/mappers_plots/SBJ99-50.0_BDLMapper_20_40_80_plot_task-G.png\n",
      "cp /scratch/groups/saggar/demapper-w3c/mappers_w3cv3.json/SBJ99-50.0/BDLMapper_20_40_90/plot_task-G.png /scratch/groups/saggar/demapper-w3c/analysis/mappers_w3cv3.json/mappers_plots/SBJ99-50.0_BDLMapper_20_40_90_plot_task-G.png\n",
      "###### Copy the files locally\n",
      "scp -r \"hasegan@login.sherlock.stanford.edu:/scratch/groups/saggar/demapper-w3c/analysis/mappers_w3cv3.json/mappers_plots/*\" /Users/dh/workspace/BDL/demapper/results/w3c_ss/analysis/mappers_w3cv3.json/mappers_plots/\n"
     ]
    }
   ],
   "source": [
    "print(\"###### Copy the files to mappers_plots\")\n",
    "\n",
    "print('mkdir {}/mappers_plots'.format(remote_analysis_path))\n",
    "\n",
    "table = []\n",
    "for s in sbjs:\n",
    "    for m in mappers:\n",
    "        for f in files:\n",
    "            item = m.copy()\n",
    "            item['sbj'] = s\n",
    "            item['file'] = f\n",
    "            table.append(item)\n",
    "            print('cp {ds_path}/{s}/{m}/{f} {an_path}/mappers_plots/{s}_{m}_{f}'.format(\n",
    "                ds_path=remote_dataset_path,\n",
    "                an_path=remote_analysis_path,\n",
    "                s=s, m=m['mapper'], f=f))\n",
    "            \n",
    "print(\"###### Copy the files locally\")\n",
    "print('scp -r \"hasegan@login.sherlock.stanford.edu:{}/mappers_plots/*\" {}'.format(\n",
    "    remote_analysis_path,\n",
    "    os.path.join(local_dataset_path, 'mappers_plots/')))"
   ]
  },
  {
   "cell_type": "code",
   "execution_count": null,
   "id": "04ea4f41",
   "metadata": {},
   "outputs": [],
   "source": []
  },
  {
   "cell_type": "code",
   "execution_count": null,
   "id": "c86ddc2e",
   "metadata": {},
   "outputs": [],
   "source": []
  },
  {
   "cell_type": "code",
   "execution_count": 27,
   "id": "381c930f",
   "metadata": {},
   "outputs": [],
   "source": [
    "from PIL import Image\n",
    "from matplotlib import pyplot as plt\n",
    "from tqdm import tqdm\n",
    "\n",
    "sns.set(style = \"whitegrid\")\n",
    "\n",
    "def create_axis(df, axis_hps, idx=0):\n",
    "    if idx == len(axis_hps):\n",
    "        return [{}]\n",
    "    hp_name = axis_hps[idx]\n",
    "    hp_vals = df[hp_name].drop_duplicates().to_numpy()\n",
    "    vals = []\n",
    "    hp_vals = sorted(sorted(hp_vals), key=lambda x: x != 'none')\n",
    "    for hpv in hp_vals:\n",
    "        df_hp = df[df[hp_name] == hpv]\n",
    "        val = create_axis(df_hp, axis_hps, idx+1)\n",
    "        if len(hp_vals) > 1:\n",
    "            for v in val:\n",
    "                v[hp_name] = hpv\n",
    "        vals.extend(val)\n",
    "    return vals\n",
    "\n",
    "\n",
    "def get_item_path(basedir, item):\n",
    "    return os.path.join(\n",
    "        basedir, 'mappers_plots', '{s}_{m}_{f}'.format(\n",
    "            s=item['sbj'].tolist()[0],\n",
    "            m=item['mapper'].tolist()[0],\n",
    "            f=item['file'].tolist()[0]))\n",
    "\n",
    "\n",
    "def get_item_path_v2(basedir, item):\n",
    "    return os.path.join(\n",
    "        basedir, item['sbj'].tolist()[0], item['mapper'].tolist()[0], 'plot_task_alt1.png')\n",
    "\n",
    "\n",
    "def plot_image(img_path, ax):\n",
    "    im = Image.open(img_path)\n",
    "    img = np.array(im)\n",
    "    ax.imshow(img)\n",
    "    del img\n",
    "    del im\n",
    "    return ax\n",
    "\n",
    "def plot_grid(df, sbj, hps_x, hps_y, hps_fixed_vals, analysis_path, regen=False, text_f=None, show_plot=False):\n",
    "    ax_x = create_axis(df, hps_x)\n",
    "    ax_y = create_axis(df, hps_y)\n",
    "    ax_y.reverse()\n",
    "    \n",
    "    x_keys = sorted(list(set([k for x in ax_x for k,v in x.items()])))\n",
    "    y_keys = sorted(list(set([k for y in ax_y for k,v in y.items()])))\n",
    "    fixed_toks = sorted(['{}_{}'.format(k,v) for k,v in hps_fixed_vals.items()])\n",
    "    savefig_path = os.path.join(\n",
    "        analysis_path, # 'mappers_combined',\n",
    "        'comb{}_{}.png'.format(\n",
    "            sbj,\n",
    "            '_'.join(['x'] + x_keys + ['y'] + y_keys + fixed_toks)))\n",
    "    \n",
    "    if os.path.isfile(savefig_path) and not regen:\n",
    "        return\n",
    "\n",
    "    ncols = len(ax_x)\n",
    "    nrows = len(ax_y)\n",
    "    fsize = 20\n",
    "    fig, axr = plt.subplots(nrows=nrows, ncols=ncols, figsize=(fsize * (ncols/nrows)*1.1,fsize))\n",
    "\n",
    "    for r,(y,axc) in enumerate(zip(ax_y,axr)):\n",
    "        for c,(x,ax) in enumerate(zip(ax_x,axc)):\n",
    "            K = {'sbj':sbj, **x, **y, **hps_fixed_vals}\n",
    "            df_filtered = df\n",
    "            for k,v in K.items():\n",
    "                df_filtered = df_filtered[df_filtered[k] == v]\n",
    "            if len(df_filtered) == 0:\n",
    "                ax.axis('off')\n",
    "                continue\n",
    "            assert len(df_filtered) == 1, 'Too many ({}) items found for {}, {}, {}'.format(\n",
    "                len(df_filtered), x, y, hps_fixed_vals)\n",
    "            item = df_filtered\n",
    "            sbj = item['sbj'].to_numpy()[0]\n",
    "\n",
    "            ax.tick_params(left=False, bottom=False, labelleft=False, labelbottom=False)\n",
    "            ax.spines['top'].set_visible(False)\n",
    "            ax.spines['right'].set_visible(False)\n",
    "            ax.spines['bottom'].set_visible(False)\n",
    "            ax.spines['left'].set_visible(False)\n",
    "            ax.grid(False)\n",
    "            if r == len(ax_y)-1:\n",
    "                ax.set_xlabel(' '.join([str(x[k]) for k in hps_x if k in x]))\n",
    "                ax.xaxis.set_label_position(\"bottom\")\n",
    "            if c == 0:\n",
    "                ax.set_ylabel(' '.join([str(y[k]) for k in hps_y if k in y]))\n",
    "\n",
    "            img_path = get_item_path_v2(analysis_path, item)\n",
    "            if not os.path.isfile(img_path):\n",
    "    #             ax.axis('off')\n",
    "                print('Skipping as plot not found at {}'.format(img_path))\n",
    "                continue\n",
    "        \n",
    "#             modd = df_filtered[['preembed_mod_full', 'preembed_mod_wout_ac', 'embed_modd_bin', 'embed_modd_wout_ac']].to_numpy()[0]\n",
    "#             modd = [str(round(m,3)) for m in modd]\n",
    "#             title = ' -> '.join([', '.join(modd[0:2]), ', '.join(modd[2:4])])\n",
    "#             ax.set_title(title)\n",
    "            if text_f:\n",
    "                ax = text_f(ax, item)\n",
    "            ax = plot_image(img_path, ax)\n",
    "    plt.tight_layout()\n",
    "    \n",
    "    plt.savefig(savefig_path, dpi=150)\n",
    "    if show_plot:\n",
    "        plt.show()\n",
    "    plt.close()\n",
    "    \n",
    "# plot_grid(df, 'SBJ01', hps_x, hps_y, {'knnparam_gains': 1.0})\n"
   ]
  },
  {
   "cell_type": "code",
   "execution_count": 15,
   "id": "5efc4882",
   "metadata": {},
   "outputs": [
    {
     "name": "stderr",
     "output_type": "stream",
     "text": [
      "\r",
      "  0%|                                                                                           | 0/4 [00:00<?, ?it/s]"
     ]
    },
    {
     "name": "stdout",
     "output_type": "stream",
     "text": [
      "Skipping as plot not found at /Users/dh/workspace/BDL/demapper/results/w3c_ss/analysis/mappers_w3cv3.json/SBJ99/BDLMapper_20_10_50/plot_task_alt1.png\n",
      "Skipping as plot not found at /Users/dh/workspace/BDL/demapper/results/w3c_ss/analysis/mappers_w3cv3.json/SBJ99/BDLMapper_20_20_50/plot_task_alt1.png\n",
      "Skipping as plot not found at /Users/dh/workspace/BDL/demapper/results/w3c_ss/analysis/mappers_w3cv3.json/SBJ99/BDLMapper_20_30_50/plot_task_alt1.png\n",
      "Skipping as plot not found at /Users/dh/workspace/BDL/demapper/results/w3c_ss/analysis/mappers_w3cv3.json/SBJ99/BDLMapper_20_40_50/plot_task_alt1.png\n",
      "Skipping as plot not found at /Users/dh/workspace/BDL/demapper/results/w3c_ss/analysis/mappers_w3cv3.json/SBJ99/BDLMapper_20_10_60/plot_task_alt1.png\n",
      "Skipping as plot not found at /Users/dh/workspace/BDL/demapper/results/w3c_ss/analysis/mappers_w3cv3.json/SBJ99/BDLMapper_20_20_60/plot_task_alt1.png\n",
      "Skipping as plot not found at /Users/dh/workspace/BDL/demapper/results/w3c_ss/analysis/mappers_w3cv3.json/SBJ99/BDLMapper_20_30_60/plot_task_alt1.png\n",
      "Skipping as plot not found at /Users/dh/workspace/BDL/demapper/results/w3c_ss/analysis/mappers_w3cv3.json/SBJ99/BDLMapper_20_40_60/plot_task_alt1.png\n",
      "Skipping as plot not found at /Users/dh/workspace/BDL/demapper/results/w3c_ss/analysis/mappers_w3cv3.json/SBJ99/BDLMapper_20_10_70/plot_task_alt1.png\n",
      "Skipping as plot not found at /Users/dh/workspace/BDL/demapper/results/w3c_ss/analysis/mappers_w3cv3.json/SBJ99/BDLMapper_20_20_70/plot_task_alt1.png\n",
      "Skipping as plot not found at /Users/dh/workspace/BDL/demapper/results/w3c_ss/analysis/mappers_w3cv3.json/SBJ99/BDLMapper_20_30_70/plot_task_alt1.png\n",
      "Skipping as plot not found at /Users/dh/workspace/BDL/demapper/results/w3c_ss/analysis/mappers_w3cv3.json/SBJ99/BDLMapper_20_40_70/plot_task_alt1.png\n",
      "Skipping as plot not found at /Users/dh/workspace/BDL/demapper/results/w3c_ss/analysis/mappers_w3cv3.json/SBJ99/BDLMapper_20_10_80/plot_task_alt1.png\n",
      "Skipping as plot not found at /Users/dh/workspace/BDL/demapper/results/w3c_ss/analysis/mappers_w3cv3.json/SBJ99/BDLMapper_20_20_80/plot_task_alt1.png\n",
      "Skipping as plot not found at /Users/dh/workspace/BDL/demapper/results/w3c_ss/analysis/mappers_w3cv3.json/SBJ99/BDLMapper_20_30_80/plot_task_alt1.png\n",
      "Skipping as plot not found at /Users/dh/workspace/BDL/demapper/results/w3c_ss/analysis/mappers_w3cv3.json/SBJ99/BDLMapper_20_40_80/plot_task_alt1.png\n",
      "Skipping as plot not found at /Users/dh/workspace/BDL/demapper/results/w3c_ss/analysis/mappers_w3cv3.json/SBJ99/BDLMapper_20_10_90/plot_task_alt1.png\n",
      "Skipping as plot not found at /Users/dh/workspace/BDL/demapper/results/w3c_ss/analysis/mappers_w3cv3.json/SBJ99/BDLMapper_20_20_90/plot_task_alt1.png\n",
      "Skipping as plot not found at /Users/dh/workspace/BDL/demapper/results/w3c_ss/analysis/mappers_w3cv3.json/SBJ99/BDLMapper_20_30_90/plot_task_alt1.png\n",
      "Skipping as plot not found at /Users/dh/workspace/BDL/demapper/results/w3c_ss/analysis/mappers_w3cv3.json/SBJ99/BDLMapper_20_40_90/plot_task_alt1.png\n"
     ]
    },
    {
     "name": "stderr",
     "output_type": "stream",
     "text": [
      "\r",
      " 25%|████████████████████▊                                                              | 1/4 [00:00<00:02,  1.04it/s]"
     ]
    },
    {
     "name": "stdout",
     "output_type": "stream",
     "text": [
      "Skipping as plot not found at /Users/dh/workspace/BDL/demapper/results/w3c_ss/analysis/mappers_w3cv3.json/SBJ99-83.0/BDLMapper_20_10_50/plot_task_alt1.png\n",
      "Skipping as plot not found at /Users/dh/workspace/BDL/demapper/results/w3c_ss/analysis/mappers_w3cv3.json/SBJ99-83.0/BDLMapper_20_20_50/plot_task_alt1.png\n",
      "Skipping as plot not found at /Users/dh/workspace/BDL/demapper/results/w3c_ss/analysis/mappers_w3cv3.json/SBJ99-83.0/BDLMapper_20_30_50/plot_task_alt1.png\n",
      "Skipping as plot not found at /Users/dh/workspace/BDL/demapper/results/w3c_ss/analysis/mappers_w3cv3.json/SBJ99-83.0/BDLMapper_20_40_50/plot_task_alt1.png\n",
      "Skipping as plot not found at /Users/dh/workspace/BDL/demapper/results/w3c_ss/analysis/mappers_w3cv3.json/SBJ99-83.0/BDLMapper_20_10_60/plot_task_alt1.png\n",
      "Skipping as plot not found at /Users/dh/workspace/BDL/demapper/results/w3c_ss/analysis/mappers_w3cv3.json/SBJ99-83.0/BDLMapper_20_20_60/plot_task_alt1.png\n",
      "Skipping as plot not found at /Users/dh/workspace/BDL/demapper/results/w3c_ss/analysis/mappers_w3cv3.json/SBJ99-83.0/BDLMapper_20_30_60/plot_task_alt1.png\n",
      "Skipping as plot not found at /Users/dh/workspace/BDL/demapper/results/w3c_ss/analysis/mappers_w3cv3.json/SBJ99-83.0/BDLMapper_20_40_60/plot_task_alt1.png\n",
      "Skipping as plot not found at /Users/dh/workspace/BDL/demapper/results/w3c_ss/analysis/mappers_w3cv3.json/SBJ99-83.0/BDLMapper_20_10_70/plot_task_alt1.png\n",
      "Skipping as plot not found at /Users/dh/workspace/BDL/demapper/results/w3c_ss/analysis/mappers_w3cv3.json/SBJ99-83.0/BDLMapper_20_20_70/plot_task_alt1.png\n",
      "Skipping as plot not found at /Users/dh/workspace/BDL/demapper/results/w3c_ss/analysis/mappers_w3cv3.json/SBJ99-83.0/BDLMapper_20_30_70/plot_task_alt1.png\n",
      "Skipping as plot not found at /Users/dh/workspace/BDL/demapper/results/w3c_ss/analysis/mappers_w3cv3.json/SBJ99-83.0/BDLMapper_20_40_70/plot_task_alt1.png\n",
      "Skipping as plot not found at /Users/dh/workspace/BDL/demapper/results/w3c_ss/analysis/mappers_w3cv3.json/SBJ99-83.0/BDLMapper_20_10_80/plot_task_alt1.png\n",
      "Skipping as plot not found at /Users/dh/workspace/BDL/demapper/results/w3c_ss/analysis/mappers_w3cv3.json/SBJ99-83.0/BDLMapper_20_20_80/plot_task_alt1.png\n",
      "Skipping as plot not found at /Users/dh/workspace/BDL/demapper/results/w3c_ss/analysis/mappers_w3cv3.json/SBJ99-83.0/BDLMapper_20_30_80/plot_task_alt1.png\n",
      "Skipping as plot not found at /Users/dh/workspace/BDL/demapper/results/w3c_ss/analysis/mappers_w3cv3.json/SBJ99-83.0/BDLMapper_20_40_80/plot_task_alt1.png\n",
      "Skipping as plot not found at /Users/dh/workspace/BDL/demapper/results/w3c_ss/analysis/mappers_w3cv3.json/SBJ99-83.0/BDLMapper_20_10_90/plot_task_alt1.png\n",
      "Skipping as plot not found at /Users/dh/workspace/BDL/demapper/results/w3c_ss/analysis/mappers_w3cv3.json/SBJ99-83.0/BDLMapper_20_20_90/plot_task_alt1.png\n",
      "Skipping as plot not found at /Users/dh/workspace/BDL/demapper/results/w3c_ss/analysis/mappers_w3cv3.json/SBJ99-83.0/BDLMapper_20_30_90/plot_task_alt1.png\n",
      "Skipping as plot not found at /Users/dh/workspace/BDL/demapper/results/w3c_ss/analysis/mappers_w3cv3.json/SBJ99-83.0/BDLMapper_20_40_90/plot_task_alt1.png\n"
     ]
    },
    {
     "name": "stderr",
     "output_type": "stream",
     "text": [
      "\r",
      " 50%|█████████████████████████████████████████▌                                         | 2/4 [00:01<00:01,  1.22it/s]"
     ]
    },
    {
     "name": "stdout",
     "output_type": "stream",
     "text": [
      "Skipping as plot not found at /Users/dh/workspace/BDL/demapper/results/w3c_ss/analysis/mappers_w3cv3.json/SBJ99-75.0/BDLMapper_20_10_50/plot_task_alt1.png\n",
      "Skipping as plot not found at /Users/dh/workspace/BDL/demapper/results/w3c_ss/analysis/mappers_w3cv3.json/SBJ99-75.0/BDLMapper_20_20_50/plot_task_alt1.png\n",
      "Skipping as plot not found at /Users/dh/workspace/BDL/demapper/results/w3c_ss/analysis/mappers_w3cv3.json/SBJ99-75.0/BDLMapper_20_30_50/plot_task_alt1.png\n",
      "Skipping as plot not found at /Users/dh/workspace/BDL/demapper/results/w3c_ss/analysis/mappers_w3cv3.json/SBJ99-75.0/BDLMapper_20_40_50/plot_task_alt1.png\n",
      "Skipping as plot not found at /Users/dh/workspace/BDL/demapper/results/w3c_ss/analysis/mappers_w3cv3.json/SBJ99-75.0/BDLMapper_20_10_60/plot_task_alt1.png\n",
      "Skipping as plot not found at /Users/dh/workspace/BDL/demapper/results/w3c_ss/analysis/mappers_w3cv3.json/SBJ99-75.0/BDLMapper_20_20_60/plot_task_alt1.png\n",
      "Skipping as plot not found at /Users/dh/workspace/BDL/demapper/results/w3c_ss/analysis/mappers_w3cv3.json/SBJ99-75.0/BDLMapper_20_30_60/plot_task_alt1.png\n",
      "Skipping as plot not found at /Users/dh/workspace/BDL/demapper/results/w3c_ss/analysis/mappers_w3cv3.json/SBJ99-75.0/BDLMapper_20_40_60/plot_task_alt1.png\n",
      "Skipping as plot not found at /Users/dh/workspace/BDL/demapper/results/w3c_ss/analysis/mappers_w3cv3.json/SBJ99-75.0/BDLMapper_20_10_70/plot_task_alt1.png\n",
      "Skipping as plot not found at /Users/dh/workspace/BDL/demapper/results/w3c_ss/analysis/mappers_w3cv3.json/SBJ99-75.0/BDLMapper_20_20_70/plot_task_alt1.png\n",
      "Skipping as plot not found at /Users/dh/workspace/BDL/demapper/results/w3c_ss/analysis/mappers_w3cv3.json/SBJ99-75.0/BDLMapper_20_30_70/plot_task_alt1.png\n",
      "Skipping as plot not found at /Users/dh/workspace/BDL/demapper/results/w3c_ss/analysis/mappers_w3cv3.json/SBJ99-75.0/BDLMapper_20_40_70/plot_task_alt1.png\n",
      "Skipping as plot not found at /Users/dh/workspace/BDL/demapper/results/w3c_ss/analysis/mappers_w3cv3.json/SBJ99-75.0/BDLMapper_20_10_80/plot_task_alt1.png\n",
      "Skipping as plot not found at /Users/dh/workspace/BDL/demapper/results/w3c_ss/analysis/mappers_w3cv3.json/SBJ99-75.0/BDLMapper_20_20_80/plot_task_alt1.png\n",
      "Skipping as plot not found at /Users/dh/workspace/BDL/demapper/results/w3c_ss/analysis/mappers_w3cv3.json/SBJ99-75.0/BDLMapper_20_30_80/plot_task_alt1.png\n",
      "Skipping as plot not found at /Users/dh/workspace/BDL/demapper/results/w3c_ss/analysis/mappers_w3cv3.json/SBJ99-75.0/BDLMapper_20_40_80/plot_task_alt1.png\n",
      "Skipping as plot not found at /Users/dh/workspace/BDL/demapper/results/w3c_ss/analysis/mappers_w3cv3.json/SBJ99-75.0/BDLMapper_20_10_90/plot_task_alt1.png\n",
      "Skipping as plot not found at /Users/dh/workspace/BDL/demapper/results/w3c_ss/analysis/mappers_w3cv3.json/SBJ99-75.0/BDLMapper_20_20_90/plot_task_alt1.png\n",
      "Skipping as plot not found at /Users/dh/workspace/BDL/demapper/results/w3c_ss/analysis/mappers_w3cv3.json/SBJ99-75.0/BDLMapper_20_30_90/plot_task_alt1.png\n",
      "Skipping as plot not found at /Users/dh/workspace/BDL/demapper/results/w3c_ss/analysis/mappers_w3cv3.json/SBJ99-75.0/BDLMapper_20_40_90/plot_task_alt1.png\n"
     ]
    },
    {
     "name": "stderr",
     "output_type": "stream",
     "text": [
      "\r",
      " 75%|██████████████████████████████████████████████████████████████▎                    | 3/4 [00:02<00:00,  1.26it/s]"
     ]
    },
    {
     "name": "stdout",
     "output_type": "stream",
     "text": [
      "Skipping as plot not found at /Users/dh/workspace/BDL/demapper/results/w3c_ss/analysis/mappers_w3cv3.json/SBJ99-50.0/BDLMapper_20_10_50/plot_task_alt1.png\n",
      "Skipping as plot not found at /Users/dh/workspace/BDL/demapper/results/w3c_ss/analysis/mappers_w3cv3.json/SBJ99-50.0/BDLMapper_20_20_50/plot_task_alt1.png\n",
      "Skipping as plot not found at /Users/dh/workspace/BDL/demapper/results/w3c_ss/analysis/mappers_w3cv3.json/SBJ99-50.0/BDLMapper_20_30_50/plot_task_alt1.png\n",
      "Skipping as plot not found at /Users/dh/workspace/BDL/demapper/results/w3c_ss/analysis/mappers_w3cv3.json/SBJ99-50.0/BDLMapper_20_40_50/plot_task_alt1.png\n",
      "Skipping as plot not found at /Users/dh/workspace/BDL/demapper/results/w3c_ss/analysis/mappers_w3cv3.json/SBJ99-50.0/BDLMapper_20_10_60/plot_task_alt1.png\n",
      "Skipping as plot not found at /Users/dh/workspace/BDL/demapper/results/w3c_ss/analysis/mappers_w3cv3.json/SBJ99-50.0/BDLMapper_20_20_60/plot_task_alt1.png\n",
      "Skipping as plot not found at /Users/dh/workspace/BDL/demapper/results/w3c_ss/analysis/mappers_w3cv3.json/SBJ99-50.0/BDLMapper_20_30_60/plot_task_alt1.png\n",
      "Skipping as plot not found at /Users/dh/workspace/BDL/demapper/results/w3c_ss/analysis/mappers_w3cv3.json/SBJ99-50.0/BDLMapper_20_40_60/plot_task_alt1.png\n",
      "Skipping as plot not found at /Users/dh/workspace/BDL/demapper/results/w3c_ss/analysis/mappers_w3cv3.json/SBJ99-50.0/BDLMapper_20_10_70/plot_task_alt1.png\n",
      "Skipping as plot not found at /Users/dh/workspace/BDL/demapper/results/w3c_ss/analysis/mappers_w3cv3.json/SBJ99-50.0/BDLMapper_20_20_70/plot_task_alt1.png\n",
      "Skipping as plot not found at /Users/dh/workspace/BDL/demapper/results/w3c_ss/analysis/mappers_w3cv3.json/SBJ99-50.0/BDLMapper_20_30_70/plot_task_alt1.png\n",
      "Skipping as plot not found at /Users/dh/workspace/BDL/demapper/results/w3c_ss/analysis/mappers_w3cv3.json/SBJ99-50.0/BDLMapper_20_40_70/plot_task_alt1.png\n",
      "Skipping as plot not found at /Users/dh/workspace/BDL/demapper/results/w3c_ss/analysis/mappers_w3cv3.json/SBJ99-50.0/BDLMapper_20_10_80/plot_task_alt1.png\n",
      "Skipping as plot not found at /Users/dh/workspace/BDL/demapper/results/w3c_ss/analysis/mappers_w3cv3.json/SBJ99-50.0/BDLMapper_20_20_80/plot_task_alt1.png\n",
      "Skipping as plot not found at /Users/dh/workspace/BDL/demapper/results/w3c_ss/analysis/mappers_w3cv3.json/SBJ99-50.0/BDLMapper_20_30_80/plot_task_alt1.png\n",
      "Skipping as plot not found at /Users/dh/workspace/BDL/demapper/results/w3c_ss/analysis/mappers_w3cv3.json/SBJ99-50.0/BDLMapper_20_40_80/plot_task_alt1.png\n",
      "Skipping as plot not found at /Users/dh/workspace/BDL/demapper/results/w3c_ss/analysis/mappers_w3cv3.json/SBJ99-50.0/BDLMapper_20_10_90/plot_task_alt1.png\n",
      "Skipping as plot not found at /Users/dh/workspace/BDL/demapper/results/w3c_ss/analysis/mappers_w3cv3.json/SBJ99-50.0/BDLMapper_20_20_90/plot_task_alt1.png\n",
      "Skipping as plot not found at /Users/dh/workspace/BDL/demapper/results/w3c_ss/analysis/mappers_w3cv3.json/SBJ99-50.0/BDLMapper_20_30_90/plot_task_alt1.png\n",
      "Skipping as plot not found at /Users/dh/workspace/BDL/demapper/results/w3c_ss/analysis/mappers_w3cv3.json/SBJ99-50.0/BDLMapper_20_40_90/plot_task_alt1.png\n"
     ]
    },
    {
     "name": "stderr",
     "output_type": "stream",
     "text": [
      "100%|███████████████████████████████████████████████████████████████████████████████████| 4/4 [00:03<00:00,  1.27it/s]\n"
     ]
    }
   ],
   "source": [
    "df = pd.DataFrame(data=table)\n",
    "\n",
    "for sbj in tqdm(sbjs):\n",
    "    plot_grid(df, sbj, ['R'], ['G'], {}, local_dataset_path, regen=True)\n"
   ]
  },
  {
   "cell_type": "code",
   "execution_count": 11,
   "id": "e9857d5d",
   "metadata": {},
   "outputs": [
    {
     "data": {
      "text/plain": [
       "'/Users/dh/workspace/BDL/demapper/results/w3c_ss/analysis/mappers_w3cv3.json/'"
      ]
     },
     "execution_count": 11,
     "metadata": {},
     "output_type": "execute_result"
    }
   ],
   "source": [
    "local_dataset_path"
   ]
  },
  {
   "cell_type": "code",
   "execution_count": 28,
   "id": "d39357ed",
   "metadata": {
    "scrolled": false
   },
   "outputs": [],
   "source": [
    "df = pd.DataFrame(data=table)\n",
    "\n",
    "# for sbj in tqdm(sbjs):\n",
    "    \n",
    "sbj = 'SBJ99'\n",
    "plot_grid(df, sbj, ['G'], ['R'], {}, '/Users/dh/workspace/BDL/demapper/results/w3c_ss', regen=True)\n"
   ]
  },
  {
   "cell_type": "code",
   "execution_count": 26,
   "id": "b6290b48",
   "metadata": {},
   "outputs": [
    {
     "data": {
      "text/plain": [
       "[{'R': 40}, {'R': 30}, {'R': 20}, {'R': 10}]"
      ]
     },
     "execution_count": 26,
     "metadata": {},
     "output_type": "execute_result"
    }
   ],
   "source": [
    "ax_y = create_axis(df, ['R'])\n",
    "\n",
    "ax_y.reverse()\n",
    "ax_y"
   ]
  },
  {
   "cell_type": "code",
   "execution_count": null,
   "id": "bc6c5272",
   "metadata": {},
   "outputs": [],
   "source": []
  },
  {
   "cell_type": "code",
   "execution_count": null,
   "id": "49bfe935-d65c-42b4-82b9-e05706ba55d5",
   "metadata": {},
   "outputs": [],
   "source": []
  },
  {
   "cell_type": "markdown",
   "id": "4fc56e87",
   "metadata": {},
   "source": [
    "### Plot the group counts as bars"
   ]
  },
  {
   "cell_type": "code",
   "execution_count": 1,
   "id": "921c795e",
   "metadata": {},
   "outputs": [],
   "source": [
    "def filter_dataframe(df, filters):\n",
    "    df_filter = None\n",
    "    for fi, (key, vals) in enumerate(filters.items()):\n",
    "        df_f = df[key] == vals[0]\n",
    "        for i in range(1, len(vals)):\n",
    "            df_f = (df_f | (df[key] == vals[0]))\n",
    "        if fi == 0:\n",
    "            df_filter = df_f\n",
    "        else:\n",
    "            df_filter = (df_f & df_filter)\n",
    "        \n",
    "    df_filtered = df[df_filter]\n",
    "    return df_filtered\n",
    "\n",
    "def count_passing(df, limits):\n",
    "    df_filter = None\n",
    "    for fi, (target, lims) in enumerate(limits.items()):\n",
    "        df_f = (df[target] >= lims[0]) & (df[target] <= lims[1]) \n",
    "        if fi == 0:\n",
    "            df_filter = df_f\n",
    "        else:\n",
    "            df_filter = (df_f & df_filter)\n",
    "    return(sum(df_filter))\n"
   ]
  },
  {
   "cell_type": "code",
   "execution_count": 6,
   "id": "97e9a62f",
   "metadata": {},
   "outputs": [],
   "source": [
    "PICKED_DATASET = 'ss_w3cv5lens_fast'\n",
    "\n",
    "datadir = DATASETS[PICKED_DATASET]\n",
    "stats_path = os.path.join(datadir, 'compute_stats-combined.csv')\n",
    "results_path = os.path.join(datadir, 'scores-all.csv')\n"
   ]
  },
  {
   "cell_type": "code",
   "execution_count": 7,
   "id": "e6a5bc25",
   "metadata": {},
   "outputs": [
    {
     "name": "stdout",
     "output_type": "stream",
     "text": [
      "len(stats):  7000\n",
      "len(results):  7000\n",
      "After filter:  375\n",
      "len(stats):  7000\n",
      "len(results):  7000\n",
      "After filter:  125\n"
     ]
    }
   ],
   "source": [
    "filters = {\n",
    "    'SBJ': ['SBJ99'],\n",
    "#     'preptype': ['none'],\n",
    "#     'linkbins': [10]\n",
    "}\n",
    "\n",
    "# Extract geodesic distances mappers\n",
    "filter_by = FILTERS[PICKED_DATASET][0]\n",
    "df, max_values = extract_dataset(stats_path, results_path, filter_by, extract_params_f)\n",
    "target_metrics_limits_geo = {\n",
    "    'TransitionBetweeness': [0, max_values['TransitionBetweeness'] * 0.99], # Need the data first, add later\n",
    "    'coverage_nodes': [0.7, 1.0],\n",
    "    'distances_entropy': [2.0, 10000.0],\n",
    "    'hrfdur_stat': [0.15, 1.0],\n",
    "}\n",
    "df_geodists = filter_dataframe(df, filters)\n",
    "print('After filter: ', len(df_geodists))\n",
    "\n",
    "# Extract non-geodesic distances mappers\n",
    "filter_by = FILTERS[PICKED_DATASET][1]\n",
    "df, max_values = extract_dataset(stats_path, results_path, filter_by, extract_params_f)\n",
    "target_metrics_limits_nongeo = {\n",
    "    'TransitionBetweeness': [0, max_values['TransitionBetweeness'] * 0.99], # Need the data first, add later\n",
    "    'coverage_nodes': [0.7, 1.0],\n",
    "    'distances_entropy': [2.0, 10000.0],\n",
    "    'hrfdur_stat': [0.15, 1.0],\n",
    "}\n",
    "df_nongeodists = filter_dataframe(df, filters)\n",
    "print('After filter: ', len(df_nongeodists))"
   ]
  },
  {
   "cell_type": "code",
   "execution_count": 92,
   "id": "33bb24b1",
   "metadata": {},
   "outputs": [],
   "source": [
    "dists = ['chebychev', 'correlation', 'cosine', 'cityblock', 'euclidean']\n",
    "Kvals = df_geodists['K'].drop_duplicates().to_numpy()\n",
    "\n",
    "table = []\n",
    "# counts = {d:{} for d in dists}\n",
    "for dist in dists:\n",
    "    \n",
    "    fdf = filter_dataframe(df_nongeodists, { 'dist': [dist] })\n",
    "    cnt = count_passing(fdf, target_metrics_limits_nongeo)\n",
    "    table.append({\n",
    "        'dist': dist,\n",
    "        'K': 'non geodesic',\n",
    "        'count': cnt,\n",
    "        'perc': cnt / len(fdf),\n",
    "        \n",
    "    })\n",
    "    for k in Kvals:\n",
    "        fdf = filter_dataframe(df_geodists, { 'dist': [dist], 'K': [k] })\n",
    "        cnt = count_passing(fdf, target_metrics_limits_geo)\n",
    "        table.append({\n",
    "            'dist': dist,\n",
    "            'K': 'geodesic k={}'.format(k),\n",
    "            'count': cnt,\n",
    "            'perc': cnt / len(fdf) * 100.0\n",
    "        })\n",
    "        \n",
    "counts_df = pd.DataFrame(data=table)"
   ]
  },
  {
   "cell_type": "code",
   "execution_count": 94,
   "id": "530b3838",
   "metadata": {},
   "outputs": [
    {
     "data": {
      "image/png": "[encoded data removed]",
      "text/plain": [
       "<Figure size 542.975x432 with 1 Axes>"
      ]
     },
     "metadata": {},
     "output_type": "display_data"
    }
   ],
   "source": [
    "g = sns.catplot(\n",
    "    data=counts_df, kind=\"bar\",\n",
    "    x=\"dist\", y=\"perc\", hue=\"K\",\n",
    "    ci=\"sd\", palette=\"dark\", alpha=.6, height=6\n",
    ")\n",
    "g.despine(left=True)\n",
    "g.set_axis_labels(\"\", \"Percentage valid\")\n",
    "g.set(ylim=(0, 100))\n",
    "g.legend.set_title(\"\")\n",
    "plt.show()"
   ]
  },
  {
   "cell_type": "markdown",
   "id": "c096d222",
   "metadata": {},
   "source": [
    "#### Generate for all"
   ]
  },
  {
   "cell_type": "code",
   "execution_count": 11,
   "id": "de935c60",
   "metadata": {},
   "outputs": [
    {
     "name": "stdout",
     "output_type": "stream",
     "text": [
      "len(stats):  6000\n",
      "len(results):  6000\n",
      "len(stats):  6000\n",
      "len(results):  6000\n"
     ]
    },
    {
     "name": "stderr",
     "output_type": "stream",
     "text": [
      "100%|███████████████████████████████████████████████████████████████████████████████████| 8/8 [00:01<00:00,  4.57it/s]\n"
     ]
    },
    {
     "name": "stdout",
     "output_type": "stream",
     "text": [
      "len(stats):  4500\n",
      "len(results):  4500\n",
      "len(stats):  4500\n",
      "len(results):  4500\n"
     ]
    },
    {
     "name": "stderr",
     "output_type": "stream",
     "text": [
      "100%|███████████████████████████████████████████████████████████████████████████████████| 6/6 [00:01<00:00,  4.07it/s]\n"
     ]
    },
    {
     "name": "stdout",
     "output_type": "stream",
     "text": [
      "len(stats):  4500\n",
      "len(results):  4500\n",
      "len(stats):  4500\n",
      "len(results):  4500\n"
     ]
    },
    {
     "name": "stderr",
     "output_type": "stream",
     "text": [
      "100%|███████████████████████████████████████████████████████████████████████████████████| 6/6 [00:01<00:00,  4.50it/s]\n"
     ]
    }
   ],
   "source": [
    "\n",
    "dists = ['chebychev', 'correlation', 'cosine', 'cityblock', 'euclidean']\n",
    "\n",
    "PICKED_DATASETs = ['ss_w3cv5lens2_fast', 'wnoise_w3cv5lens2_fast', 'hightr_w3cv5lens2_fast']\n",
    "\n",
    "for PICKED_DATASET in PICKED_DATASETs:\n",
    "    datadir = DATASETS[PICKED_DATASET]\n",
    "    stats_path = os.path.join(datadir, 'compute_stats-combined.csv')\n",
    "    results_path = os.path.join(datadir, 'scores-all.csv')\n",
    "\n",
    "\n",
    "    # Extract geodesic distances mappers\n",
    "    filter_by = FILTERS[PICKED_DATASET][0]\n",
    "    df_geo, max_values = extract_dataset(stats_path, results_path, filter_by, extract_params_f)\n",
    "    target_metrics_limits_geo = {\n",
    "        'TransitionBetweeness': [0, max_values['TransitionBetweeness'] * 0.99], # Need the data first, add later\n",
    "        'coverage_nodes': [0.7, 1.0],\n",
    "        'distances_entropy': [2.0, 10000.0],\n",
    "        'hrfdur_stat': [0.15, 1.0],\n",
    "    }\n",
    "\n",
    "    # Extract non-geodesic distances mappers\n",
    "    filter_by = FILTERS[PICKED_DATASET][1]\n",
    "    df_nongeo, max_values = extract_dataset(stats_path, results_path, filter_by, extract_params_f)\n",
    "    target_metrics_limits_nongeo = {\n",
    "        'TransitionBetweeness': [0, max_values['TransitionBetweeness'] * 0.99], # Need the data first, add later\n",
    "        'coverage_nodes': [0.7, 1.0],\n",
    "        'distances_entropy': [2.0, 10000.0],\n",
    "        'hrfdur_stat': [0.15, 1.0],\n",
    "    }\n",
    "\n",
    "    sbjs = df_geo['SBJ'].drop_duplicates().to_numpy()\n",
    "    for sbj in tqdm(sbjs):\n",
    "        sbj_filters = {\n",
    "            'SBJ': [sbj],\n",
    "        }\n",
    "\n",
    "        df_geodists = filter_dataframe(df_geo, sbj_filters)\n",
    "        df_nongeodists = filter_dataframe(df_nongeo, sbj_filters)\n",
    "        Kvals = df_geodists['K'].drop_duplicates().to_numpy()\n",
    "\n",
    "        table = []\n",
    "        # counts = {d:{} for d in dists}\n",
    "        for dist in dists:\n",
    "\n",
    "            fdf = filter_dataframe(df_nongeodists, { 'dist': [dist] })\n",
    "            cnt = count_passing(fdf, target_metrics_limits_nongeo)\n",
    "            table.append({\n",
    "                'dist': dist,\n",
    "                'K': 'non geodesic',\n",
    "                'count': cnt,\n",
    "                'perc': cnt / len(fdf) * 100.0,\n",
    "\n",
    "            })\n",
    "            for k in sorted(Kvals):\n",
    "                fdf = filter_dataframe(df_geodists, { 'dist': [dist], 'K': [k] })\n",
    "                cnt = count_passing(fdf, target_metrics_limits_geo)\n",
    "                table.append({\n",
    "                    'dist': dist,\n",
    "                    'K': 'geodesic k={}'.format(k),\n",
    "                    'count': cnt,\n",
    "                    'perc': cnt / len(fdf) * 100.0\n",
    "                })\n",
    "\n",
    "        counts_df = pd.DataFrame(data=table)\n",
    "\n",
    "        g = sns.catplot(\n",
    "            data=counts_df, kind=\"bar\",\n",
    "            x=\"dist\", y=\"perc\", hue=\"K\",\n",
    "            ci=\"sd\", palette=\"dark\", alpha=.6, height=6\n",
    "        )\n",
    "        g.despine(left=True)\n",
    "        g.set_axis_labels(\"\", \"Percentage valid\")\n",
    "        g.set(ylim=(0, 100))\n",
    "        g.legend.set_title(\"\")\n",
    "#         plt.tight_layout()\n",
    "\n",
    "        save_path = os.path.join(datadir, 'dists_{}_distrib.png'.format(sbj))\n",
    "        plt.savefig(save_path, dpi=150)\n",
    "        plt.close()\n",
    "        # plt.show()\n"
   ]
  },
  {
   "cell_type": "code",
   "execution_count": 10,
   "id": "844a5a2b",
   "metadata": {},
   "outputs": [
    {
     "data": {
      "text/plain": [
       "[4, 6, 24, 32, 96]"
      ]
     },
     "execution_count": 10,
     "metadata": {},
     "output_type": "execute_result"
    }
   ],
   "source": [
    "sorted(Kvals)"
   ]
  },
  {
   "cell_type": "code",
   "execution_count": 20,
   "id": "2822ba29",
   "metadata": {},
   "outputs": [],
   "source": []
  },
  {
   "cell_type": "code",
   "execution_count": 12,
   "id": "cf3d6a6c",
   "metadata": {},
   "outputs": [
    {
     "name": "stdout",
     "output_type": "stream",
     "text": [
      "len(stats):  5000\n",
      "len(results):  5000\n"
     ]
    },
    {
     "name": "stderr",
     "output_type": "stream",
     "text": [
      "100%|███████████████████████████████████████████████████████████████████████████████████| 8/8 [00:01<00:00,  5.05it/s]\n"
     ]
    },
    {
     "name": "stdout",
     "output_type": "stream",
     "text": [
      "len(stats):  3750\n",
      "len(results):  3750\n"
     ]
    },
    {
     "name": "stderr",
     "output_type": "stream",
     "text": [
      "100%|███████████████████████████████████████████████████████████████████████████████████| 6/6 [00:01<00:00,  4.44it/s]\n"
     ]
    },
    {
     "name": "stdout",
     "output_type": "stream",
     "text": [
      "len(stats):  3750\n",
      "len(results):  3750\n"
     ]
    },
    {
     "name": "stderr",
     "output_type": "stream",
     "text": [
      "100%|███████████████████████████████████████████████████████████████████████████████████| 6/6 [00:01<00:00,  5.04it/s]\n"
     ]
    }
   ],
   "source": [
    "\n",
    "dists = ['chebychev', 'correlation', 'cosine', 'cityblock', 'euclidean']\n",
    "\n",
    "PICKED_DATASETs = ['ss_w3cv6lens2_fast', 'wnoise_w3cv6lens2_fast', 'hightr_w3cv6lens2_fast']\n",
    "\n",
    "for PICKED_DATASET in PICKED_DATASETs:\n",
    "    datadir = DATASETS[PICKED_DATASET]\n",
    "    stats_path = os.path.join(datadir, 'compute_stats-combined.csv')\n",
    "    results_path = os.path.join(datadir, 'scores-all.csv')\n",
    "\n",
    "    # Extract geodesic distances mappers\n",
    "    filter_by = FILTERS[PICKED_DATASET][0]\n",
    "    df_geo, max_values = extract_dataset(stats_path, results_path, filter_by, extract_params_f)\n",
    "    target_metrics_limits_geo = {\n",
    "        'TransitionBetweeness': [0, max_values['TransitionBetweeness'] * 0.99], # Need the data first, add later\n",
    "        'coverage_nodes': [0.7, 1.0],\n",
    "        'distances_entropy': [2.0, 10000.0],\n",
    "        'hrfdur_stat': [0.15, 1.0],\n",
    "    }\n",
    "\n",
    "    sbjs = df_geo['SBJ'].drop_duplicates().to_numpy()\n",
    "    for sbj in tqdm(sbjs):\n",
    "        sbj_filters = {\n",
    "            'SBJ': [sbj],\n",
    "        }\n",
    "\n",
    "        df_geodists = filter_dataframe(df_geo, sbj_filters)\n",
    "        Kvals = df_geodists['K'].drop_duplicates().to_numpy()\n",
    "\n",
    "        table = []\n",
    "        # counts = {d:{} for d in dists}\n",
    "        for dist in dists:\n",
    "            for k in sorted(Kvals):\n",
    "                fdf = filter_dataframe(df_geodists, { 'dist': [dist], 'K': [k] })\n",
    "                cnt = count_passing(fdf, target_metrics_limits_geo)\n",
    "                table.append({\n",
    "                    'dist': dist,\n",
    "                    'K': 'geodesic k={}'.format(k),\n",
    "                    'count': cnt,\n",
    "                    'perc': cnt / len(fdf) * 100.0\n",
    "                })\n",
    "\n",
    "        counts_df = pd.DataFrame(data=table)\n",
    "\n",
    "        g = sns.catplot(\n",
    "            data=counts_df, kind=\"bar\",\n",
    "            x=\"dist\", y=\"perc\", hue=\"K\",\n",
    "            ci=\"sd\", palette=sns.color_palette(\"dark\")[1:], alpha=.6, height=6\n",
    "        )\n",
    "        g.despine(left=True)\n",
    "        g.set_axis_labels(\"\", \"Percentage valid\")\n",
    "        g.set(ylim=(0, 100))\n",
    "        g.legend.set_title(\"\")\n",
    "#         plt.tight_layout()\n",
    "\n",
    "        save_path = os.path.join(datadir, 'dists_{}_distrib.png'.format(sbj))\n",
    "        plt.savefig(save_path, dpi=150)\n",
    "        plt.close()\n",
    "        # plt.show()\n"
   ]
  },
  {
   "cell_type": "code",
   "execution_count": null,
   "id": "6d7a1fa3",
   "metadata": {},
   "outputs": [],
   "source": []
  },
  {
   "cell_type": "code",
   "execution_count": 32,
   "id": "f9ee2099",
   "metadata": {},
   "outputs": [
    {
     "data": {
      "text/plain": [
       "[(0.6941176470588235, 0.25098039215686274, 0.050980392156862744),\n",
       " (0.07058823529411765, 0.44313725490196076, 0.10980392156862745),\n",
       " (0.5490196078431373, 0.03137254901960784, 0.0),\n",
       " (0.34901960784313724, 0.11764705882352941, 0.44313725490196076),\n",
       " (0.34901960784313724, 0.1843137254901961, 0.050980392156862744),\n",
       " (0.6352941176470588, 0.20784313725490197, 0.5098039215686274),\n",
       " (0.23529411764705882, 0.23529411764705882, 0.23529411764705882),\n",
       " (0.7215686274509804, 0.5215686274509804, 0.0392156862745098),\n",
       " (0.0, 0.38823529411764707, 0.4549019607843137)]"
      ]
     },
     "execution_count": 32,
     "metadata": {},
     "output_type": "execute_result"
    }
   ],
   "source": []
  },
  {
   "cell_type": "code",
   "execution_count": null,
   "id": "f602ea7b",
   "metadata": {},
   "outputs": [],
   "source": []
  },
  {
   "cell_type": "code",
   "execution_count": 9,
   "id": "d29c2f70",
   "metadata": {},
   "outputs": [
    {
     "data": {
      "image/png": "[encoded data removed]",
      "text/plain": [
       "<Figure size 542.975x432 with 1 Axes>"
      ]
     },
     "metadata": {},
     "output_type": "display_data"
    }
   ],
   "source": [
    "g = sns.catplot(\n",
    "    data=counts_df, kind=\"bar\",\n",
    "    x=\"dist\", y=\"count\", hue=\"K\",\n",
    "    ci=\"sd\", palette=\"dark\", alpha=.6, height=6\n",
    ")\n",
    "g.despine(left=True)\n",
    "g.set_axis_labels(\"\", \"Count of good representations\")\n",
    "g.legend.set_title(\"\")"
   ]
  },
  {
   "cell_type": "code",
   "execution_count": null,
   "id": "e10bf994",
   "metadata": {},
   "outputs": [],
   "source": []
  },
  {
   "cell_type": "markdown",
   "id": "19629528",
   "metadata": {},
   "source": [
    "### K values"
   ]
  },
  {
   "cell_type": "code",
   "execution_count": 103,
   "id": "29d48031",
   "metadata": {},
   "outputs": [
    {
     "name": "stdout",
     "output_type": "stream",
     "text": [
      "len(stats):  2250\n",
      "len(results):  2250\n"
     ]
    }
   ],
   "source": [
    "\n",
    "dists = ['chebychev', 'correlation', 'cosine', 'cityblock', 'euclidean']\n",
    "\n",
    "PICKED_DATASET = 'ss_w3cv5kval_fast'\n",
    "datadir = DATASETS[PICKED_DATASET]\n",
    "stats_path = os.path.join(datadir, 'compute_stats-combined.csv')\n",
    "results_path = os.path.join(datadir, 'scores-all.csv')\n",
    "\n",
    "# Extract geodesic distances mappers\n",
    "filter_by = FILTERS[PICKED_DATASET][0]\n",
    "df_geo, max_values = extract_dataset(stats_path, results_path, filter_by, extract_params_f)\n",
    "target_metrics_limits_geo = {\n",
    "    'TransitionBetweeness': [0, max_values['TransitionBetweeness'] * 0.99], # Need the data first, add later\n",
    "    'coverage_nodes': [0.7, 1.0],\n",
    "    'distances_entropy': [2.0, 10000.0],\n",
    "    'hrfdur_stat': [0.15, 1.0],\n",
    "}\n",
    "\n",
    "# sbjs = df_geo['SBJ'].drop_duplicates().to_numpy()\n",
    "# for sbj in tqdm(sbjs):\n",
    "    \n",
    "sbj = 'SBJ99'\n",
    "sbj_filters = {\n",
    "    'SBJ': [sbj],\n",
    "}\n",
    "\n",
    "df_geodists = filter_dataframe(df_geo, sbj_filters)\n",
    "Kvals = df_geodists['K'].drop_duplicates().to_numpy()\n",
    "\n",
    "table = []\n",
    "# counts = {d:{} for d in dists}\n",
    "for dist in dists:\n",
    "    for k in Kvals:\n",
    "        fdf = filter_dataframe(df_geodists, { 'dist': [dist], 'K': [k] })\n",
    "        cnt = count_passing(fdf, target_metrics_limits_geo)\n",
    "        table.append({\n",
    "            'Distance type': dist,\n",
    "            'K': k,\n",
    "            'count': cnt,\n",
    "            'perc': cnt / len(fdf) * 100.0\n",
    "        })\n",
    "\n",
    "counts_df = pd.DataFrame(data=table)\n",
    "\n",
    "f, ax = plt.subplots(figsize=(10, 5))\n",
    "# ax.set(xscale=\"log\")\n",
    "\n",
    "g = sns.lineplot(data=counts_df, x=\"K\", y=\"perc\", hue=\"Distance type\", style=\"Distance type\", markers=True, dashes=False)\n",
    "g.set(xscale=\"log\")\n",
    "g.set_ylabel(\"Percentage valid\")\n",
    "g.set_xticks(sorted(Kvals))\n",
    "g.set_xticklabels(sorted(Kvals))\n",
    "g.set(ylim=(0, 100))\n",
    "plt.tight_layout()\n",
    "# plt.show()\n",
    "\n",
    "save_path = os.path.join(datadir, 'kvalue_dists_{}_distrib.png'.format(sbj))\n",
    "plt.savefig(save_path, dpi=150)\n",
    "plt.close()\n"
   ]
  },
  {
   "cell_type": "code",
   "execution_count": 48,
   "id": "e87c11e8",
   "metadata": {},
   "outputs": [
    {
     "name": "stdout",
     "output_type": "stream",
     "text": [
      "len(stats):  6000\n",
      "len(results):  6000\n"
     ]
    }
   ],
   "source": [
    "\n",
    "### Non-geodesic distribution\n",
    "dists = ['chebychev', 'correlation', 'cosine', 'cityblock', 'euclidean']\n",
    "\n",
    "PICKED_DATASET = 'ss_w3cv5lens2_fast'\n",
    "datadir = DATASETS[PICKED_DATASET]\n",
    "stats_path = os.path.join(datadir, 'compute_stats-combined.csv')\n",
    "results_path = os.path.join(datadir, 'scores-all.csv')\n",
    "\n",
    "# Extract non-geodesic distances mappers\n",
    "filter_by = FILTERS[PICKED_DATASET][1]\n",
    "df_nongeo, max_values = extract_dataset(stats_path, results_path, filter_by, extract_params_f)\n",
    "target_metrics_limits_nongeo = {\n",
    "    'TransitionBetweeness': [0, max_values['TransitionBetweeness'] * 0.99], # Need the data first, add later\n",
    "    'coverage_nodes': [0.7, 1.0],\n",
    "    'distances_entropy': [2.0, 10000.0],\n",
    "    'hrfdur_stat': [0.15, 1.0],\n",
    "}\n",
    "\n",
    "# sbjs = df_geo['SBJ'].drop_duplicates().to_numpy()\n",
    "# for sbj in tqdm(sbjs):\n",
    "    \n",
    "sbj = 'SBJ99'\n",
    "sbj_filters = {\n",
    "    'SBJ': [sbj],\n",
    "}\n",
    "\n",
    "df_nongeodists = filter_dataframe(df_nongeo, sbj_filters)\n",
    "\n",
    "table = []\n",
    "table = []\n",
    "for dist in dists:\n",
    "    fdf = filter_dataframe(df_nongeodists, { 'dist': [dist] })\n",
    "    cnt = count_passing(fdf, target_metrics_limits_nongeo)\n",
    "    table.append({\n",
    "        'dist': dist,\n",
    "        'K': 'non geodesic',\n",
    "        'count': cnt,\n",
    "        'perc': cnt / len(fdf) * 100.0,\n",
    "\n",
    "    })\n",
    "\n",
    "\n",
    "counts_df = pd.DataFrame(data=table)\n",
    "\n",
    "g = sns.catplot(\n",
    "    data=counts_df, kind=\"bar\",\n",
    "    x=\"dist\", y=\"perc\",\n",
    "    ci=\"sd\", palette=\"dark\", alpha=.7, height=6, aspect=0.5\n",
    ")\n",
    "g.despine(left=True)\n",
    "g.set_axis_labels(\"\", \"Percentage valid\")\n",
    "g.set(ylim=(0, 100))\n",
    "g.set_xticklabels(rotation=70)\n",
    "plt.tight_layout()\n",
    "# plt.show()\n",
    "\n",
    "save_path = os.path.join(datadir, 'nongeo_dists_{}_distrib.png'.format(sbj))\n",
    "plt.savefig(save_path, dpi=150)\n",
    "plt.close()\n"
   ]
  },
  {
   "cell_type": "code",
   "execution_count": 46,
   "id": "5e0c3f65",
   "metadata": {},
   "outputs": [],
   "source": []
  },
  {
   "cell_type": "code",
   "execution_count": 34,
   "id": "9cc7d36a",
   "metadata": {
    "scrolled": false
   },
   "outputs": [],
   "source": []
  },
  {
   "cell_type": "markdown",
   "id": "9ba00603",
   "metadata": {},
   "source": [
    "### Plot of added noise with non-geodesic doing better"
   ]
  },
  {
   "cell_type": "code",
   "execution_count": 55,
   "id": "98c33e24",
   "metadata": {
    "scrolled": true
   },
   "outputs": [
    {
     "name": "stdout",
     "output_type": "stream",
     "text": [
      "len(stats):  4500\n",
      "len(results):  4500\n",
      "len(stats):  4500\n",
      "len(results):  4500\n"
     ]
    }
   ],
   "source": [
    "\n",
    "dists = ['chebychev', 'correlation', 'cosine', 'cityblock', 'euclidean']\n",
    "\n",
    "PICKED_DATASET = 'wnoise_w3cv5lens2_fast'\n",
    "\n",
    "datadir = DATASETS[PICKED_DATASET]\n",
    "stats_path = os.path.join(datadir, 'compute_stats-combined.csv')\n",
    "results_path = os.path.join(datadir, 'scores-all.csv')\n",
    "\n",
    "\n",
    "# Extract geodesic distances mappers\n",
    "filter_by = FILTERS[PICKED_DATASET][0]\n",
    "df_geo, max_values = extract_dataset(stats_path, results_path, filter_by, extract_params_f)\n",
    "target_metrics_limits_geo = {\n",
    "    'TransitionBetweeness': [0, max_values['TransitionBetweeness'] * 0.99], # Need the data first, add later\n",
    "    'coverage_nodes': [0.7, 1.0],\n",
    "    'distances_entropy': [2.0, 10000.0],\n",
    "    'hrfdur_stat': [0.15, 1.0],\n",
    "}\n",
    "\n",
    "# Extract non-geodesic distances mappers\n",
    "filter_by = FILTERS[PICKED_DATASET][1]\n",
    "df_nongeo, max_values = extract_dataset(stats_path, results_path, filter_by, extract_params_f)\n",
    "target_metrics_limits_nongeo = {\n",
    "    'TransitionBetweeness': [0, max_values['TransitionBetweeness'] * 0.99], # Need the data first, add later\n",
    "    'coverage_nodes': [0.7, 1.0],\n",
    "    'distances_entropy': [2.0, 10000.0],\n",
    "    'hrfdur_stat': [0.15, 1.0],\n",
    "}\n",
    "\n",
    "table = []\n",
    "sbjs = df_geo['SBJ'].drop_duplicates().to_numpy()\n",
    "for sbj in sbjs:\n",
    "    sbj_filters = {\n",
    "        'SBJ': [sbj],\n",
    "    }\n",
    "    noise_added = int(sbj.replace('SBJ', '')) - 100\n",
    "\n",
    "    df_geodists = filter_dataframe(df_geo, sbj_filters)\n",
    "    df_nongeodists = filter_dataframe(df_nongeo, sbj_filters)\n",
    "    Kvals = df_geodists['K'].drop_duplicates().to_numpy()\n",
    "\n",
    "    # counts = {d:{} for d in dists}\n",
    "#     for dist in dists:\n",
    "    # !!!!! Limit to only the 4 distances that are relevant\n",
    "    for dist in ['cosine', 'euclidean']:\n",
    "\n",
    "        fdf = filter_dataframe(df_nongeodists, { 'dist': [dist] })\n",
    "        cnt = count_passing(fdf, target_metrics_limits_nongeo)\n",
    "        table.append({\n",
    "            'dist': dist,\n",
    "            'K': 'non geodesic',\n",
    "            'count': cnt,\n",
    "            'perc': cnt / len(fdf) * 100.0,\n",
    "            'noise': noise_added\n",
    "        })\n",
    "        for k in sorted(Kvals):\n",
    "            fdf = filter_dataframe(df_geodists, { 'dist': [dist], 'K': [k] })\n",
    "            cnt = count_passing(fdf, target_metrics_limits_geo)\n",
    "            table.append({\n",
    "                'dist': dist,\n",
    "                'K': 'geodesic k={}'.format(k),\n",
    "                'count': cnt,\n",
    "                'perc': cnt / len(fdf) * 100.0,\n",
    "                'noise': noise_added\n",
    "            })\n",
    "\n",
    "counts_df = pd.DataFrame(data=table)\n",
    "\n",
    "\n",
    "f, ax = plt.subplots(figsize=(10, 5))\n",
    "# ax.set(xscale=\"log\")\n",
    "\n",
    "g = sns.lineplot(data=counts_df, x=\"noise\", y=\"perc\", hue=\"K\", style=\"K\", markers=True, dashes=False)\n",
    "# g.set(xscale=\"log\")\n",
    "g.set_xlabel(\"Added noise\")\n",
    "g.set_ylabel(\"Percentage valid\")\n",
    "# g.set_xticks(sorted(Kvals))\n",
    "# g.set_xticklabels(sorted(Kvals))\n",
    "g.set(ylim=(0, 100))\n",
    "plt.tight_layout()\n",
    "# plt.show()\n",
    "\n",
    "save_path = os.path.join(datadir, 'noise_dists_distrib.png')\n",
    "plt.savefig(save_path, dpi=150)\n",
    "plt.close()\n"
   ]
  },
  {
   "cell_type": "code",
   "execution_count": 45,
   "id": "892fec69",
   "metadata": {},
   "outputs": [],
   "source": []
  },
  {
   "cell_type": "markdown",
   "id": "9a3cf762",
   "metadata": {},
   "source": [
    "### Plot of removing data and correlation does as again"
   ]
  },
  {
   "cell_type": "code",
   "execution_count": 19,
   "id": "93d9bb64",
   "metadata": {},
   "outputs": [
    {
     "name": "stdout",
     "output_type": "stream",
     "text": [
      "len(stats):  5000\n",
      "len(results):  5000\n"
     ]
    }
   ],
   "source": [
    "\n",
    "dists = ['chebychev', 'correlation', 'cosine', 'cityblock', 'euclidean']\n",
    "\n",
    "PICKED_DATASET = 'ss_w3cv6lens2_fast'\n",
    "\n",
    "datadir = DATASETS[PICKED_DATASET]\n",
    "stats_path = os.path.join(datadir, 'compute_stats-combined.csv')\n",
    "results_path = os.path.join(datadir, 'scores-all.csv')\n",
    "\n",
    "\n",
    "# Extract geodesic distances mappers\n",
    "filter_by = FILTERS[PICKED_DATASET][0]\n",
    "df_geo, max_values = extract_dataset(stats_path, results_path, filter_by, extract_params_f)\n",
    "target_metrics_limits_geo = {\n",
    "    'TransitionBetweeness': [0, max_values['TransitionBetweeness'] * 0.99], # Need the data first, add later\n",
    "    'coverage_nodes': [0.7, 1.0],\n",
    "    'distances_entropy': [2.0, 10000.0],\n",
    "    'hrfdur_stat': [0.15, 1.0],\n",
    "}\n",
    "\n",
    "# Extract non-geodesic distances mappers\n",
    "# filter_by = FILTERS[PICKED_DATASET][1]\n",
    "# df_nongeo, max_values = extract_dataset(stats_path, results_path, filter_by, extract_params_f)\n",
    "# target_metrics_limits_nongeo = {\n",
    "#     'TransitionBetweeness': [0, max_values['TransitionBetweeness'] * 0.99], # Need the data first, add later\n",
    "#     'coverage_nodes': [0.7, 1.0],\n",
    "#     'distances_entropy': [2.0, 10000.0],\n",
    "#     'hrfdur_stat': [0.15, 1.0],\n",
    "# }\n",
    "\n",
    "table = []\n",
    "# sbjs = df_geo['SBJ'].drop_duplicates().to_numpy()\n",
    "sbjs = ['SBJ99', 'SBJ99-50.0', 'SBJ99-75.0', 'SBJ99-83.0']\n",
    "for sbj in sbjs:\n",
    "    sbj_filters = {\n",
    "        'SBJ': [sbj],\n",
    "    }\n",
    "    if sbj == 'SBJ99':\n",
    "        perc_rm = 100.0\n",
    "    else:\n",
    "        perc_rm = float(sbj.replace('SBJ99', '')) * (-1)\n",
    "\n",
    "    df_geodists = filter_dataframe(df_geo, sbj_filters)\n",
    "#     df_nongeodists = filter_dataframe(df_nongeo, sbj_filters)\n",
    "    Kvals = df_geodists['K'].drop_duplicates().to_numpy()\n",
    "\n",
    "    # counts = {d:{} for d in dists}\n",
    "    for dist in dists:\n",
    "#         fdf = filter_dataframe(df_nongeodists, { 'dist': [dist] })\n",
    "#         cnt = count_passing(fdf, target_metrics_limits_nongeo)\n",
    "#         table.append({\n",
    "#             'dist': Distance type,\n",
    "#             'K': 'non geodesic',\n",
    "#             'count': cnt,\n",
    "#             'perc': cnt / len(fdf) * 100.0,\n",
    "#             'Percentage of Data kept': perc_rm\n",
    "#         })\n",
    "        for k in sorted(Kvals):\n",
    "            fdf = filter_dataframe(df_geodists, { 'dist': [dist], 'K': [k] })\n",
    "            cnt = count_passing(fdf, target_metrics_limits_geo)\n",
    "            table.append({\n",
    "                'Distance type': dist,\n",
    "                'K': 'geodesic k={}'.format(k),\n",
    "                'count': cnt,\n",
    "                'perc': cnt / len(fdf) * 100.0,\n",
    "                'Percentage of Data kept': perc_rm\n",
    "            })\n",
    "\n",
    "counts_df = pd.DataFrame(data=table)\n",
    "\n",
    "f, ax = plt.subplots(figsize=(10, 5))\n",
    "# ax.set(xscale=\"log\")\n",
    "\n",
    "g = sns.lineplot(data=counts_df, x=\"Percentage of Data kept\", y=\"perc\", hue=\"Distance type\", style=\"Distance type\", markers=True, dashes=False)\n",
    "# g.set(xscale=\"log\")\n",
    "g.set_ylabel(\"Percentage valid\")\n",
    "g.set(ylim=(0, 100))\n",
    "g.invert_xaxis()\n",
    "plt.tight_layout()\n",
    "# plt.show()\n",
    "\n",
    "save_path = os.path.join(datadir, 'datarm_dists_distrib.png')\n",
    "plt.savefig(save_path, dpi=150)\n",
    "plt.close()\n",
    "\n"
   ]
  },
  {
   "cell_type": "code",
   "execution_count": 101,
   "id": "9594b283",
   "metadata": {
    "scrolled": false
   },
   "outputs": [],
   "source": []
  },
  {
   "cell_type": "code",
   "execution_count": null,
   "id": "42bd623c",
   "metadata": {},
   "outputs": [],
   "source": []
  },
  {
   "cell_type": "code",
   "execution_count": null,
   "id": "0cbd8105",
   "metadata": {},
   "outputs": [],
   "source": []
  },
  {
   "cell_type": "code",
   "execution_count": 64,
   "id": "d1eae30a",
   "metadata": {},
   "outputs": [
    {
     "data": {
      "text/plain": [
       "array(['SBJ20', 'SBJ20-50.0', 'SBJ20-75.0', 'SBJ20-83.0', 'SBJ21',\n",
       "       'SBJ40', 'SBJ40-50.0', 'SBJ40-75.0', 'SBJ40-83.0', 'SBJ41',\n",
       "       'SBJ99', 'SBJ99-50.0', 'SBJ99-75.0', 'SBJ99-83.0'], dtype=object)"
      ]
     },
     "execution_count": 64,
     "metadata": {},
     "output_type": "execute_result"
    }
   ],
   "source": [
    "sbjs"
   ]
  },
  {
   "cell_type": "markdown",
   "id": "d1edffc0-acad-42e0-b72e-862deaf739cc",
   "metadata": {},
   "source": [
    "### Other plots (deprecated)"
   ]
  },
  {
   "cell_type": "code",
   "execution_count": null,
   "id": "485df04c",
   "metadata": {},
   "outputs": [],
   "source": [
    "\n",
    "\n",
    "def create_plot(df, ax, hparam, target, title=None):\n",
    "    labels = sorted(list(df[hparam].unique()))\n",
    "    data = [df[df[hparam] == label][target] for label in labels]\n",
    "    ax = sns.boxplot(data=data, ax=ax)\n",
    "    ax = sns.swarmplot(data=data, color=\".25\", ax=ax, size=1.5)\n",
    "    ax.set_xticklabels(labels, rotation=10)\n",
    "    ax.set_xlabel(hparam)\n",
    "    ax.set_ylabel(target)\n",
    "    ax.set_title('Distribution of {} over {}'.format(target,hparam) if not title else title)\n",
    "    ax.grid(alpha=0.4)\n",
    "    return ax\n"
   ]
  },
  {
   "cell_type": "code",
   "execution_count": null,
   "id": "3233c230",
   "metadata": {},
   "outputs": [],
   "source": [
    "\n",
    "target = 'ChangePointsIndicesError'\n",
    "\n",
    "plt.figure()\n",
    "ax = create_plot(df, None, 'K', target)\n",
    "plt.show()\n",
    "\n",
    "plt.figure()\n",
    "ax = create_plot(df, None, 'R', target)\n",
    "plt.show()\n",
    "\n",
    "plt.figure()\n",
    "ax = create_plot(df, None, 'G', target)\n",
    "plt.show()"
   ]
  },
  {
   "cell_type": "code",
   "execution_count": null,
   "id": "aba755c4",
   "metadata": {},
   "outputs": [],
   "source": [
    "\n",
    "target = 'ChangePointsResiduals'\n",
    "plt.figure()\n",
    "ax = create_plot(df, None, 'K', target)\n",
    "plt.show()\n",
    "\n",
    "plt.figure()\n",
    "ax = create_plot(df, None, 'R', target)\n",
    "plt.show()\n",
    "\n",
    "plt.figure()\n",
    "ax = create_plot(df, None, 'G', target)\n",
    "plt.show()"
   ]
  },
  {
   "cell_type": "code",
   "execution_count": null,
   "id": "8e004f3d",
   "metadata": {},
   "outputs": [],
   "source": [
    "fig = plt.figure()\n",
    "ax = fig.gca(projection='3d')\n",
    "ax.plot_trisurf(df['R'], df['G'], df['K'], cmap=plt.cm.jet, linewidth=0.01)\n",
    "plt.show()"
   ]
  },
  {
   "cell_type": "markdown",
   "id": "b2102be1",
   "metadata": {
    "tags": []
   },
   "source": [
    "# Plot of indices error"
   ]
  },
  {
   "cell_type": "code",
   "execution_count": null,
   "id": "f04cf5be",
   "metadata": {
    "tags": []
   },
   "outputs": [],
   "source": []
  },
  {
   "cell_type": "code",
   "execution_count": null,
   "id": "aef8bfc1",
   "metadata": {},
   "outputs": [],
   "source": [
    "df"
   ]
  },
  {
   "cell_type": "code",
   "execution_count": null,
   "id": "c3ec6010-eee1-443d-affd-4eb35d8da2ce",
   "metadata": {},
   "outputs": [],
   "source": []
  },
  {
   "cell_type": "code",
   "execution_count": null,
   "id": "c7f31e10-371a-435f-b602-d295e7780b2c",
   "metadata": {},
   "outputs": [],
   "source": [
    "sorted(df[df['R'] == 300]['hrfdur_stat-mean'].tolist())"
   ]
  },
  {
   "cell_type": "code",
   "execution_count": null,
   "id": "146ed21e-36d1-4ba1-852f-ffcd9519c22f",
   "metadata": {},
   "outputs": [],
   "source": []
  },
  {
   "cell_type": "code",
   "execution_count": null,
   "id": "17613785-eb76-4c3e-8357-7275c73eb762",
   "metadata": {},
   "outputs": [],
   "source": []
  },
  {
   "cell_type": "code",
   "execution_count": null,
   "id": "493bbbda-d570-41a3-a5bb-9b54c2148aba",
   "metadata": {},
   "outputs": [],
   "source": []
  },
  {
   "cell_type": "code",
   "execution_count": null,
   "id": "349a10a5",
   "metadata": {},
   "outputs": [],
   "source": []
  }
 ],
 "metadata": {
  "kernelspec": {
   "display_name": "Python 3 (ipykernel)",
   "language": "python",
   "name": "python3"
  },
  "language_info": {
   "codemirror_mode": {
    "name": "ipython",
    "version": 3
   },
   "file_extension": ".py",
   "mimetype": "text/x-python",
   "name": "python",
   "nbconvert_exporter": "python",
   "pygments_lexer": "ipython3",
   "version": "3.9.1"
  }
 },
 "nbformat": 4,
 "nbformat_minor": 5
}
