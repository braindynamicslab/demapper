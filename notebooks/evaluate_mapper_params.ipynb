{
 "cells": [
  {
   "cell_type": "code",
   "execution_count": 1,
   "metadata": {},
   "outputs": [],
   "source": [
    "%matplotlib inline"
   ]
  },
  {
   "cell_type": "code",
   "execution_count": 2,
   "metadata": {},
   "outputs": [],
   "source": [
    "import csv\n",
    "import os\n",
    "import numpy as np\n",
    "\n",
    "import matplotlib.pyplot as plt\n",
    "import pandas as pd\n",
    "import seaborn as sns\n",
    "\n"
   ]
  },
  {
   "cell_type": "code",
   "execution_count": 3,
   "metadata": {},
   "outputs": [],
   "source": [
    "# CONF = 'conf_bdlmapper_v1'\n",
    "# CONF = 'conf_neumapper_v1'\n",
    "CONF = 'conf_demapper_v1_binning'"
   ]
  },
  {
   "cell_type": "code",
   "execution_count": null,
   "metadata": {
    "collapsed": true
   },
   "outputs": [],
   "source": [
    "import os\n",
    "basedir = '/scratch/groups/saggar/mapper/experiments/cme_shine375/CME_mapper2d_data/processed_{}'.format(CONF)\n",
    "\n",
    "files = sorted([(fname, os.path.join(basedir, fname)) for fname in os.listdir(basedir) if fname.startswith('SBJ') and fname.endswith('.csv')])\n",
    "selected_files = [f for i,f in enumerate(files) if i % 2 == 0]"
   ]
  },
  {
   "cell_type": "code",
   "execution_count": null,
   "metadata": {},
   "outputs": [],
   "source": [
    "[k for k,_ in selected_files]"
   ]
  },
  {
   "cell_type": "code",
   "execution_count": null,
   "metadata": {},
   "outputs": [],
   "source": [
    "\n",
    "def create_plot(df, ax, hparam, target):\n",
    "    labels = sorted(list(df[hparam].unique()))\n",
    "    data = [df[df[hparam] == label][target] for label in labels]\n",
    "    ax = sns.boxplot(data=data, ax=ax)\n",
    "    ax = sns.swarmplot(data=data, color=\".25\", ax=ax, size=1.5)\n",
    "    ax.set_xticklabels(labels, rotation=10)\n",
    "    ax.set_xlabel(hparam)\n",
    "    ax.set_ylabel(target)\n",
    "    ax.set_title('Distribution of {} over {}'.format(target,hparam))\n",
    "    ax.grid(alpha=0.4)\n",
    "    return ax\n",
    "\n",
    "\n",
    "header = None\n",
    "with open(os.path.join(basedir, 'header.csv')) as f:\n",
    "    for row in csv.reader(f):\n",
    "        header = row\n",
    "\n",
    "\n",
    "outdir = os.path.join(basedir, 'hparams')\n",
    "os.makedirs(outdir, exist_ok=True)\n",
    "\n",
    "alpha_add = 1 if 'alpha' in header else 0\n",
    "HPARAMS = [h for h in ['R', 'K', 'G'] if h in header]\n",
    "HPARAMS_START = len(HPARAMS)\n",
    "HPARAMS_PLOTS = [4+alpha_add,6,5]\n",
    "\n",
    "assert len(header) == HPARAMS_START + sum(HPARAMS_PLOTS)"
   ]
  },
  {
   "cell_type": "code",
   "execution_count": null,
   "metadata": {},
   "outputs": [],
   "source": [
    "%%capture --no-stdout\n",
    "\n",
    "for fname, fpath in files: # Or only selected_files\n",
    "    print(fname)\n",
    "\n",
    "    df = pd.read_csv(fpath, header=None)\n",
    "    df.columns = header\n",
    "    \n",
    "    sns.set(style = \"whitegrid\")\n",
    "\n",
    "    curr_hparam = HPARAMS_START\n",
    "    for idx,hparam_size in enumerate(HPARAMS_PLOTS):\n",
    "        targets = header[curr_hparam:curr_hparam + hparam_size]\n",
    "        curr_hparam += hparam_size\n",
    "\n",
    "        fig,axs = plt.subplots(nrows=len(targets), ncols=len(HPARAMS), figsize=(10*len(HPARAMS), 10*len(targets)))\n",
    "\n",
    "        for axr, target in zip(axs, targets):\n",
    "            for ax, hparam in zip(axr, HPARAMS):\n",
    "                ax = create_plot(df, ax, hparam, target)\n",
    "\n",
    "        plt.tight_layout()\n",
    "        plt.savefig(\n",
    "            os.path.join(\n",
    "                outdir,\n",
    "                'hparams_{}-{}.png'.format(fname.replace('.csv', ''), idx)),\n",
    "            dpi=300)\n",
    "        plt.close()"
   ]
  },
  {
   "cell_type": "code",
   "execution_count": null,
   "metadata": {
    "collapsed": true
   },
   "outputs": [],
   "source": []
  },
  {
   "cell_type": "code",
   "execution_count": null,
   "metadata": {},
   "outputs": [],
   "source": [
    "\n",
    "for fname, fpath in files: # Or only selected_files\n",
    "    print(fname)\n",
    "\n",
    "    df = pd.read_csv(fpath, header=None)\n",
    "    df.columns = header\n",
    "    C = df.corr()\n",
    "    \n",
    "    plt.figure(figsize=(10,10))\n",
    "\n",
    "    ax = sns.heatmap(C, cmap='PiYG')\n",
    "    ax.xaxis.tick_top() # x axis on top\n",
    "    plt.xticks(rotation = 80)\n",
    "    ax.xaxis.set_label_position('top')\n",
    "\n",
    "    # plt.savefig(\"Plotting_Correlation_HeatMap.jpg\")\n",
    "    plt.savefig(os.path.join(outdir, 'corr_hps_{}.png'.format(fname.replace('.csv', ''))))\n",
    "    plt.close()\n",
    "    \n",
    "    C.to_csv(os.path.join(outdir, 'corr_hps_{}'.format(fname)))\n",
    "    "
   ]
  },
  {
   "cell_type": "code",
   "execution_count": null,
   "metadata": {
    "collapsed": true
   },
   "outputs": [],
   "source": []
  },
  {
   "cell_type": "code",
   "execution_count": null,
   "metadata": {},
   "outputs": [],
   "source": [
    "rcorrs = {}\n",
    "all_header = None\n",
    "\n",
    "for fname, fpath in files: # Or only selected_files\n",
    "#     fname, fpath = files[0]\n",
    "\n",
    "    csv_file = os.path.join(outdir, 'corr_hps_{}'.format(fname))\n",
    "\n",
    "    hh = None\n",
    "    with open(csv_file) as f:\n",
    "        for row in csv.reader(f):\n",
    "            if hh == None:\n",
    "                hh = row[1+HPARAMS_START:]\n",
    "                all_header = hh\n",
    "            else:\n",
    "                L = row[0]\n",
    "                if L not in rcorrs:\n",
    "                    rcorrs[L] = []\n",
    "#                 print(row)\n",
    "                rcorrs[L].append([float(r) if r != '' else 0.0 for r in row[1+HPARAMS_START:]])"
   ]
  },
  {
   "cell_type": "code",
   "execution_count": null,
   "metadata": {
    "collapsed": true
   },
   "outputs": [],
   "source": []
  },
  {
   "cell_type": "code",
   "execution_count": null,
   "metadata": {},
   "outputs": [],
   "source": [
    "HPARAMS"
   ]
  },
  {
   "cell_type": "code",
   "execution_count": null,
   "metadata": {},
   "outputs": [],
   "source": [
    "fig,axs = plt.subplots(nrows=1, ncols=len(HPARAMS), figsize=(10 * len(HPARAMS),10))\n",
    "\n",
    "for ax, HP in zip(axs, HPARAMS):\n",
    "    rcorrs[HP]\n",
    "    HP_df = pd.DataFrame(np.array(rcorrs[HP]), columns=all_header)\n",
    "    ax = sns.boxplot(data=HP_df, ax=ax)\n",
    "    ax.set_ylabel('Correlation')\n",
    "#     ax.set_xticks(rotation = 80)\n",
    "    ax.set_title('Correlation distribution for {} '.format(HP))\n",
    "    ax.set_ylim([-1, 1])\n",
    "    \n",
    "    props = {\"rotation\" : 80}\n",
    "    plt.setp(ax.get_xticklabels(), **props)\n",
    "    \n",
    "plt.tight_layout()\n",
    "plt.savefig(os.path.join(outdir, 'group_corr.png'))"
   ]
  },
  {
   "cell_type": "code",
   "execution_count": null,
   "metadata": {},
   "outputs": [],
   "source": [
    "import math\n",
    "\n",
    "nrows = 4\n",
    "ncols = math.ceil(len(all_header) / 4)\n",
    "fig,axs = plt.subplots(nrows=4, ncols=4, figsize=(30,30))\n",
    "\n",
    "HPs = ['R', 'K', 'G']\n",
    "\n",
    "idx = 0\n",
    "for axr in axs:\n",
    "    for ax in axr:\n",
    "        if idx >= len(all_header):\n",
    "            continue\n",
    "        target = all_header[idx]\n",
    "        X = np.array([np.array(rcorrs[hp])[:,idx] for hp in HPARAMS]).T\n",
    "\n",
    "#         rcorrs[HP]\n",
    "        target_df = pd.DataFrame(X, columns=HPARAMS)\n",
    "        ax = sns.boxplot(data=target_df, ax=ax)\n",
    "        ax.set_ylabel('Correlation')\n",
    "#         ax.set_xticks(rotation = 80)\n",
    "        ax.set_title('Correlation distribution for {} '.format(target))\n",
    "        ax.set_ylim([-1, 1])\n",
    "        idx += 1\n",
    "    \n",
    "plt.tight_layout()\n",
    "plt.savefig(os.path.join(outdir, 'group_corr_targets.png'))"
   ]
  },
  {
   "cell_type": "code",
   "execution_count": null,
   "metadata": {},
   "outputs": [],
   "source": [
    "len(all_header)"
   ]
  },
  {
   "cell_type": "code",
   "execution_count": null,
   "metadata": {
    "collapsed": true
   },
   "outputs": [],
   "source": []
  }
 ],
 "metadata": {
  "kernelspec": {
   "display_name": "Python 3 (ipykernel)",
   "language": "python",
   "name": "python3"
  },
  "language_info": {
   "codemirror_mode": {
    "name": "ipython",
    "version": 3
   },
   "file_extension": ".py",
   "mimetype": "text/x-python",
   "name": "python",
   "nbconvert_exporter": "python",
   "pygments_lexer": "ipython3",
   "version": "3.9.1"
  }
 },
 "nbformat": 4,
 "nbformat_minor": 2
}
