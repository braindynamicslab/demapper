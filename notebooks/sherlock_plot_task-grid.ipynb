{
 "cells": [
  {
   "cell_type": "markdown",
   "metadata": {},
   "source": [
    "# For CME, plot an image for each mapper where the grid is the subjects"
   ]
  },
  {
   "cell_type": "code",
   "execution_count": 11,
   "metadata": {
    "collapsed": true
   },
   "outputs": [],
   "source": [
    "import os\n",
    "import matplotlib.pyplot as plt\n",
    "import numpy as np\n",
    "\n",
    "mapper_config = 'mappers_cmev4_euc.json'\n",
    "main_path = '/scratch/groups/saggar/demapper-cme/{}'.format(mapper_config)\n",
    "res_path = '/scratch/groups/saggar/demapper-cme/analysis/ch8_{}/plot_task-grids'.format(mapper_config)\n",
    "os.makedirs(res_path, exist_ok=True)\n",
    "\n",
    "\n",
    "fname = 'plot_task-CME.png'\n",
    "sbjs = sorted([s for s in os.listdir(main_path) if s.startswith('SBJ')])\n",
    "mappers = sorted([m for m in os.listdir(os.path.join(main_path, sbjs[0])) if 'Mapper' in m])\n",
    "\n"
   ]
  },
  {
   "cell_type": "code",
   "execution_count": 12,
   "metadata": {
    "collapsed": true
   },
   "outputs": [],
   "source": [
    "import math\n",
    "from PIL import Image\n",
    "\n",
    "\n",
    "def plot_image(img_path, ax):\n",
    "    im = Image.open(img_path)\n",
    "    img = np.array(im)\n",
    "    ax.imshow(img)\n",
    "    del img\n",
    "    del im\n",
    "    return ax\n",
    "\n",
    "\n",
    "def process_mapper(mapper):\n",
    "    savepath = os.path.join(res_path, '{}-{}'.format(mapper, fname))\n",
    "    if os.path.isfile(savepath):\n",
    "        return\n",
    "    \n",
    "    ncols = 5\n",
    "    nrows = math.ceil(len(sbjs) / ncols)\n",
    "    fsize = 20 \n",
    "\n",
    "    fig, axr = plt.subplots(nrows=nrows, ncols=ncols, figsize=(fsize * (ncols/nrows)*1.1,fsize))\n",
    "\n",
    "    index = 0\n",
    "    for r,axc in enumerate(axr):\n",
    "        for c,ax in enumerate(axc):\n",
    "            # Disable ax defaults\n",
    "            ax.tick_params(left=False, bottom=False, labelleft=False, labelbottom=False)\n",
    "            ax.spines['top'].set_visible(False)\n",
    "            ax.spines['right'].set_visible(False)\n",
    "            ax.spines['bottom'].set_visible(False)\n",
    "            ax.spines['left'].set_visible(False)\n",
    "            ax.grid(False)\n",
    "\n",
    "            # get sbj and img_path and plot\n",
    "            if index >= len(sbjs):\n",
    "                continue\n",
    "            sbj = sbjs[index]\n",
    "            img_path = os.path.join(main_path, sbj, mapper, fname)\n",
    "\n",
    "            plot_image(img_path, ax)\n",
    "            ax.set_title(sbj)\n",
    "            index += 1\n",
    "\n",
    "    plt.suptitle(mapper)\n",
    "    # plt.tight_layout()\n",
    "    fig.tight_layout(rect=[0, 0.03, 1, 0.95])\n",
    "    # plt.show()\n",
    "    plt.savefig(savepath, dpi=100)\n",
    "    plt.close(fig)\n"
   ]
  },
  {
   "cell_type": "code",
   "execution_count": 13,
   "metadata": {
    "collapsed": true
   },
   "outputs": [],
   "source": [
    "mapper = mappers[0]\n",
    "process_mapper(mapper)"
   ]
  },
  {
   "cell_type": "code",
   "execution_count": 14,
   "metadata": {},
   "outputs": [
    {
     "name": "stderr",
     "output_type": "stream",
     "text": [
      "100%|██████████| 539/539 [24:57<00:00,  2.78s/it]  \n"
     ]
    }
   ],
   "source": [
    "from tqdm import tqdm\n",
    "\n",
    "for mapper in tqdm(mappers):\n",
    "    process_mapper(mapper)"
   ]
  },
  {
   "cell_type": "code",
   "execution_count": null,
   "metadata": {
    "collapsed": true
   },
   "outputs": [],
   "source": []
  },
  {
   "cell_type": "code",
   "execution_count": null,
   "metadata": {
    "collapsed": true
   },
   "outputs": [],
   "source": []
  },
  {
   "cell_type": "markdown",
   "metadata": {},
   "source": [
    "# For CME, for selected mappers and subjects, plot a grid"
   ]
  },
  {
   "cell_type": "code",
   "execution_count": 3,
   "metadata": {
    "collapsed": true
   },
   "outputs": [],
   "source": [
    "import os\n",
    "import matplotlib.pyplot as plt\n",
    "import numpy as np\n",
    "\n",
    "mapper_config = 'mappers_cmev3_disp.json'\n",
    "main_path = '/scratch/groups/saggar/demapper-cme/{}'.format(mapper_config)\n",
    "res_path = '/scratch/groups/saggar/demapper-cme/analysis/{}/plot_task-grids'.format(mapper_config)\n",
    "os.makedirs(res_path, exist_ok=True)\n",
    "\n",
    "fname = 'plot_task-CME.png'\n",
    "sbjs = sorted([s for s in os.listdir(main_path) if s.startswith('SBJ')])\n",
    "mappers = sorted([m for m in os.listdir(os.path.join(main_path, sbjs[0])) if 'Mapper' in m])\n"
   ]
  },
  {
   "cell_type": "code",
   "execution_count": 46,
   "metadata": {
    "collapsed": true
   },
   "outputs": [],
   "source": [
    "import math\n",
    "from PIL import Image\n",
    "\n",
    "\n",
    "def plot_image(img_path, ax):\n",
    "    im = Image.open(img_path)\n",
    "    img = np.array(im)\n",
    "    ax.imshow(img)\n",
    "    del img\n",
    "    del im\n",
    "    return ax\n",
    "\n",
    "\n",
    "def process_mapper(sel_sbjs, sel_mappers, index=0, show_grid=False):\n",
    "    savepath = os.path.join(res_path, '{}-{}Mappers_v{}-{}'.format(\n",
    "        '_'.join(sel_sbjs), len(sel_mappers), index, fname))\n",
    "#     if os.path.isfile(savepath):\n",
    "#         return\n",
    "    \n",
    "    ncols = len(sel_mappers)\n",
    "    nrows = len(sel_sbjs)\n",
    "    fsize = 20\n",
    "\n",
    "    fig, axr = plt.subplots(nrows=nrows, ncols=ncols, figsize=(fsize * (ncols/nrows)*1.35,fsize))\n",
    "\n",
    "    linestyle = (0, (1, 10)) # dashed \n",
    "    index = 0\n",
    "    for r,(sbj, axc) in enumerate(zip(sel_sbjs, axr)):\n",
    "        for c,(mapper, ax) in enumerate(zip(sel_mappers, axc)):\n",
    "            # Disable ax defaults\n",
    "            ax.tick_params(left=False, bottom=False, labelleft=False, labelbottom=False)\n",
    "            if show_grid:\n",
    "                ax.spines['top'].set_linestyle(linestyle)# .set_visible(False)\n",
    "                ax.spines['right'].set_linestyle(linestyle)# .set_visible(False)\n",
    "                ax.spines['bottom'].set_linestyle(linestyle)# .set_visible(False)\n",
    "                ax.spines['left'].set_linestyle(linestyle)# .set_visible(False)\n",
    "            else:\n",
    "                ax.spines['top'].set_visible(False)\n",
    "                ax.spines['right'].set_visible(False)\n",
    "                ax.spines['bottom'].set_visible(False)\n",
    "                ax.spines['left'].set_visible(False)\n",
    "            \n",
    "            ax.grid(False)\n",
    "\n",
    "            # get sbj and img_path and plot\n",
    "            if index >= len(sbjs):\n",
    "                continue\n",
    "            img_path = os.path.join(main_path, sbj, mapper, fname)\n",
    "\n",
    "            plot_image(img_path, ax)\n",
    "            index += 1\n",
    "\n",
    "    plt.tight_layout()\n",
    "#     plt.show()\n",
    "    plt.savefig(savepath, dpi=150)\n",
    "    plt.close(fig)\n"
   ]
  },
  {
   "cell_type": "code",
   "execution_count": 47,
   "metadata": {},
   "outputs": [],
   "source": [
    "K = '12'\n",
    "\n",
    "sel_mappers = ['BDLMapper_{}_20_40', 'BDLMapper_{}_30_40', 'BDLMapper_{}_30_60',\n",
    "               'BDLMapper_{}_10_60', 'BDLMapper_{}_10_90']\n",
    "sel_mappers = [m.format(K) for m in sel_mappers]\n",
    "sel_sbjs = ['SBJ01', 'SBJ07', 'SBJ14']\n",
    "\n",
    "process_mapper(sel_sbjs, sel_mappers)"
   ]
  },
  {
   "cell_type": "code",
   "execution_count": null,
   "metadata": {
    "collapsed": true
   },
   "outputs": [],
   "source": []
  },
  {
   "cell_type": "code",
   "execution_count": null,
   "metadata": {
    "collapsed": true
   },
   "outputs": [],
   "source": []
  },
  {
   "cell_type": "code",
   "execution_count": null,
   "metadata": {
    "collapsed": true
   },
   "outputs": [],
   "source": []
  },
  {
   "cell_type": "code",
   "execution_count": null,
   "metadata": {
    "collapsed": true
   },
   "outputs": [],
   "source": []
  },
  {
   "cell_type": "code",
   "execution_count": null,
   "metadata": {
    "collapsed": true
   },
   "outputs": [],
   "source": []
  },
  {
   "cell_type": "markdown",
   "metadata": {},
   "source": [
    "### For W3C"
   ]
  },
  {
   "cell_type": "code",
   "execution_count": 1,
   "metadata": {},
   "outputs": [],
   "source": [
    "import os\n",
    "import matplotlib.pyplot as plt\n",
    "import numpy as np\n",
    "\n",
    "# mapper_config = 'mappers_w3cv4_reg.json'\n",
    "# main_path = '/scratch/groups/saggar/demapper-w3c/{}'.format(mapper_config)\n",
    "# res_path = '/scratch/groups/saggar/demapper-w3c/analysis/{}/plot_task-grids'.format(mapper_config)\n",
    "\n",
    "mapper_config = 'mappers_w3cv8embed_disp'\n",
    "main_path = '/Users/dh/workspace/BDL/demapper/results/w3c_hightr3/{}/'.format(mapper_config)\n",
    "res_path = '/Users/dh/workspace/BDL/demapper/results/w3c_hightr3/analysis/{}/'.format(mapper_config)\n",
    "os.makedirs(res_path, exist_ok=True)\n",
    "\n",
    "fname = 'plot_task-G.png'\n",
    "sbjs = sorted([s for s in os.listdir(main_path) if s.startswith('SBJ')])\n",
    "mappers = sorted([[m] + [int(k) for k in m.split('_')[1:]]\n",
    "                  for m in os.listdir(os.path.join(main_path, sbjs[0]))\n",
    "                  if 'Mapper' in m])\n",
    "\n"
   ]
  },
  {
   "cell_type": "code",
   "execution_count": 2,
   "metadata": {},
   "outputs": [],
   "source": [
    "import pandas as pd\n",
    "\n",
    "df = pd.DataFrame(data=mappers, columns=['mapper', 'K', 'R', 'G'])"
   ]
  },
  {
   "cell_type": "code",
   "execution_count": null,
   "metadata": {},
   "outputs": [],
   "source": []
  },
  {
   "cell_type": "code",
   "execution_count": 9,
   "metadata": {},
   "outputs": [],
   "source": [
    "import math\n",
    "from PIL import Image\n",
    "import seaborn as sns\n",
    "\n",
    "sns.set(style = \"whitegrid\")\n",
    "\n",
    "def plot_image(img_path, ax):\n",
    "    im = Image.open(img_path)\n",
    "    img = np.array(im)\n",
    "    ax.imshow(img)\n",
    "    del img\n",
    "    del im\n",
    "    return ax\n",
    "\n",
    "def filter_dataframe(df, filters):\n",
    "    df_filter = None\n",
    "    for fi, (key, vals) in enumerate(filters.items()):\n",
    "        df_f = df[key] == vals[0]\n",
    "        for i in range(1, len(vals)):\n",
    "            df_f = (df_f | (df[key] == vals[i]))\n",
    "        if fi == 0:\n",
    "            df_filter = df_f\n",
    "        else:\n",
    "            df_filter = (df_f & df_filter)\n",
    "        \n",
    "    df_filtered = df[df_filter]\n",
    "    return df_filtered\n",
    "\n",
    "def mappers_grid(df, sbj, fname, x_field, x_vals, y_field, y_vals, prefix=''):\n",
    "    savepath = os.path.join(res_path, '{}-{}{}'.format(sbj, prefix, fname))\n",
    "#     if os.path.isfile(savepath):\n",
    "#         return\n",
    "    \n",
    "    ncols = len(x_vals)\n",
    "    nrows = len(y_vals)\n",
    "    fsize = 20\n",
    "\n",
    "    fig, axr = plt.subplots(nrows=nrows, ncols=ncols, figsize=(fsize * (ncols/nrows)*1.1,fsize))\n",
    "\n",
    "    for r,(yval, axc) in enumerate(zip(y_vals, axr)):\n",
    "        for c,(xval, ax) in enumerate(zip(x_vals, axc)):\n",
    "            # Disable ax defaults\n",
    "            ax.tick_params(left=False, bottom=False, labelleft=False, labelbottom=False)\n",
    "            ax.spines['top'].set_visible(False)\n",
    "            ax.spines['right'].set_visible(False)\n",
    "            ax.spines['bottom'].set_visible(False)\n",
    "            ax.spines['left'].set_visible(False)\n",
    "            ax.grid(False)\n",
    "            \n",
    "            fdf = filter_dataframe(df, {x_field: [xval], y_field: [yval]})\n",
    "#             print(fdf, {x_field: [xval], y_field: [yval]})\n",
    "            assert len(fdf) == 1\n",
    "            mapper = fdf['mapper'].to_numpy()[0]\n",
    "#             print(mapper)\n",
    "            \n",
    "            img_path = os.path.join(main_path, sbj, mapper, fname)\n",
    "            plot_image(img_path, ax)\n",
    "            if c == 0:\n",
    "                ax.set_ylabel(str(yval))\n",
    "            if r == len(y_vals)-1:\n",
    "                ax.set_xlabel(str(xval))\n",
    "#             ax.set_title(sbj)\n",
    "\n",
    "    plt.suptitle(mapper)\n",
    "    # plt.tight_layout()\n",
    "    fig.tight_layout(rect=[0, 0.03, 1, 0.95])\n",
    "#     plt.show()\n",
    "    plt.savefig(savepath, dpi=100)\n",
    "    plt.close(fig)\n"
   ]
  },
  {
   "cell_type": "code",
   "execution_count": 13,
   "metadata": {},
   "outputs": [],
   "source": [
    "\n",
    "for KVal in [4,6]:\n",
    "    df1 = df[df['K'] == KVal]\n",
    "    RVals = df1['R'].drop_duplicates()[::-1]\n",
    "    GVals = df1['G'].drop_duplicates()\n",
    "\n",
    "    mappers_grid(df1, sbjs[0], fname, 'G', GVals, 'R', RVals, prefix='K{}-'.format(KVal))"
   ]
  },
  {
   "cell_type": "code",
   "execution_count": null,
   "metadata": {},
   "outputs": [],
   "source": []
  },
  {
   "cell_type": "markdown",
   "metadata": {},
   "source": [
    "### Old code"
   ]
  },
  {
   "cell_type": "code",
   "execution_count": null,
   "metadata": {},
   "outputs": [],
   "source": []
  },
  {
   "cell_type": "code",
   "execution_count": 4,
   "metadata": {},
   "outputs": [],
   "source": [
    "import math\n",
    "from PIL import Image\n",
    "\n",
    "\n",
    "def plot_image(img_path, ax):\n",
    "    im = Image.open(img_path)\n",
    "    img = np.array(im)\n",
    "    ax.imshow(img)\n",
    "    del img\n",
    "    del im\n",
    "    return ax\n",
    "\n",
    "\n",
    "def process_mappers(picked_mappers):\n",
    "    savepath = os.path.join(res_path, '{}-{}'.format(mapper, fname))\n",
    "    if os.path.isfile(savepath):\n",
    "        return\n",
    "    \n",
    "    ncols = 5\n",
    "    nrows = math.ceil(len(sbjs) / ncols)\n",
    "    fsize = 20 \n",
    "\n",
    "    fig, axr = plt.subplots(nrows=nrows, ncols=ncols, figsize=(fsize * (ncols/nrows)*1.1,fsize))\n",
    "\n",
    "    index = 0\n",
    "    for r,axc in enumerate(axr):\n",
    "        for c,ax in enumerate(axc):\n",
    "            # Disable ax defaults\n",
    "            ax.tick_params(left=False, bottom=False, labelleft=False, labelbottom=False)\n",
    "            ax.spines['top'].set_visible(False)\n",
    "            ax.spines['right'].set_visible(False)\n",
    "            ax.spines['bottom'].set_visible(False)\n",
    "            ax.spines['left'].set_visible(False)\n",
    "            ax.grid(False)\n",
    "\n",
    "            # get sbj and img_path and plot\n",
    "            if index >= len(sbjs):\n",
    "                continue\n",
    "            sbj = sbjs[index]\n",
    "            img_path = os.path.join(main_path, sbj, mapper, fname)\n",
    "\n",
    "            plot_image(img_path, ax)\n",
    "            ax.set_title(sbj)\n",
    "            index += 1\n",
    "\n",
    "    plt.suptitle(mapper)\n",
    "    # plt.tight_layout()\n",
    "    fig.tight_layout(rect=[0, 0.03, 1, 0.95])\n",
    "    # plt.show()\n",
    "    plt.savefig(savepath, dpi=100)\n",
    "    plt.close(fig)\n"
   ]
  },
  {
   "cell_type": "code",
   "execution_count": 18,
   "metadata": {},
   "outputs": [],
   "source": [
    "mapper = mappers[0]\n",
    "process_mapper(mapper)"
   ]
  },
  {
   "cell_type": "code",
   "execution_count": 19,
   "metadata": {},
   "outputs": [],
   "source": [
    "from tqdm import tqdm\n",
    "\n",
    "for mapper in tqdm(mappers):\n",
    "    process_mapper(mapper)"
   ]
  }
 ],
 "metadata": {
  "kernelspec": {
   "display_name": "Python 3 (ipykernel)",
   "language": "python",
   "name": "python3"
  },
  "language_info": {
   "codemirror_mode": {
    "name": "ipython",
    "version": 3
   },
   "file_extension": ".py",
   "mimetype": "text/x-python",
   "name": "python",
   "nbconvert_exporter": "python",
   "pygments_lexer": "ipython3",
   "version": "3.9.1"
  }
 },
 "nbformat": 4,
 "nbformat_minor": 2
}
