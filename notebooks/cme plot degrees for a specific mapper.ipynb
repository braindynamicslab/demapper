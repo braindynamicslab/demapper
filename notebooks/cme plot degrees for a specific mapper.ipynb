{
 "cells": [
  {
   "cell_type": "code",
   "execution_count": null,
   "metadata": {},
   "outputs": [],
   "source": [
    "import os\n",
    "import matplotlib.pyplot as plt\n",
    "import numpy as np\n",
    "\n",
    "main_path = '/scratch/groups/saggar/demapper-cme/mappers_cmev5MH.json'\n",
    "mapper = 'BDLMapperMH_wtd-pen_8_30_50_4'\n",
    "\n",
    "# main_path = '/scratch/groups/saggar/demapper-cme/mappers_cmev4.json'\n",
    "# mapper = 'NeuMapper_12_100_26'\n",
    "\n",
    "\n",
    "fname = 'stats_degrees_TRs.1D'\n",
    "sbjs = sorted([s for s in os.listdir(main_path) if s.startswith('SBJ')])\n",
    "\n",
    "degs = {}\n",
    "for sbj in sbjs:\n",
    "    fpath = os.path.join(main_path, sbj, mapper, fname)\n",
    "    degs_list = []\n",
    "    with open(fpath) as f:\n",
    "        for line in f:\n",
    "            degs_list.append(int(line))\n",
    "    degs[sbj] = np.array(degs_list)\n",
    "            \n",
    "print(len(degs))"
   ]
  },
  {
   "cell_type": "code",
   "execution_count": null,
   "metadata": {
    "scrolled": false
   },
   "outputs": [],
   "source": [
    "\n",
    "X = np.array(range(1, 1018))\n",
    "\n",
    "for i in range(6):\n",
    "    plt.figure(figsize=(30,10))\n",
    "\n",
    "    sub_sbjs= sbjs[3*i:3*i+3]\n",
    "\n",
    "    for s in sub_sbjs:\n",
    "        plt.plot(X, degs[s])\n",
    "\n",
    "    plt.legend(sub_sbjs)\n",
    "    plt.show()"
   ]
  },
  {
   "cell_type": "code",
   "execution_count": null,
   "metadata": {
    "collapsed": true
   },
   "outputs": [],
   "source": [
    "def normalize(arr):\n",
    "    A = arr - np.min(arr)\n",
    "    return A / np.max(arr)"
   ]
  },
  {
   "cell_type": "code",
   "execution_count": null,
   "metadata": {},
   "outputs": [],
   "source": [
    "sum_degs = np.zeros_like(degs['SBJ01'])\n",
    "\n",
    "for sbj in sbjs:\n",
    "    sum_degs += degs[sbj]\n",
    "                  \n",
    "        \n",
    "plt.figure(figsize=(30,10))\n",
    "plt.plot(normalize(sum_degs / len(sbjs)))\n",
    "plt.show()"
   ]
  },
  {
   "cell_type": "code",
   "execution_count": null,
   "metadata": {},
   "outputs": [],
   "source": [
    "sum_degs = np.zeros(degs['SBJ01'].shape)\n",
    "\n",
    "for sbj in sbjs:\n",
    "    sum_degs += normalize(degs[sbj])\n",
    "        \n",
    "plt.figure(figsize=(30,10))\n",
    "plt.plot(sum_degs / len(sbjs))\n",
    "plt.show()"
   ]
  },
  {
   "cell_type": "code",
   "execution_count": null,
   "metadata": {
    "collapsed": true
   },
   "outputs": [],
   "source": []
  }
 ],
 "metadata": {
  "kernelspec": {
   "display_name": "Python 3 (ipykernel)",
   "language": "python",
   "name": "python3"
  },
  "language_info": {
   "codemirror_mode": {
    "name": "ipython",
    "version": 3
   },
   "file_extension": ".py",
   "mimetype": "text/x-python",
   "name": "python",
   "nbconvert_exporter": "python",
   "pygments_lexer": "ipython3",
   "version": "3.9.1"
  }
 },
 "nbformat": 4,
 "nbformat_minor": 2
}
