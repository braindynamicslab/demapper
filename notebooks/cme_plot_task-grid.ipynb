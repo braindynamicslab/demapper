{
 "cells": [
  {
   "cell_type": "code",
   "execution_count": 11,
   "metadata": {
    "collapsed": true
   },
   "outputs": [],
   "source": [
    "import os\n",
    "import matplotlib.pyplot as plt\n",
    "import numpy as np\n",
    "\n",
    "mapper_config = 'mappers_cmev4_euc.json'\n",
    "main_path = '/scratch/groups/saggar/demapper-cme/{}'.format(mapper_config)\n",
    "res_path = '/scratch/groups/saggar/demapper-cme/analysis/ch8_{}/plot_task-grids'.format(mapper_config)\n",
    "os.makedirs(res_path, exist_ok=True)\n",
    "\n",
    "\n",
    "fname = 'plot_task-CME.png'\n",
    "sbjs = sorted([s for s in os.listdir(main_path) if s.startswith('SBJ')])\n",
    "mappers = sorted([m for m in os.listdir(os.path.join(main_path, sbjs[0])) if 'Mapper' in m])\n",
    "\n"
   ]
  },
  {
   "cell_type": "code",
   "execution_count": 12,
   "metadata": {},
   "outputs": [],
   "source": [
    "import math\n",
    "from PIL import Image\n",
    "\n",
    "\n",
    "def plot_image(img_path, ax):\n",
    "    im = Image.open(img_path)\n",
    "    img = np.array(im)\n",
    "    ax.imshow(img)\n",
    "    del img\n",
    "    del im\n",
    "    return ax\n",
    "\n",
    "\n",
    "def process_mapper(mapper):\n",
    "    savepath = os.path.join(res_path, '{}-{}'.format(mapper, fname))\n",
    "    if os.path.isfile(savepath):\n",
    "        return\n",
    "    \n",
    "    ncols = 5\n",
    "    nrows = math.ceil(len(sbjs) / ncols)\n",
    "    fsize = 20 \n",
    "\n",
    "    fig, axr = plt.subplots(nrows=nrows, ncols=ncols, figsize=(fsize * (ncols/nrows)*1.1,fsize))\n",
    "\n",
    "    index = 0\n",
    "    for r,axc in enumerate(axr):\n",
    "        for c,ax in enumerate(axc):\n",
    "            # Disable ax defaults\n",
    "            ax.tick_params(left=False, bottom=False, labelleft=False, labelbottom=False)\n",
    "            ax.spines['top'].set_visible(False)\n",
    "            ax.spines['right'].set_visible(False)\n",
    "            ax.spines['bottom'].set_visible(False)\n",
    "            ax.spines['left'].set_visible(False)\n",
    "            ax.grid(False)\n",
    "\n",
    "            # get sbj and img_path and plot\n",
    "            if index >= len(sbjs):\n",
    "                continue\n",
    "            sbj = sbjs[index]\n",
    "            img_path = os.path.join(main_path, sbj, mapper, fname)\n",
    "\n",
    "            plot_image(img_path, ax)\n",
    "            ax.set_title(sbj)\n",
    "            index += 1\n",
    "\n",
    "    plt.suptitle(mapper)\n",
    "    # plt.tight_layout()\n",
    "    fig.tight_layout(rect=[0, 0.03, 1, 0.95])\n",
    "    # plt.show()\n",
    "    plt.savefig(savepath, dpi=100)\n",
    "    plt.close(fig)\n"
   ]
  },
  {
   "cell_type": "code",
   "execution_count": 13,
   "metadata": {},
   "outputs": [],
   "source": [
    "mapper = mappers[0]\n",
    "process_mapper(mapper)"
   ]
  },
  {
   "cell_type": "code",
   "execution_count": 14,
   "metadata": {},
   "outputs": [
    {
     "name": "stderr",
     "output_type": "stream",
     "text": [
      "100%|██████████| 539/539 [24:57<00:00,  2.78s/it]  \n"
     ]
    }
   ],
   "source": [
    "from tqdm import tqdm\n",
    "\n",
    "for mapper in tqdm(mappers):\n",
    "    process_mapper(mapper)"
   ]
  },
  {
   "cell_type": "code",
   "execution_count": null,
   "metadata": {
    "collapsed": true
   },
   "outputs": [],
   "source": []
  }
 ],
 "metadata": {
  "kernelspec": {
   "display_name": "Python 3 (ipykernel)",
   "language": "python",
   "name": "python3"
  },
  "language_info": {
   "codemirror_mode": {
    "name": "ipython",
    "version": 3
   },
   "file_extension": ".py",
   "mimetype": "text/x-python",
   "name": "python",
   "nbconvert_exporter": "python",
   "pygments_lexer": "ipython3",
   "version": "3.9.1"
  }
 },
 "nbformat": 4,
 "nbformat_minor": 2
}
