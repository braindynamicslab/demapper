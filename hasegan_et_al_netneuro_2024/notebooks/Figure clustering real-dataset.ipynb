{
 "cells": [
  {
   "cell_type": "markdown",
   "id": "5948f0d4",
   "metadata": {},
   "source": [
    "This is the notebook to use to generate a figure. \n",
    "For this, you need to have to have the following: \n",
    "- the real dataset (cme)\n",
    "- the set `.env` at the root with `$WORKSPACE` and `$DEMAPPER`"
   ]
  },
  {
   "cell_type": "markdown",
   "id": "c6e2c6ba",
   "metadata": {},
   "source": [
    "## Step 1) run the Mappers on the configs\n",
    "\n",
    "The following script will generate the Mapper results, shape graphs, plots, and stats for each configuration set in the configuration.\n",
    "We will run two sets of DeMapper configurations (they will run for a while):\n",
    "\n",
    "```\n",
    "./code/utils/run_mapper.sh --poolsize 4 mappers_cme_clust1.json cme\n",
    "\n",
    "```\n"
   ]
  },
  {
   "cell_type": "markdown",
   "id": "e32e662f",
   "metadata": {},
   "source": [
    "## Step 2) Analyze the created Mappers graphs (delay times, ...)\n",
    "\n",
    "Once all the mappers have been computed for the configs, you should analyze the shape graphs based on the delay times criteria and the other statistics:\n",
    "\n",
    "\n",
    "```\n",
    "CONF=mappers_cme_clust1.json\n",
    "```\n",
    "\n",
    "Run the below for each of the above configurations:\n",
    "\n",
    "```\n",
    "source .env\n",
    "# module load matlab # Maybe run this if you are running in SLURM\n",
    "DATAFOLDER=\"$WORKSPACE/results/cme/${CONF}/\"\n",
    "FN_TIMING=\"$WORKSPACE/data/cme/timing.csv\"\n",
    "OUTPUT_DIR=\"$WORKSPACE/results/cme/analysis/${CONF}/\"\n",
    "STAT_TYPE=\"compute_degrees_from_TCM\"\n",
    "CHANGE_POINTS=10\n",
    "HAS_INSTRUCTIONS=1;\n",
    "ARGS=\"datafolder='${DATAFOLDER}'; fn_timing='${FN_TIMING}'; output_dir='${OUTPUT_DIR}'; stat_type='${STAT_TYPE}';\"\n",
    "ARGS=\"$ARGS HAS_INSTRUCTIONS=${HAS_INSTRUCTIONS}; CHANGE_POINTS=${CHANGE_POINTS};\"\n",
    "matlab -nodesktop -r \"${ARGS} run('$WORKSPACE/code/cme/deg_analysis_sbjs.m')\"\n",
    "```\n",
    "\n",
    "For the rest of the criteria, run the following python script:\n",
    "\n",
    "```\n",
    "python3 $WORKSPACE/code/utils/cache.py compute_stats \\\n",
    "    $WORKSPACE/data/cme/shine/cohort.csv \\\n",
    "    $WORKSPACE/results/cme/${CONF}/ \\\n",
    "    --output_dir $WORKSPACE/results/cme/analysis/${CONF}/\n",
    "```\n",
    "\n",
    "The above two commands will generate tables of stats within `analysis/${CONF}` directory. "
   ]
  },
  {
   "cell_type": "markdown",
   "id": "9fc18cb2",
   "metadata": {},
   "source": [
    "## Step 3) Generate the figures"
   ]
  },
  {
   "cell_type": "code",
   "execution_count": 4,
   "id": "fbf0acc3",
   "metadata": {},
   "outputs": [],
   "source": [
    "import csv\n",
    "import os\n",
    "import math\n",
    "import numpy as np\n",
    "from tqdm import tqdm\n",
    "\n",
    "import matplotlib.pyplot as plt\n",
    "import pandas as pd\n",
    "import seaborn as sns\n",
    "from IPython.display import Image as IPyImage, display\n",
    "from PIL import Image\n",
    "from scipy.stats import f_oneway\n",
    "\n",
    "sns.set(rc={'figure.facecolor':'white'})\n",
    "\n",
    "# demapper imports for the analysis\n",
    "from code.utils.analyze import extract_dataset, _handle_list_cols\n",
    "from code.utils.config_cme import DATASETS, FILTERS\n",
    "from code.utils.config_mapper import extract_params_f\n",
    "from code.utils.plot_grids import plot_grid_params\n",
    "from code.utils.utils import filter_dataframe, count_passing, add_col_passing"
   ]
  },
  {
   "cell_type": "markdown",
   "id": "36eba13e",
   "metadata": {},
   "source": [
    "### Figure (a)"
   ]
  },
  {
   "cell_type": "code",
   "execution_count": 19,
   "id": "5d6a80b6",
   "metadata": {},
   "outputs": [
    {
     "name": "stdout",
     "output_type": "stream",
     "text": [
      "len(stats):  2000\n",
      "len(results):  2000\n",
      "len(stats):  2000\n",
      "len(results):  2000\n"
     ]
    },
    {
     "data": {
      "text/html": [
       "<div>\n",
       "<style scoped>\n",
       "    .dataframe tbody tr th:only-of-type {\n",
       "        vertical-align: middle;\n",
       "    }\n",
       "\n",
       "    .dataframe tbody tr th {\n",
       "        vertical-align: top;\n",
       "    }\n",
       "\n",
       "    .dataframe thead th {\n",
       "        text-align: right;\n",
       "    }\n",
       "</style>\n",
       "<table border=\"1\" class=\"dataframe\">\n",
       "  <thead>\n",
       "    <tr style=\"text-align: right;\">\n",
       "      <th></th>\n",
       "      <th>Mapper</th>\n",
       "      <th>K</th>\n",
       "      <th>R</th>\n",
       "      <th>G</th>\n",
       "      <th>linkbins</th>\n",
       "      <th>ChangePointsIndicesError</th>\n",
       "      <th>ChangePointsCount</th>\n",
       "      <th>assortativity-mean</th>\n",
       "      <th>assortativity-std</th>\n",
       "      <th>coverage_TRs-mean</th>\n",
       "      <th>...</th>\n",
       "      <th>degree_TRs_entropy-mean</th>\n",
       "      <th>degree_TRs_entropy-std</th>\n",
       "      <th>distances_entropy-mean</th>\n",
       "      <th>distances_entropy-std</th>\n",
       "      <th>distances_max-mean</th>\n",
       "      <th>distances_max-std</th>\n",
       "      <th>hrfdur_stat-mean</th>\n",
       "      <th>hrfdur_stat-std</th>\n",
       "      <th>name</th>\n",
       "      <th>clustEps</th>\n",
       "    </tr>\n",
       "  </thead>\n",
       "  <tbody>\n",
       "    <tr>\n",
       "      <th>1582</th>\n",
       "      <td>ClustLinkBDLMapper_4_30_30_20</td>\n",
       "      <td>4</td>\n",
       "      <td>30</td>\n",
       "      <td>30</td>\n",
       "      <td>20.0</td>\n",
       "      <td>21.714286</td>\n",
       "      <td>10.0</td>\n",
       "      <td>0.110940</td>\n",
       "      <td>0.123161</td>\n",
       "      <td>0.712444</td>\n",
       "      <td>...</td>\n",
       "      <td>4.391283</td>\n",
       "      <td>0.310478</td>\n",
       "      <td>4.616798</td>\n",
       "      <td>0.482592</td>\n",
       "      <td>35.944444</td>\n",
       "      <td>13.166232</td>\n",
       "      <td>0.257002</td>\n",
       "      <td>0.154908</td>\n",
       "      <td>Linkage_bins=20</td>\n",
       "      <td>NaN</td>\n",
       "    </tr>\n",
       "    <tr>\n",
       "      <th>1328</th>\n",
       "      <td>ClustLinkBDLMapper_32_15_50_10</td>\n",
       "      <td>32</td>\n",
       "      <td>15</td>\n",
       "      <td>50</td>\n",
       "      <td>10.0</td>\n",
       "      <td>9.285714</td>\n",
       "      <td>10.0</td>\n",
       "      <td>-0.183431</td>\n",
       "      <td>0.070007</td>\n",
       "      <td>0.957173</td>\n",
       "      <td>...</td>\n",
       "      <td>5.247194</td>\n",
       "      <td>0.569049</td>\n",
       "      <td>3.670074</td>\n",
       "      <td>0.204876</td>\n",
       "      <td>20.722222</td>\n",
       "      <td>4.687977</td>\n",
       "      <td>0.152972</td>\n",
       "      <td>0.047015</td>\n",
       "      <td>Linkage_bins=10</td>\n",
       "      <td>NaN</td>\n",
       "    </tr>\n",
       "    <tr>\n",
       "      <th>222</th>\n",
       "      <td>ClustDBSCANBDLMapper_24_15_30_4</td>\n",
       "      <td>24</td>\n",
       "      <td>15</td>\n",
       "      <td>30</td>\n",
       "      <td>NaN</td>\n",
       "      <td>5.000000</td>\n",
       "      <td>10.0</td>\n",
       "      <td>0.285015</td>\n",
       "      <td>0.151421</td>\n",
       "      <td>0.841473</td>\n",
       "      <td>...</td>\n",
       "      <td>4.160951</td>\n",
       "      <td>0.259579</td>\n",
       "      <td>3.394743</td>\n",
       "      <td>0.288065</td>\n",
       "      <td>13.500000</td>\n",
       "      <td>2.595245</td>\n",
       "      <td>0.435344</td>\n",
       "      <td>0.176861</td>\n",
       "      <td>DBSCAN_Eps=4</td>\n",
       "      <td>4.0</td>\n",
       "    </tr>\n",
       "    <tr>\n",
       "      <th>1142</th>\n",
       "      <td>ClustLinkBDLMapper_16_20_30_20</td>\n",
       "      <td>16</td>\n",
       "      <td>20</td>\n",
       "      <td>30</td>\n",
       "      <td>20.0</td>\n",
       "      <td>5.714286</td>\n",
       "      <td>10.0</td>\n",
       "      <td>-0.096694</td>\n",
       "      <td>0.103871</td>\n",
       "      <td>0.586584</td>\n",
       "      <td>...</td>\n",
       "      <td>4.893452</td>\n",
       "      <td>0.601211</td>\n",
       "      <td>3.072767</td>\n",
       "      <td>0.244876</td>\n",
       "      <td>14.388889</td>\n",
       "      <td>2.304443</td>\n",
       "      <td>0.063600</td>\n",
       "      <td>0.014348</td>\n",
       "      <td>Linkage_bins=20</td>\n",
       "      <td>NaN</td>\n",
       "    </tr>\n",
       "    <tr>\n",
       "      <th>84</th>\n",
       "      <td>ClustDBSCANBDLMapper_12_30_40_16</td>\n",
       "      <td>12</td>\n",
       "      <td>30</td>\n",
       "      <td>40</td>\n",
       "      <td>NaN</td>\n",
       "      <td>7.714286</td>\n",
       "      <td>10.0</td>\n",
       "      <td>0.412073</td>\n",
       "      <td>0.080945</td>\n",
       "      <td>0.874358</td>\n",
       "      <td>...</td>\n",
       "      <td>3.987424</td>\n",
       "      <td>0.286000</td>\n",
       "      <td>4.158758</td>\n",
       "      <td>0.276981</td>\n",
       "      <td>24.333333</td>\n",
       "      <td>5.258047</td>\n",
       "      <td>0.494652</td>\n",
       "      <td>0.078124</td>\n",
       "      <td>DBSCAN_Eps=16</td>\n",
       "      <td>16.0</td>\n",
       "    </tr>\n",
       "  </tbody>\n",
       "</table>\n",
       "<p>5 rows × 25 columns</p>\n",
       "</div>"
      ],
      "text/plain": [
       "                                Mapper   K   R   G  linkbins  \\\n",
       "1582     ClustLinkBDLMapper_4_30_30_20   4  30  30      20.0   \n",
       "1328    ClustLinkBDLMapper_32_15_50_10  32  15  50      10.0   \n",
       "222    ClustDBSCANBDLMapper_24_15_30_4  24  15  30       NaN   \n",
       "1142    ClustLinkBDLMapper_16_20_30_20  16  20  30      20.0   \n",
       "84    ClustDBSCANBDLMapper_12_30_40_16  12  30  40       NaN   \n",
       "\n",
       "      ChangePointsIndicesError  ChangePointsCount  assortativity-mean  \\\n",
       "1582                 21.714286               10.0            0.110940   \n",
       "1328                  9.285714               10.0           -0.183431   \n",
       "222                   5.000000               10.0            0.285015   \n",
       "1142                  5.714286               10.0           -0.096694   \n",
       "84                    7.714286               10.0            0.412073   \n",
       "\n",
       "      assortativity-std  coverage_TRs-mean  ...  degree_TRs_entropy-mean  \\\n",
       "1582           0.123161           0.712444  ...                 4.391283   \n",
       "1328           0.070007           0.957173  ...                 5.247194   \n",
       "222            0.151421           0.841473  ...                 4.160951   \n",
       "1142           0.103871           0.586584  ...                 4.893452   \n",
       "84             0.080945           0.874358  ...                 3.987424   \n",
       "\n",
       "      degree_TRs_entropy-std  distances_entropy-mean  distances_entropy-std  \\\n",
       "1582                0.310478                4.616798               0.482592   \n",
       "1328                0.569049                3.670074               0.204876   \n",
       "222                 0.259579                3.394743               0.288065   \n",
       "1142                0.601211                3.072767               0.244876   \n",
       "84                  0.286000                4.158758               0.276981   \n",
       "\n",
       "      distances_max-mean  distances_max-std  hrfdur_stat-mean  \\\n",
       "1582           35.944444          13.166232          0.257002   \n",
       "1328           20.722222           4.687977          0.152972   \n",
       "222            13.500000           2.595245          0.435344   \n",
       "1142           14.388889           2.304443          0.063600   \n",
       "84             24.333333           5.258047          0.494652   \n",
       "\n",
       "      hrfdur_stat-std             name  clustEps  \n",
       "1582         0.154908  Linkage_bins=20       NaN  \n",
       "1328         0.047015  Linkage_bins=10       NaN  \n",
       "222          0.176861     DBSCAN_Eps=4       4.0  \n",
       "1142         0.014348  Linkage_bins=20       NaN  \n",
       "84           0.078124    DBSCAN_Eps=16      16.0  \n",
       "\n",
       "[5 rows x 25 columns]"
      ]
     },
     "execution_count": 19,
     "metadata": {},
     "output_type": "execute_result"
    }
   ],
   "source": [
    "import random\n",
    "from scipy import stats\n",
    "\n",
    "\n",
    "sns.set(font_scale=1.5)\n",
    "sns.set_style(style='white')\n",
    "\n",
    "PICKED_DATASET = 'cme-clust1'\n",
    "datadir = DATASETS[PICKED_DATASET]\n",
    "stats_path = os.path.join(datadir, 'compute_stats-averaged.csv')\n",
    "results_path = os.path.join(datadir, 'compute_degrees_from_TCM/combined-compute_degrees_from_TCM.csv')\n",
    "\n",
    "filter_by = None\n",
    "df_link, _ = extract_dataset(stats_path, results_path, FILTERS[PICKED_DATASET][0], extract_params_f, has_sbj=False)\n",
    "df_dbscan, _ = extract_dataset(stats_path, results_path, FILTERS[PICKED_DATASET][1], extract_params_f, has_sbj=False)\n",
    "df_link['name'] = df_link.apply(lambda row: 'Linkage_bins={}'.format(row['linkbins']), axis=1)\n",
    "df_dbscan['name'] = df_dbscan.apply(lambda row: 'DBSCAN_Eps={}'.format(row['clustEps']), axis=1)\n",
    "\n",
    "target_metrics_limits = {\n",
    "    'ChangePointsIndicesError': [0, 12],\n",
    "    'coverage_nodes-mean': [0.7, 1.0],\n",
    "    'hrfdur_stat-mean': [0.15, 1.0],\n",
    "    'distances_entropy-mean': [2.0, 10000.0]\n",
    "}\n",
    "\n",
    "df = pd.concat([df_link, df_dbscan])\n",
    "\n",
    "resdir = datadir\n",
    "\n",
    "df.sample(5)"
   ]
  },
  {
   "cell_type": "code",
   "execution_count": 20,
   "id": "ef3641e3",
   "metadata": {},
   "outputs": [
    {
     "name": "stdout",
     "output_type": "stream",
     "text": [
      "max in counts_df: 22\n"
     ]
    }
   ],
   "source": [
    "\n",
    "clusts = df['name'].drop_duplicates().to_numpy()\n",
    "Kvals = df['K'].drop_duplicates().to_numpy()\n",
    "\n",
    "table = []\n",
    "for clust in clusts:\n",
    "    for k in sorted(Kvals):\n",
    "        fdf = filter_dataframe(df, { 'name': [clust], 'K': [k] })\n",
    "        cnt = count_passing(fdf, target_metrics_limits)\n",
    "        table.append({\n",
    "            'clust': clust,\n",
    "            'method': clust[:6] if 'DBSCAN' in clust else clust[:7],\n",
    "            'K': k,\n",
    "            'count': cnt,\n",
    "            'perc': cnt / len(fdf) * 100.0,\n",
    "        })\n",
    "\n",
    "\n",
    "counts_df = pd.DataFrame(data=table)\n",
    "\n",
    "print('max in counts_df:', counts_df['count'].max())\n"
   ]
  },
  {
   "cell_type": "code",
   "execution_count": 42,
   "id": "79b9e4a5",
   "metadata": {},
   "outputs": [
    {
     "data": {
      "image/png": "[encoded data removed]",
      "text/plain": [
       "<Figure size 288x504 with 1 Axes>"
      ]
     },
     "metadata": {},
     "output_type": "display_data"
    }
   ],
   "source": [
    "plt.figure(figsize=(4,7))\n",
    "\n",
    "sns.boxplot(data=counts_df, x='method', y='perc', order=['DBSCAN', 'Linkage'])\n",
    "plt.xlabel('')\n",
    "plt.ylabel('Percentage delay < 12 s')\n",
    "plt.grid(axis='y', alpha=0.2)\n",
    "plt.ylim([-5,100])\n",
    "plt.tight_layout()\n",
    "# plt.show()\n",
    "save_path = os.path.join(datadir, 'clust_methods.png')\n",
    "plt.savefig(save_path, dpi=300)"
   ]
  },
  {
   "cell_type": "code",
   "execution_count": 43,
   "id": "76b76b0c",
   "metadata": {},
   "outputs": [
    {
     "data": {
      "text/plain": [
       "Ttest_indResult(statistic=-5.198073587873185, pvalue=1.573594567899296e-06)"
      ]
     },
     "execution_count": 43,
     "metadata": {},
     "output_type": "execute_result"
    }
   ],
   "source": [
    "X_link = counts_df[counts_df['method'] == 'Linkage']['count'].to_numpy()\n",
    "X_dbscan = counts_df[counts_df['method'] == 'DBSCAN']['count'].to_numpy()\n",
    "# assert len(X_dbscan) == len(X_link)\n",
    "stats.ttest_ind(X_link, X_dbscan)"
   ]
  },
  {
   "cell_type": "code",
   "execution_count": 45,
   "id": "bd4b0d26",
   "metadata": {},
   "outputs": [
    {
     "data": {
      "image/png": "[encoded data removed]",
      "text/plain": [
       "<Figure size 432x432 with 1 Axes>"
      ]
     },
     "metadata": {},
     "output_type": "display_data"
    }
   ],
   "source": [
    "counts_df['name'] = counts_df.apply(lambda row: row['clust'].replace('Linkage_', '').replace('DBSCAN_', ''), axis=1)\n",
    "\n",
    "clust_order = [\n",
    " 'Eps=2',\n",
    " 'Eps=4',\n",
    " 'Eps=8',\n",
    " 'Eps=16',\n",
    " 'bins=5',\n",
    " 'bins=10',\n",
    " 'bins=15',\n",
    " 'bins=20',]\n",
    "\n",
    "cols = (['#5F74A0'] * 4) + (['#C28C69'] * 4)\n",
    "\n",
    "# WS1\n",
    "cdf = counts_df.sort_values(by='order')\n",
    "plt.figure(figsize=(6,6))\n",
    "ax = sns.boxplot(data=cdf, x='name', y='perc', order=clust_order, palette=cols, saturation=1.0) # , color='green'\n",
    "labels = ax.get_xticklabels()\n",
    "ax.set_xticklabels(labels, rotation=90)\n",
    "plt.xlabel('')\n",
    "plt.ylabel('Percentage delay < 12 s')\n",
    "plt.grid(axis='y')\n",
    "plt.ylim([-2.5, 100.0])\n",
    "# plt.legend(bbox_to_anchor=(1.05, 1.0), loc='upper left')\n",
    "# plt.title('Count of correct mapper graphs')\n",
    "plt.tight_layout()\n",
    "# plt.show()\n",
    "save_path = os.path.join(datadir, 'perf_clusts.png')\n",
    "plt.savefig(save_path, dpi=300)"
   ]
  },
  {
   "cell_type": "code",
   "execution_count": 62,
   "id": "9402603b",
   "metadata": {},
   "outputs": [
    {
     "name": "stdout",
     "output_type": "stream",
     "text": [
      "Linkage F_onewayResult(statistic=39.62675714978191, pvalue=1.692266634867536e-11)\n",
      "DBSCAN F_onewayResult(statistic=2.700641898463334, pvalue=0.06002191207498937)\n"
     ]
    }
   ],
   "source": [
    "# one way ANOVA for DBSCAN and Linkage\n",
    "ldf = counts_df[counts_df['method'] == 'Linkage']\n",
    "buckets = ldf['clust'].drop_duplicates().tolist()\n",
    "print('Linkage', f_oneway(*[ldf[ldf['clust'] == b]['perc'].tolist() for b in buckets]))\n",
    "\n",
    "ddf = counts_df[counts_df['method'] == 'DBSCAN']\n",
    "buckets = ddf['clust'].drop_duplicates().tolist()\n",
    "print('DBSCAN', f_oneway(*[ddf[ddf['clust'] == b]['perc'].tolist() for b in buckets]))"
   ]
  },
  {
   "cell_type": "code",
   "execution_count": 65,
   "id": "cdf56df3",
   "metadata": {},
   "outputs": [
    {
     "data": {
      "text/plain": [
       "Ttest_indResult(statistic=-0.3619354978199995, pvalue=0.721614342542614)"
      ]
     },
     "execution_count": 65,
     "metadata": {},
     "output_type": "execute_result"
    }
   ],
   "source": [
    "r1 = counts_df[counts_df['clust'] == 'Linkage_bins=5']['perc'].tolist()\n",
    "r2 = counts_df[counts_df['clust'] == 'DBSCAN_Eps=16']['perc'].tolist()\n",
    "stats.ttest_ind(r1, r2)"
   ]
  },
  {
   "cell_type": "code",
   "execution_count": null,
   "id": "d71802a8",
   "metadata": {},
   "outputs": [],
   "source": []
  }
 ],
 "metadata": {
  "kernelspec": {
   "display_name": "Python 3 (ipykernel)",
   "language": "python",
   "name": "python3"
  },
  "language_info": {
   "codemirror_mode": {
    "name": "ipython",
    "version": 3
   },
   "file_extension": ".py",
   "mimetype": "text/x-python",
   "name": "python",
   "nbconvert_exporter": "python",
   "pygments_lexer": "ipython3",
   "version": "3.9.1"
  }
 },
 "nbformat": 4,
 "nbformat_minor": 5
}
