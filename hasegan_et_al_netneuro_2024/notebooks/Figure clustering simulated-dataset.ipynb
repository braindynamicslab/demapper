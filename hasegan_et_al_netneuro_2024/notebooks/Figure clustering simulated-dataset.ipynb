{
 "cells": [
  {
   "cell_type": "markdown",
   "id": "5948f0d4",
   "metadata": {},
   "source": [
    "This is the notebook to use to generate a figure. \n",
    "For this, you need to have to have the following: \n",
    "- the simulated dataset (w3c)\n",
    "- the set `.env` at the root with `$WORKSPACE` and `$DEMAPPER`"
   ]
  },
  {
   "cell_type": "markdown",
   "id": "c6e2c6ba",
   "metadata": {},
   "source": [
    "## Step 1) run the Mappers on the configs\n",
    "\n",
    "The following script will generate the Mapper results, shape graphs, plots, and stats for each configuration set in the configuration.\n",
    "We will run two sets of DeMapper configurations (they will run for a while):\n",
    "\n",
    "```\n",
    "./code/utils/run_mapper.sh --poolsize 4 mappers_w3c_clust1.json w3c\n",
    "\n",
    "```\n"
   ]
  },
  {
   "cell_type": "markdown",
   "id": "e32e662f",
   "metadata": {},
   "source": [
    "## Step 2) Analyze the created Mappers graphs (circleness, ...)\n",
    "\n",
    "Once all the mappers have been computed for the configs, you should analyze the shape graphs based on the circleness criteria and the other statistics:\n",
    "\n",
    "```\n",
    "CONF=mappers_w3c_clust1.json\n",
    "```\n",
    "\n",
    "Run the below for each of the above configurations:\n",
    "\n",
    "```\n",
    "source .env\n",
    "# module load matlab # Maybe run this if you are running in SLURM\n",
    "COHORT_PATH=\"$WORKSPACE/data/w3c/cohort.csv\"\n",
    "DATAFOLDER=\"$WORKSPACE/results/w3c/${CONF}/\"\n",
    "OUTPUT_DIR=\"$WORKSPACE/results/w3c/analysis/${CONF}/\"\n",
    "ARGS=\"datafolder='${DATAFOLDER}'; cohort_path='${COHORT_PATH}'; output_dir='${OUTPUT_DIR}';\"\n",
    "matlab -nodesktop -r \"${ARGS} run('$WORKSPACE/code/w3c/circle_test_multitiming.m')\"\n",
    "\n",
    "```\n",
    "\n",
    "For the rest of the criteria, run the following python script:\n",
    "\n",
    "```\n",
    "python3 $WORKSPACE/code/utils/cache.py compute_stats \\\n",
    "    $WORKSPACE/data/w3c/cohort.csv \\\n",
    "    $WORKSPACE/results/w3c/${CONF}/ \\\n",
    "    --output_dir $WORKSPACE/results/w3c/analysis/${CONF}/\n",
    "```\n",
    "\n",
    "The above two commands will generate tables of stats within `analysis/${CONF}` directory. "
   ]
  },
  {
   "cell_type": "markdown",
   "id": "9fc18cb2",
   "metadata": {},
   "source": [
    "## Step 3) Generate the figures"
   ]
  },
  {
   "cell_type": "code",
   "execution_count": 1,
   "id": "fbf0acc3",
   "metadata": {},
   "outputs": [],
   "source": [
    "import csv\n",
    "import os\n",
    "import math\n",
    "import numpy as np\n",
    "from tqdm import tqdm\n",
    "\n",
    "import matplotlib.pyplot as plt\n",
    "import pandas as pd\n",
    "import seaborn as sns\n",
    "from IPython.display import Image as IPyImage, display\n",
    "from PIL import Image\n",
    "\n",
    "sns.set(rc={'figure.facecolor':'white'})\n",
    "\n",
    "# demapper imports for the analysis\n",
    "from code.utils.analyze import extract_dataset, get_all_parameters\n",
    "from code.utils.config_w3c import DATASETS, FILTERS\n",
    "from code.utils.config_mapper import extract_params_f\n",
    "from code.utils.utils import filter_dataframe, count_passing, add_col_passing\n",
    "from code.utils.plot_grids import plot_grid_params"
   ]
  },
  {
   "cell_type": "markdown",
   "id": "36eba13e",
   "metadata": {},
   "source": [
    "### Figure (a)"
   ]
  },
  {
   "cell_type": "code",
   "execution_count": 2,
   "id": "55a08bbc",
   "metadata": {},
   "outputs": [
    {
     "name": "stdout",
     "output_type": "stream",
     "text": [
      "len(stats):  2000\n",
      "len(results):  2000\n",
      "len(stats):  2000\n",
      "len(results):  2000\n"
     ]
    }
   ],
   "source": [
    "import random\n",
    "from scipy import stats\n",
    "\n",
    "\n",
    "sns.set(font_scale=1.5)\n",
    "sns.set_style(style='white')\n",
    "\n",
    "PICKED_DATASET = 'w3c-clust1'\n",
    "datadir = DATASETS[PICKED_DATASET]\n",
    "stats_path = os.path.join(datadir, 'compute_stats-combined.csv')\n",
    "results_path = os.path.join(datadir, 'scores-all.csv')\n",
    "\n",
    "# Extract geodesic distances mappers\n",
    "df_link, max_values1 = extract_dataset(stats_path, results_path, FILTERS[PICKED_DATASET][0], extract_params_f)\n",
    "df_dbscan, max_values2 = extract_dataset(stats_path, results_path, FILTERS[PICKED_DATASET][1], extract_params_f)\n",
    "TB_MAX = max(max_values1['TransitionBetweeness'], max_values2['TransitionBetweeness'])\n",
    "df_link.loc[df_link['TransitionBetweeness'] > max_values1['TransitionBetweeness'] * 0.99, 'TransitionBetweeness'] = TB_MAX\n",
    "df_dbscan.loc[df_dbscan['TransitionBetweeness'] > max_values2['TransitionBetweeness'] * 0.99, 'TransitionBetweeness'] = TB_MAX\n",
    "\n",
    "df_link['name'] = df_link.apply(lambda row: 'Linkage_bins={}'.format(row['linkbins']), axis=1)\n",
    "df_dbscan['name'] = df_dbscan.apply(lambda row: 'DBSCAN_Eps={}'.format(row['clustEps']), axis=1)\n",
    "\n",
    "target_metrics_limits = {\n",
    "    'TransitionBetweeness': [0, TB_MAX * 0.99], # Need the data first, add later\n",
    "    'coverage_nodes': [0.7, 1.0],\n",
    "    'distances_entropy': [2.0, 10000.0],\n",
    "    'hrfdur_stat': [0.15, 1.0],\n",
    "}\n",
    "\n",
    "df = pd.concat([df_link, df_dbscan])"
   ]
  },
  {
   "cell_type": "code",
   "execution_count": 3,
   "id": "23e4468e",
   "metadata": {},
   "outputs": [
    {
     "name": "stdout",
     "output_type": "stream",
     "text": [
      "max in counts_df: 22\n"
     ]
    }
   ],
   "source": [
    "\n",
    "clusts = df['name'].drop_duplicates().to_numpy()\n",
    "Kvals = df['K'].drop_duplicates().to_numpy()\n",
    "\n",
    "table = []\n",
    "for clust in clusts:\n",
    "    for k in sorted(Kvals):\n",
    "        fdf = filter_dataframe(df, { 'name': [clust], 'K': [k] })\n",
    "        cnt = count_passing(fdf, target_metrics_limits)\n",
    "        table.append({\n",
    "            'clust': clust,\n",
    "            'method': clust[:6] if 'DBSCAN' in clust else clust[:7],\n",
    "            'K': k,\n",
    "            'count': cnt,\n",
    "            'perc': cnt / len(fdf) * 100.0,\n",
    "        })\n",
    "\n",
    "\n",
    "counts_df = pd.DataFrame(data=table)\n",
    "\n",
    "print('max in counts_df:', counts_df['count'].max())\n"
   ]
  },
  {
   "cell_type": "code",
   "execution_count": 4,
   "id": "12213852",
   "metadata": {},
   "outputs": [
    {
     "data": {
      "image/png": "[encoded data removed]",
      "text/plain": [
       "<Figure size 288x504 with 1 Axes>"
      ]
     },
     "metadata": {},
     "output_type": "display_data"
    }
   ],
   "source": [
    "plt.figure(figsize=(4,7))\n",
    "\n",
    "sns.boxplot(data=counts_df, x='method', y='count', order=['DBSCAN', 'Linkage'])\n",
    "plt.xlabel('')\n",
    "plt.ylabel('Count of correct mapper graphs')\n",
    "plt.grid(axis='y', alpha=0.2)\n",
    "plt.ylim([-1,25])\n",
    "plt.tight_layout()\n",
    "# plt.show()\n",
    "save_path = os.path.join(datadir, 'clust_methods.png')\n",
    "plt.savefig(save_path, dpi=300)"
   ]
  },
  {
   "cell_type": "code",
   "execution_count": 5,
   "id": "43f64f17",
   "metadata": {},
   "outputs": [
    {
     "data": {
      "text/plain": [
       "Ttest_indResult(statistic=2.1392248875193833, pvalue=0.03554527901028086)"
      ]
     },
     "execution_count": 5,
     "metadata": {},
     "output_type": "execute_result"
    }
   ],
   "source": [
    "X_link = counts_df[counts_df['method'] == 'Linkage']['count'].to_numpy()\n",
    "X_dbscan = counts_df[counts_df['method'] == 'DBSCAN']['count'].to_numpy()\n",
    "# assert len(X_dbscan) == len(X_link)\n",
    "stats.ttest_ind(X_link, X_dbscan)"
   ]
  },
  {
   "cell_type": "code",
   "execution_count": null,
   "id": "8e69639b",
   "metadata": {},
   "outputs": [],
   "source": []
  }
 ],
 "metadata": {
  "kernelspec": {
   "display_name": "Python 3 (ipykernel)",
   "language": "python",
   "name": "python3"
  },
  "language_info": {
   "codemirror_mode": {
    "name": "ipython",
    "version": 3
   },
   "file_extension": ".py",
   "mimetype": "text/x-python",
   "name": "python",
   "nbconvert_exporter": "python",
   "pygments_lexer": "ipython3",
   "version": "3.9.1"
  }
 },
 "nbformat": 4,
 "nbformat_minor": 5
}
