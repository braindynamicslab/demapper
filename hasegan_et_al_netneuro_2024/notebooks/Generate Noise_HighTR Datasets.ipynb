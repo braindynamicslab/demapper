{
 "cells": [
  {
   "cell_type": "markdown",
   "id": "48104968-47b8-4ebe-95cb-a969402c924e",
   "metadata": {},
   "source": [
    "# Notebook to generate the datasets: `w3c-hightr` and `w3c-wnoise`"
   ]
  },
  {
   "cell_type": "code",
   "execution_count": null,
   "id": "8537fa27",
   "metadata": {},
   "outputs": [],
   "source": [
    "import numpy as np\n",
    "import os\n",
    "import csv\n",
    "from dotenv import load_dotenv\n",
    "\n",
    "load_dotenv()  # take environment variables from .env.\n",
    "\n",
    "basepath = os.path.join(os.environ['WORKSPACE'], 'data/w3c')\n",
    "\n",
    "path = os.path.join(basepath, 'SBJ99_bold.npy')\n",
    "bold = np.load(path)\n",
    "\n",
    "task_path = os.path.join(basepath, 'task_info_99.csv')\n",
    "tasks = []\n",
    "with open(task_path) as f:\n",
    "    for row in csv.DictReader(f):\n",
    "        tasks.append(row)\n"
   ]
  },
  {
   "cell_type": "markdown",
   "id": "747fc619",
   "metadata": {},
   "source": [
    "# Skip X TRs"
   ]
  },
  {
   "cell_type": "code",
   "execution_count": null,
   "id": "a155ec61",
   "metadata": {},
   "outputs": [],
   "source": [
    "import numpy as np\n",
    "import os\n",
    "import csv\n",
    "\n",
    "outpath = os.path.join(os.environ['WORKSPACE'], 'data/w3c-hightr')\n",
    "os.makedirs(outpath, exist_ok=True)\n",
    "\n",
    "path = os.path.join(basepath, 'SBJ99_bold.npy')\n",
    "bold = np.load(path)\n",
    "\n",
    "task_path = os.path.join(basepath, 'task_info_99.csv')\n",
    "tasks = []\n",
    "with open(task_path) as f:\n",
    "    for row in csv.DictReader(f):\n",
    "        tasks.append(row)\n"
   ]
  },
  {
   "cell_type": "code",
   "execution_count": null,
   "id": "9300c013",
   "metadata": {},
   "outputs": [],
   "source": [
    "def smooth(new_bold, window_size):\n",
    "    window = np.ones(int(window_size))/float(window_size)\n",
    "    new_bold = np.apply_along_axis(lambda row: np.convolve(row, window, 'same'), 0, new_bold)\n",
    "    return new_bold"
   ]
  },
  {
   "cell_type": "code",
   "execution_count": null,
   "id": "d4376d0a",
   "metadata": {},
   "outputs": [],
   "source": [
    "# Create new subjects by counting every X TRs (skip 1, skip 2, skip 3, ...)\n",
    "#\n",
    "# They will also all use the same task file since we didnt modify the length of the scan\n",
    "import random\n",
    "import math\n",
    "\n",
    "n_trs = bold.shape[0]\n",
    "task_header = ['task_name']\n",
    "\n",
    "TR = 0.72\n",
    "trs = {}\n",
    "subjects = {}\n",
    "\n",
    "for count_every in [1,2,3]:\n",
    "    for start_id in range(1):\n",
    "        for smooth_factor in [4]: # Smooth factor 4 only\n",
    "            trs_ids = list(range(start_id, n_trs, count_every))\n",
    "            sbjname = 'SBJe{}v{}ws{}'.format(count_every, start_id, smooth_factor)\n",
    "            new_bold = bold[trs_ids, :]\n",
    "            new_bold = smooth(new_bold, smooth_factor)\n",
    "            save_file = os.path.join(outpath, '{}_bold.npy'.format(sbjname))\n",
    "\n",
    "            np.save(save_file, new_bold)\n",
    "\n",
    "            task_path = 'task_info_SBJe{}v{}ws{}.csv'.format(count_every, start_id, smooth_factor)\n",
    "            with open(os.path.join(outpath, task_path), 'w') as out:\n",
    "                writer = csv.writer(out)\n",
    "                writer.writerow(task_header)\n",
    "                for tr_id in trs_ids:\n",
    "                    writer.writerow([tasks[tr_id][h] for h in task_header])\n",
    "\n",
    "            subjects[sbjname] = task_path\n",
    "            trs[sbjname] = TR * count_every\n",
    "        \n",
    "print(list(subjects.keys()))\n",
    "print(list(trs.keys()))"
   ]
  },
  {
   "cell_type": "code",
   "execution_count": null,
   "id": "69fe6e52",
   "metadata": {},
   "outputs": [],
   "source": [
    "import matplotlib.pyplot as plt\n",
    "import seaborn as sns\n",
    "for sbj in list(subjects.keys()):\n",
    "    new_bold = np.load(os.path.join(outpath, '{}_bold.npy'.format(sbj)))\n",
    "\n",
    "    plt.figure(figsize=(20, 5))\n",
    "    sns.heatmap(new_bold.T)\n",
    "    plt.title(sbj)\n",
    "    plt.show()"
   ]
  },
  {
   "cell_type": "markdown",
   "id": "b8c1ff4a",
   "metadata": {},
   "source": [
    "Write cohort file"
   ]
  },
  {
   "cell_type": "code",
   "execution_count": null,
   "id": "de86de10",
   "metadata": {},
   "outputs": [],
   "source": [
    "cohort_path = os.path.join(outpath, 'cohort.csv')\n",
    "\n",
    "cohort_header = ['id0', 'id1', 'id2', 'path', 'TR', 'task_path_G']\n",
    "\n",
    "with open(cohort_path, 'w') as out:\n",
    "    writer = csv.writer(out)\n",
    "    writer.writerow(cohort_header)\n",
    "    for sbjname, taskpath in subjects.items():\n",
    "        writer.writerow([sbjname, '', '', '{}_bold.npy'.format(sbjname), trs[sbjname], os.path.join(outpath, taskpath)])\n"
   ]
  },
  {
   "cell_type": "markdown",
   "id": "4f4778a0",
   "metadata": {},
   "source": [
    "# Add noise to the subjects"
   ]
  },
  {
   "cell_type": "code",
   "execution_count": null,
   "id": "b9038ec2",
   "metadata": {},
   "outputs": [],
   "source": [
    "outpath = os.path.join(os.environ['WORKSPACE'], 'data/w3c_wnoise2')\n",
    "bold.shape"
   ]
  },
  {
   "cell_type": "markdown",
   "id": "34de365e",
   "metadata": {},
   "source": [
    "Generate noise using fmrisim package. You might have to install the brainiak package using\n",
    "\n",
    "    pip install brainiak\n",
    "\n",
    "This was not installed by default for ease of installation, to avoid potential import errors for all users."
   ]
  },
  {
   "cell_type": "code",
   "execution_count": null,
   "id": "9a889da7",
   "metadata": {},
   "outputs": [],
   "source": [
    "from brainiak.utils import fmrisim\n",
    "\n",
    "bold2 = bold.T.reshape([66, 1, 1, 1667])\n",
    "dim = bold2.shape\n",
    "m = np.ones(dim[:3])\n",
    "\n",
    "noise_dict = {'voxel_size': [66, 1, 1], 'matched': 1}\n",
    "noise_dict = fmrisim.calc_noise(\n",
    "    volume=bold2,\n",
    "    mask=m,\n",
    "    template=m,\n",
    "    noise_dict=noise_dict)\n",
    "\n",
    "tr = 0.72\n",
    "for i in range(3): # This might take a while\n",
    "    noise = fmrisim.generate_noise(\n",
    "        dimensions=dim[0:3],\n",
    "        tr_duration=int(tr),\n",
    "        stimfunction_tr=[0] * dim[3], \n",
    "        mask=m,\n",
    "        template=m,\n",
    "        noise_dict=noise_dict,)\n",
    "    noise = noise[:, 0, 0, :] # shape (66, 1667)\n",
    "    np.save(os.path.join(outpath, f'noisebold{i}.npy'), noise)"
   ]
  },
  {
   "cell_type": "markdown",
   "id": "e8a362d3",
   "metadata": {},
   "source": [
    "The above brainiak script might take a while to generate. Instead, we use the previously generate noise from other runs"
   ]
  },
  {
   "cell_type": "code",
   "execution_count": null,
   "id": "87389560",
   "metadata": {},
   "outputs": [],
   "source": [
    "noisebold1 = np.load(os.path.join(outpath, 'noisebold1.npy')).T\n",
    "noisebold2 = np.load(os.path.join(outpath, 'noisebold2.npy')).T\n",
    "noisebold3 = np.load(os.path.join(outpath, 'noisebold3.npy')).T\n",
    "\n",
    "\"Shapes:\"\n",
    "for b in [bold, noisebold1, noisebold2, noisebold3]:\n",
    "    print(b.shape)"
   ]
  },
  {
   "cell_type": "code",
   "execution_count": null,
   "id": "d8dc4425",
   "metadata": {},
   "outputs": [],
   "source": [
    "import math\n",
    "import random\n",
    "\n",
    "def shuffle_parcels(mat):\n",
    "    parcels_indices = list(range(mat.shape[1]))\n",
    "    random.shuffle(parcels_indices)\n",
    "    return mat[:, parcels_indices]\n",
    "\n",
    "def add_prefix_zeros(s, cnt):\n",
    "    assert len(s) <= cnt\n",
    "    if len(s) == cnt:\n",
    "        return s\n",
    "    return '0' * (cnt - len(s)) + s"
   ]
  },
  {
   "cell_type": "code",
   "execution_count": null,
   "id": "5ee1ef95",
   "metadata": {},
   "outputs": [],
   "source": [
    "noise_all = np.concatenate([noisebold1, noisebold2, noisebold3], axis=1)\n",
    "mean_std_signal = np.mean(np.std(bold, axis=0))\n",
    "mean_std_noise = np.mean(np.std(noise_all, axis=0))\n",
    "noise_all = noise_all * mean_std_signal / mean_std_noise\n",
    "\n",
    "SNRs = [10.0, 5.0, 3.3, 2.5, 2.0, 1.3, 1.0, 0.8, 0.6, 0.5]\n",
    "# simulated after percentages for the percentage to be the amount of\n",
    "# noise std added to the BOLD signal\n",
    "\n",
    "signal_mean = np.mean(bold)\n",
    "std_noise = np.std(noise_all)\n",
    "\n",
    "n_parcels = bold.shape[1]\n",
    "subjects = []\n",
    "for snr in SNRs:\n",
    "    name = 'SBJ-SNR' + add_prefix_zeros(str(snr), 4)\n",
    "    noise_sampled = shuffle_parcels(noise_all)\n",
    "    noise_sampled = noise_sampled * signal_mean / snr / std_noise\n",
    "    bold_wnoise = bold + noise_sampled[:, 0:n_parcels]\n",
    "    bold_wnoise = shuffle_parcels(bold_wnoise)\n",
    "    np.save(os.path.join(outpath, '{}.npy'.format(name)), bold_wnoise)\n",
    "    subjects.append(name)\n"
   ]
  },
  {
   "cell_type": "code",
   "execution_count": null,
   "id": "004c3f91",
   "metadata": {},
   "outputs": [],
   "source": [
    "import matplotlib.pyplot as plt\n",
    "import seaborn as sns\n",
    "\n",
    "bold_wnoise = np.load(os.path.join(outpath, 'SBJ-SNR01.0.npy'))\n",
    "\n",
    "plt.figure(figsize=(20, 5))\n",
    "sns.heatmap(bold_wnoise.T)\n",
    "plt.show()"
   ]
  },
  {
   "cell_type": "markdown",
   "id": "79017c7c",
   "metadata": {},
   "source": [
    "Write cohort path"
   ]
  },
  {
   "cell_type": "code",
   "execution_count": null,
   "id": "3fac7f5a",
   "metadata": {},
   "outputs": [],
   "source": [
    "header = ['id0','id1','id2','path','TR']\n",
    "with open(os.path.join(outpath, 'cohort.csv'), 'w') as out:\n",
    "    writer = csv.writer(out)\n",
    "    writer.writerow(header)\n",
    "    for name in subjects:\n",
    "        writer.writerow([name,'','','{}.npy'.format(name),0.72])"
   ]
  },
  {
   "cell_type": "code",
   "execution_count": null,
   "id": "54f8988b",
   "metadata": {},
   "outputs": [],
   "source": []
  },
  {
   "cell_type": "code",
   "execution_count": null,
   "id": "e92c3cbb",
   "metadata": {},
   "outputs": [],
   "source": [
    "plt.figure(figsize=(20,4))\n",
    "plt.plot(noisebold2[:, 7])\n",
    "plt.show()"
   ]
  },
  {
   "cell_type": "code",
   "execution_count": null,
   "id": "03eba20e",
   "metadata": {},
   "outputs": [],
   "source": []
  }
 ],
 "metadata": {
  "kernelspec": {
   "display_name": "Python 3 (ipykernel)",
   "language": "python",
   "name": "python3"
  },
  "language_info": {
   "codemirror_mode": {
    "name": "ipython",
    "version": 3
   },
   "file_extension": ".py",
   "mimetype": "text/x-python",
   "name": "python",
   "nbconvert_exporter": "python",
   "pygments_lexer": "ipython3",
   "version": "3.9.1"
  }
 },
 "nbformat": 4,
 "nbformat_minor": 5
}
